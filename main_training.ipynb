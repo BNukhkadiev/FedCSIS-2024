{
 "cells": [
  {
   "cell_type": "code",
   "execution_count": 3,
   "id": "46b8cf2e-22b3-4f48-9f90-669b4f30f555",
   "metadata": {},
   "outputs": [],
   "source": [
    "import pandas as pd\n",
    "import numpy as np\n",
    "from sklearn.preprocessing import LabelEncoder, StandardScaler\n",
    "from sklearn.model_selection import train_test_split\n",
    "from sklearn.impute import SimpleImputer, KNNImputer\n",
    "from sklearn.decomposition import PCA\n",
    "from sklearn.metrics import confusion_matrix\n",
    "import cost_function\n"
   ]
  },
  {
   "cell_type": "code",
   "execution_count": 4,
   "id": "831ae44b-3477-4e15-90c7-cfa8f26eab31",
   "metadata": {},
   "outputs": [],
   "source": [
    "class DataTransformer():\n",
    "    def __init__(self, val_size=0.25,\n",
    "                 encodeTarget=False,\n",
    "                 dummies=False,\n",
    "                 composite_features=False,\n",
    "                 scaler=\"standard\",\n",
    "                 imputer=\"simple\",\n",
    "                 only_use_compounds=False):\n",
    "        \n",
    "        # self.group_dictionary = pd.read_csv('data/group_dictionary.csv', sep=';')\n",
    "        self.test_data_no_target = pd.read_csv('data/test_data_no_target.csv', sep=';', decimal=',')\n",
    "        self.training_data = pd.read_csv('data/training_data.csv', sep=';', decimal=',')\n",
    "        # self.column_names_dictionary = pd.read_csv('data/column_names_dictionary.csv', sep=';')\n",
    "\n",
    "        if encodeTarget:\n",
    "            self.labelEncodeTarget()\n",
    "\n",
    "        if dummies:\n",
    "            self.makeDummies()\n",
    "        \n",
    "        self.X = self.training_data.drop(columns=['Class','Perform'])  \n",
    "        self.y = self.training_data[['Class']]\n",
    "\n",
    "        \n",
    "        # collect cat_cols, bin_cols, num_cols\n",
    "        # num_cols are then used for scaling\n",
    "        # cat_cols are gonna be encoded\n",
    "        self.cat_cols = []\n",
    "        self.bin_cols = []\n",
    "        self.num_cols = []\n",
    "        for col in self.X.columns.tolist():\n",
    "            if len(self.X[col].value_counts()) > 2 and len(self.X[col].value_counts())<10:\n",
    "                self.cat_cols.append(col)\n",
    "            elif len(self.X[col].value_counts()) == 2:\n",
    "                self.bin_cols.append(col)\n",
    "            else:\n",
    "                self.num_cols.append(col)\n",
    "\n",
    "    \n",
    "        self.X_train, self.X_val, self.y_train, self.y_val = train_test_split(self.X, self.y, test_size=val_size, random_state=42)\n",
    "\n",
    "        if imputer == \"simple\":\n",
    "            self.simpleImpute(0)\n",
    "\n",
    "        if composite_features == True:\n",
    "            self.create_composite_features()\n",
    "            for col in self.X.columns.tolist():\n",
    "                if len(self.X[col].value_counts())>10:\n",
    "                    self.num_cols.append(col)\n",
    "        \n",
    "        if scaler == \"standard\":\n",
    "            self.standardScale()\n",
    "        \n",
    "        elif scaler == \"minmax\":\n",
    "            self.minMaxScale()\n",
    "\n",
    "        \n",
    "    \n",
    "    def get_X_train(self):\n",
    "        return self.X_train\n",
    "\n",
    "    \n",
    "    def get_y_train(self):\n",
    "        return self.y_train\n",
    "\n",
    "    \n",
    "    def get_X_val(self):\n",
    "        return self.X_val\n",
    "\n",
    "    \n",
    "    def get_y_val(self):\n",
    "        return self.y_val\n",
    "\n",
    "    \n",
    "    def makeDummies(self):\n",
    "        self.training_data = pd.concat((self.training_data.drop(columns=['Group']), pd.get_dummies(self.training_data['Group'])), axis=1)\n",
    "        self.test_data_no_target = pd.concat((self.test_data_no_target.drop(columns=['Group']), pd.get_dummies(self.test_data_no_target['Group'])), axis=1)\n",
    "        \n",
    "\n",
    "    def knnImpute(self):\n",
    "        self.knnImputer = KNNImputer(n_neighbors=4)\n",
    "        self.X_train[self.num_cols] = self.knnImputer.fit_transform(self.X_train[self.num_cols])\n",
    "        self.X_val[self.num_cols] = self.knnImputer.transform(self.X_val[self.num_cols])\n",
    "        self.test_data_no_target[self.num_cols] = self.knnImputer.transform(self.test_data_no_target[self.num_cols])\n",
    "\n",
    "\n",
    "    def simpleImpute(self, value):\n",
    "        self.simpleImputer = SimpleImputer(strategy='mean')\n",
    "        self.X_train[self.num_cols] = self.simpleImputer.fit_transform(self.X_train[self.num_cols])\n",
    "        self.X_val[self.num_cols] = self.simpleImputer.transform(self.X_val[self.num_cols])\n",
    "        self.test_data_no_target[self.num_cols] = self.simpleImputer.transform(self.test_data_no_target[self.num_cols])\n",
    "\n",
    "\n",
    "    def standardScale(self):\n",
    "        self.stdScaler = StandardScaler()\n",
    "        self.X_train[self.num_cols] = self.stdScaler.fit_transform(self.X_train[self.num_cols])\n",
    "        self.X_val[self.num_cols] = self.stdScaler.transform(self.X_val[self.num_cols])\n",
    "        self.test_data_no_target[self.num_cols] = self.stdScaler.transform(self.test_data_no_target[self.num_cols])\n",
    "        \n",
    "\n",
    "    def minMaxScale(self):\n",
    "        self.minMaxScale = MinMaxScaler()\n",
    "        self.X_train[self.num_cols] = self.minMaxScale.fit_transform(self.X_train[self.num_cols])\n",
    "        self.X_val[self.num_cols] = self.minMaxScale.transform(self.X_val[self.num_cols])\n",
    "        self.test_data_no_target[self.num_cols] = self.minMaxScale.transform(self.test_data_no_target[self.num_cols])\n",
    "\n",
    "    \n",
    "    def PCASelection(self):\n",
    "        pass\n",
    "\n",
    "    \n",
    "    def labelEncodeTarget(self):\n",
    "        # label encodes target to be 0, 1, 2\n",
    "        self.target_encoder = LabelEncoder()\n",
    "        self.training_data['Class'] = self.training_data[['Class']].apply(self.target_encoder.fit_transform)\n",
    "        \n",
    "\n",
    "    def labelDecodeTarget(self, data):\n",
    "        # returns python list decoding back to -1, 0, 1\n",
    "        return self.target_encoder.inverse_transform(data.ravel()).tolist()\n",
    "\n",
    "\n",
    "    def getCompundFeatures(self):\n",
    "        if create_composite_features:\n",
    "            self.create_composite_features()\n",
    "    \n",
    "\n",
    "\n",
    "\n",
    "    def create_composite_features(self):\n",
    "        # Liquidity Ratios\n",
    "        self.X_train['Liquidity Ratio'] = self.X_train[['I49', 'I50', 'I52']].mean(axis=1)\n",
    "        self.X_val['Liquidity Ratio'] = self.X_val[['I49', 'I50', 'I52']].mean(axis=1)\n",
    "        self.test_data_no_target['Liquidity Ratio'] = self.test_data_no_target[['I49', 'I50', 'I52']].mean(axis=1)\n",
    "        \n",
    "        # Efficiency Ratios\n",
    "        self.X_train['Efficiency Ratio'] = self.X_train[['I21', 'I22', 'I24', 'I25', 'I28']].mean(axis=1)\n",
    "        self.X_val['Efficiency Ratio'] = self.X_val[['I21', 'I22', 'I24', 'I25', 'I28']].mean(axis=1)\n",
    "        self.test_data_no_target['Efficiency Ratio'] = self.test_data_no_target[['I21', 'I22', 'I24', 'I25', 'I28']].mean(axis=1)\n",
    "        \n",
    "        # Calculate Total Equity\n",
    "        self.X_train['Total Equity'] = self.X_train['I19'] / self.X_train['I53']\n",
    "        self.X_val['Total Equity'] = self.X_val['I19'] / self.X_val['I53']\n",
    "        self.test_data_no_target['Total Equity'] = self.test_data_no_target['I19'] / self.test_data_no_target['I53']\n",
    "\n",
    "        # Calculate Total Assets\n",
    "        self.X_train['Total Assets'] = self.X_train['Total Equity'] / (1 - self.X_train['I54'])\n",
    "        self.X_val['Total Assets'] = self.X_val['Total Equity'] / (1 - self.X_val['I54'])\n",
    "        self.test_data_no_target['Total Assets'] = self.test_data_no_target['Total Equity'] / (1 - self.test_data_no_target['I54'])\n",
    "\n",
    "        # Calculate Equity Multiplier\n",
    "        self.X_train['Equity Multiplier'] = self.X_train['Total Assets'] / self.X_train['Total Equity']\n",
    "        self.X_val['Equity Multiplier'] = self.X_val['Total Assets'] / self.X_val['Total Equity']\n",
    "        self.test_data_no_target['Equity Multiplier'] = self.test_data_no_target['Total Assets'] / self.test_data_no_target['Total Equity']\n",
    "\n",
    "        # Leverage Ratios\n",
    "        self.X_train['Leverage Ratio'] = self.X_train[['I17', 'I19', 'I55', 'I54', 'Equity Multiplier']].mean(axis=1)\n",
    "        self.X_val['Leverage Ratio'] = self.X_val[['I17', 'I19', 'I55', 'I54', 'Equity Multiplier']].mean(axis=1)\n",
    "        self.test_data_no_target['Leverage Ratio'] = self.test_data_no_target[['I17', 'I19', 'I55', 'I54', 'Equity Multiplier']].mean(axis=1)\n",
    "        \n",
    "        # Profitability Ratios\n",
    "        self.X_train['Profitability Ratio'] = self.X_train[['I1', 'I2', 'I6', 'I11', 'I34', 'I35', 'I37', 'I32', 'I33', 'I38']].mean(axis=1)\n",
    "        self.X_val['Profitability Ratio'] = self.X_val[['I1', 'I2', 'I6', 'I11', 'I34', 'I35', 'I37', 'I32', 'I33', 'I38']].mean(axis=1)\n",
    "        self.test_data_no_target['Profitability Ratio'] = self.test_data_no_target[['I1', 'I2', 'I6', 'I11', 'I34', 'I35', 'I37', 'I32', 'I33', 'I38']].mean(axis=1)\n",
    "\n",
    "        # Price Ratios\n",
    "        self.X_train['Price Ratios'] = self.X_train[['I41', 'I42', 'I43', 'I56', 'I58', 'I44']].mean(axis=1)\n",
    "        self.X_val['Price Ratios'] = self.X_val[['I41', 'I42', 'I43', 'I56', 'I58', 'I44']].mean(axis=1)\n",
    "        self.test_data_no_target['Price Ratios'] = self.test_data_no_target[['I41', 'I42', 'I43', 'I56', 'I58', 'I44']].mean(axis=1)\n",
    "\n",
    "\n",
    "class Modelling:\n",
    "    def __init__(self):\n",
    "        pass\n",
    "\n",
    "    def randomForest():\n",
    "        pass\n",
    "        \n",
    "    def catBoost():\n",
    "        pass\n",
    "\n",
    "\n",
    "    def get_leaderboard():\n",
    "        pass\n",
    "\n",
    "        \n",
    "        \n",
    "        "
   ]
  },
  {
   "cell_type": "code",
   "execution_count": 5,
   "id": "34f49194-dc0c-4eff-9afe-5573d3951260",
   "metadata": {},
   "outputs": [],
   "source": [
    "data = DataTransformer(encodeTarget=False, dummies=True, composite_features=False)"
   ]
  },
  {
   "cell_type": "code",
   "execution_count": 6,
   "id": "b6ffb0be-f5fe-4311-9454-8791f188fe3f",
   "metadata": {},
   "outputs": [],
   "source": [
    "X_train = data.get_X_train()\n",
    "X_val = data.get_X_val()\n",
    "y_train = data.get_y_train()\n",
    "y_val = data.get_y_val()\n"
   ]
  },
  {
   "cell_type": "code",
   "execution_count": 7,
   "id": "94d32c8d-d89d-4264-86b9-f65dea0fe93a",
   "metadata": {},
   "outputs": [],
   "source": [
    "compounds = [\"Liquidity Ratio\",\n",
    "             \"Efficiency Ratio\",\n",
    "             \"Total Equity\",\n",
    "             \"Total Assets\",\n",
    "             \"Equity Multiplier\",\n",
    "             \"Leverage Ratio\",\n",
    "             \"Profitability Ratio\",\n",
    "             \"Price Ratios\"\n",
    "            ]"
   ]
  },
  {
   "cell_type": "code",
   "execution_count": 1,
   "id": "f1246a1c-a4db-4ece-b579-109860c66c47",
   "metadata": {},
   "outputs": [],
   "source": [
    "# neural approach\n",
    "\n"
   ]
  },
  {
   "cell_type": "code",
   "execution_count": null,
   "id": "b6e79268-660f-4f69-8607-b7fbbc1f48e7",
   "metadata": {},
   "outputs": [],
   "source": []
  },
  {
   "cell_type": "code",
   "execution_count": null,
   "id": "d8ef462a-eb49-4e5c-b05e-ce26446648d9",
   "metadata": {},
   "outputs": [],
   "source": []
  },
  {
   "cell_type": "code",
   "execution_count": null,
   "id": "7c71f372-9e45-439b-b225-eafbb722d865",
   "metadata": {},
   "outputs": [],
   "source": []
  },
  {
   "cell_type": "code",
   "execution_count": 8,
   "id": "33869428-4278-4a23-b7d9-fe72a5f417c6",
   "metadata": {},
   "outputs": [
    {
     "ename": "KeyError",
     "evalue": "\"None of [Index(['Liquidity Ratio', 'Efficiency Ratio', 'Total Equity', 'Total Assets',\\n       'Equity Multiplier', 'Leverage Ratio', 'Profitability Ratio',\\n       'Price Ratios'],\\n      dtype='object')] are in the [columns]\"",
     "output_type": "error",
     "traceback": [
      "\u001b[0;31m---------------------------------------------------------------------------\u001b[0m",
      "\u001b[0;31mKeyError\u001b[0m                                  Traceback (most recent call last)",
      "\u001b[0;32m/var/folders/7y/57xm51hj4y11r4hg1s330bth0000gn/T/ipykernel_29985/2320007568.py\u001b[0m in \u001b[0;36m<module>\u001b[0;34m\u001b[0m\n\u001b[0;32m----> 1\u001b[0;31m \u001b[0mX_train\u001b[0m \u001b[0;34m=\u001b[0m \u001b[0mX_train\u001b[0m\u001b[0;34m[\u001b[0m\u001b[0mcompounds\u001b[0m\u001b[0;34m]\u001b[0m\u001b[0;34m\u001b[0m\u001b[0;34m\u001b[0m\u001b[0m\n\u001b[0m\u001b[1;32m      2\u001b[0m \u001b[0mX_val\u001b[0m \u001b[0;34m=\u001b[0m \u001b[0mX_val\u001b[0m\u001b[0;34m[\u001b[0m\u001b[0mcompounds\u001b[0m\u001b[0;34m]\u001b[0m\u001b[0;34m\u001b[0m\u001b[0;34m\u001b[0m\u001b[0m\n",
      "\u001b[0;32m~/opt/anaconda3/lib/python3.8/site-packages/pandas/core/frame.py\u001b[0m in \u001b[0;36m__getitem__\u001b[0;34m(self, key)\u001b[0m\n\u001b[1;32m   3509\u001b[0m             \u001b[0;32mif\u001b[0m \u001b[0mis_iterator\u001b[0m\u001b[0;34m(\u001b[0m\u001b[0mkey\u001b[0m\u001b[0;34m)\u001b[0m\u001b[0;34m:\u001b[0m\u001b[0;34m\u001b[0m\u001b[0;34m\u001b[0m\u001b[0m\n\u001b[1;32m   3510\u001b[0m                 \u001b[0mkey\u001b[0m \u001b[0;34m=\u001b[0m \u001b[0mlist\u001b[0m\u001b[0;34m(\u001b[0m\u001b[0mkey\u001b[0m\u001b[0;34m)\u001b[0m\u001b[0;34m\u001b[0m\u001b[0;34m\u001b[0m\u001b[0m\n\u001b[0;32m-> 3511\u001b[0;31m             \u001b[0mindexer\u001b[0m \u001b[0;34m=\u001b[0m \u001b[0mself\u001b[0m\u001b[0;34m.\u001b[0m\u001b[0mcolumns\u001b[0m\u001b[0;34m.\u001b[0m\u001b[0m_get_indexer_strict\u001b[0m\u001b[0;34m(\u001b[0m\u001b[0mkey\u001b[0m\u001b[0;34m,\u001b[0m \u001b[0;34m\"columns\"\u001b[0m\u001b[0;34m)\u001b[0m\u001b[0;34m[\u001b[0m\u001b[0;36m1\u001b[0m\u001b[0;34m]\u001b[0m\u001b[0;34m\u001b[0m\u001b[0;34m\u001b[0m\u001b[0m\n\u001b[0m\u001b[1;32m   3512\u001b[0m \u001b[0;34m\u001b[0m\u001b[0m\n\u001b[1;32m   3513\u001b[0m         \u001b[0;31m# take() does not accept boolean indexers\u001b[0m\u001b[0;34m\u001b[0m\u001b[0;34m\u001b[0m\u001b[0;34m\u001b[0m\u001b[0m\n",
      "\u001b[0;32m~/opt/anaconda3/lib/python3.8/site-packages/pandas/core/indexes/base.py\u001b[0m in \u001b[0;36m_get_indexer_strict\u001b[0;34m(self, key, axis_name)\u001b[0m\n\u001b[1;32m   5780\u001b[0m             \u001b[0mkeyarr\u001b[0m\u001b[0;34m,\u001b[0m \u001b[0mindexer\u001b[0m\u001b[0;34m,\u001b[0m \u001b[0mnew_indexer\u001b[0m \u001b[0;34m=\u001b[0m \u001b[0mself\u001b[0m\u001b[0;34m.\u001b[0m\u001b[0m_reindex_non_unique\u001b[0m\u001b[0;34m(\u001b[0m\u001b[0mkeyarr\u001b[0m\u001b[0;34m)\u001b[0m\u001b[0;34m\u001b[0m\u001b[0;34m\u001b[0m\u001b[0m\n\u001b[1;32m   5781\u001b[0m \u001b[0;34m\u001b[0m\u001b[0m\n\u001b[0;32m-> 5782\u001b[0;31m         \u001b[0mself\u001b[0m\u001b[0;34m.\u001b[0m\u001b[0m_raise_if_missing\u001b[0m\u001b[0;34m(\u001b[0m\u001b[0mkeyarr\u001b[0m\u001b[0;34m,\u001b[0m \u001b[0mindexer\u001b[0m\u001b[0;34m,\u001b[0m \u001b[0maxis_name\u001b[0m\u001b[0;34m)\u001b[0m\u001b[0;34m\u001b[0m\u001b[0;34m\u001b[0m\u001b[0m\n\u001b[0m\u001b[1;32m   5783\u001b[0m \u001b[0;34m\u001b[0m\u001b[0m\n\u001b[1;32m   5784\u001b[0m         \u001b[0mkeyarr\u001b[0m \u001b[0;34m=\u001b[0m \u001b[0mself\u001b[0m\u001b[0;34m.\u001b[0m\u001b[0mtake\u001b[0m\u001b[0;34m(\u001b[0m\u001b[0mindexer\u001b[0m\u001b[0;34m)\u001b[0m\u001b[0;34m\u001b[0m\u001b[0;34m\u001b[0m\u001b[0m\n",
      "\u001b[0;32m~/opt/anaconda3/lib/python3.8/site-packages/pandas/core/indexes/base.py\u001b[0m in \u001b[0;36m_raise_if_missing\u001b[0;34m(self, key, indexer, axis_name)\u001b[0m\n\u001b[1;32m   5840\u001b[0m                 \u001b[0;32mif\u001b[0m \u001b[0muse_interval_msg\u001b[0m\u001b[0;34m:\u001b[0m\u001b[0;34m\u001b[0m\u001b[0;34m\u001b[0m\u001b[0m\n\u001b[1;32m   5841\u001b[0m                     \u001b[0mkey\u001b[0m \u001b[0;34m=\u001b[0m \u001b[0mlist\u001b[0m\u001b[0;34m(\u001b[0m\u001b[0mkey\u001b[0m\u001b[0;34m)\u001b[0m\u001b[0;34m\u001b[0m\u001b[0;34m\u001b[0m\u001b[0m\n\u001b[0;32m-> 5842\u001b[0;31m                 \u001b[0;32mraise\u001b[0m \u001b[0mKeyError\u001b[0m\u001b[0;34m(\u001b[0m\u001b[0;34mf\"None of [{key}] are in the [{axis_name}]\"\u001b[0m\u001b[0;34m)\u001b[0m\u001b[0;34m\u001b[0m\u001b[0;34m\u001b[0m\u001b[0m\n\u001b[0m\u001b[1;32m   5843\u001b[0m \u001b[0;34m\u001b[0m\u001b[0m\n\u001b[1;32m   5844\u001b[0m             \u001b[0mnot_found\u001b[0m \u001b[0;34m=\u001b[0m \u001b[0mlist\u001b[0m\u001b[0;34m(\u001b[0m\u001b[0mensure_index\u001b[0m\u001b[0;34m(\u001b[0m\u001b[0mkey\u001b[0m\u001b[0;34m)\u001b[0m\u001b[0;34m[\u001b[0m\u001b[0mmissing_mask\u001b[0m\u001b[0;34m.\u001b[0m\u001b[0mnonzero\u001b[0m\u001b[0;34m(\u001b[0m\u001b[0;34m)\u001b[0m\u001b[0;34m[\u001b[0m\u001b[0;36m0\u001b[0m\u001b[0;34m]\u001b[0m\u001b[0;34m]\u001b[0m\u001b[0;34m.\u001b[0m\u001b[0munique\u001b[0m\u001b[0;34m(\u001b[0m\u001b[0;34m)\u001b[0m\u001b[0;34m)\u001b[0m\u001b[0;34m\u001b[0m\u001b[0;34m\u001b[0m\u001b[0m\n",
      "\u001b[0;31mKeyError\u001b[0m: \"None of [Index(['Liquidity Ratio', 'Efficiency Ratio', 'Total Equity', 'Total Assets',\\n       'Equity Multiplier', 'Leverage Ratio', 'Profitability Ratio',\\n       'Price Ratios'],\\n      dtype='object')] are in the [columns]\""
     ]
    }
   ],
   "source": [
    "X_train = X_train[compounds]\n",
    "X_val = X_val[compounds]\n"
   ]
  },
  {
   "cell_type": "code",
   "execution_count": 17,
   "id": "478fef09-7e1b-45c3-afa7-51a5913c3703",
   "metadata": {},
   "outputs": [
    {
     "data": {
      "text/plain": [
       "array([1, 1, 1, ..., 1, 0, 0])"
      ]
     },
     "execution_count": 17,
     "metadata": {},
     "output_type": "execute_result"
    }
   ],
   "source": [
    "y_val.values.reshape(-1,)"
   ]
  },
  {
   "cell_type": "code",
   "execution_count": 19,
   "id": "53c58cb4-329f-464d-b9af-d242e29eef43",
   "metadata": {},
   "outputs": [
    {
     "name": "stdout",
     "output_type": "stream",
     "text": [
      "Learning rate set to 0.145843\n",
      "0:\tlearn: 0.9001667\ttest: 0.9315000\tbest: 0.9315000 (0)\ttotal: 140ms\tremaining: 1m 9s\n"
     ]
    },
    {
     "name": "stderr",
     "output_type": "stream",
     "text": [
      "/Users/baga_nuhkadiev/opt/anaconda3/lib/python3.8/site-packages/catboost/core.py:1759: UserWarning: Failed to optimize method \"evaluate\" in the passed object:\n",
      "Failed in nopython mode pipeline (step: nopython frontend)\n",
      "Untyped global name 'confusion_matrix': Cannot determine Numba type of <class 'function'>\n",
      "\n",
      "File \"../../../var/folders/7y/57xm51hj4y11r4hg1s330bth0000gn/T/ipykernel_27290/512832910.py\", line 16:\n",
      "<source missing, REPL/exec in use?>\n",
      "\n",
      "  self._object._train(train_pool, test_pool, params, allow_clear_pool, init_model._object if init_model else None)\n"
     ]
    },
    {
     "name": "stdout",
     "output_type": "stream",
     "text": [
      "50:\tlearn: 0.7698333\ttest: 0.9345000\tbest: 0.9315000 (0)\ttotal: 385ms\tremaining: 3.39s\n",
      "100:\tlearn: 0.6798333\ttest: 0.9485000\tbest: 0.9315000 (0)\ttotal: 580ms\tremaining: 2.29s\n",
      "150:\tlearn: 0.6206667\ttest: 0.9630000\tbest: 0.9315000 (0)\ttotal: 805ms\tremaining: 1.86s\n",
      "200:\tlearn: 0.5691667\ttest: 0.9615000\tbest: 0.9315000 (0)\ttotal: 1.06s\tremaining: 1.58s\n",
      "250:\tlearn: 0.5208333\ttest: 0.9690000\tbest: 0.9315000 (0)\ttotal: 1.35s\tremaining: 1.34s\n",
      "300:\tlearn: 0.4743333\ttest: 0.9655000\tbest: 0.9315000 (0)\ttotal: 1.54s\tremaining: 1.02s\n",
      "350:\tlearn: 0.4455000\ttest: 0.9675000\tbest: 0.9315000 (0)\ttotal: 1.75s\tremaining: 744ms\n",
      "400:\tlearn: 0.4158333\ttest: 0.9725000\tbest: 0.9315000 (0)\ttotal: 1.95s\tremaining: 480ms\n",
      "450:\tlearn: 0.3838333\ttest: 0.9610000\tbest: 0.9315000 (0)\ttotal: 2.14s\tremaining: 233ms\n",
      "499:\tlearn: 0.3591667\ttest: 0.9530000\tbest: 0.9315000 (0)\ttotal: 2.44s\tremaining: 0us\n",
      "\n",
      "bestTest = 0.9315\n",
      "bestIteration = 0\n",
      "\n",
      "Shrink model to first 1 iterations.\n"
     ]
    },
    {
     "data": {
      "text/plain": [
       "<catboost.core.CatBoostClassifier at 0x7f7b354ae880>"
      ]
     },
     "execution_count": 19,
     "metadata": {},
     "output_type": "execute_result"
    }
   ],
   "source": [
    "from catboost import CatBoostClassifier\n",
    "\n",
    "class CountErrors:\n",
    "    '''Count number of wrong predictions'''\n",
    "    \n",
    "    def is_max_optimal(self):\n",
    "        False # Lower is better\n",
    "\n",
    "    def evaluate(self, approxes, target, weight):  \n",
    "        y_pred = np.array(approxes).argmax(0)\n",
    "        y_true = np.array(target)\n",
    "        cost_matrix = np.array([[0, 1, 2], \n",
    "                                [1, 0, 1], \n",
    "                                [2, 1, 0]])\n",
    "\n",
    "        conf_matrix = confusion_matrix(y_true, y_pred)\n",
    "        loss = np.sum(conf_matrix * cost_matrix) / len(y_true)\n",
    "                                    \n",
    "        return loss, 1\n",
    "\n",
    "    def get_final_error(self, error, weight):\n",
    "        return error\n",
    "\n",
    "model = CatBoostClassifier(cat_features=data.cat_cols,\n",
    "                           metric_period=50,\n",
    "                           n_estimators=500,\n",
    "                           eval_metric=CountErrors()\n",
    "                          )\n",
    "\n",
    "model.fit(X_train, y_train, eval_set=(X_val, y_val))"
   ]
  },
  {
   "cell_type": "code",
   "execution_count": 188,
   "id": "80911963-fd87-4cd8-adb5-24549f83d9a6",
   "metadata": {},
   "outputs": [],
   "source": [
    "preds = model.predict(data.test_data_no_target)"
   ]
  },
  {
   "cell_type": "code",
   "execution_count": 189,
   "id": "6aadb55a-4cc2-45a7-9f61-cb45ce462d35",
   "metadata": {},
   "outputs": [
    {
     "data": {
      "text/plain": [
       "array([[ 1],\n",
       "       [ 1],\n",
       "       [-1],\n",
       "       ...,\n",
       "       [ 1],\n",
       "       [-1],\n",
       "       [-1]])"
      ]
     },
     "execution_count": 189,
     "metadata": {},
     "output_type": "execute_result"
    }
   ],
   "source": [
    "preds"
   ]
  },
  {
   "cell_type": "code",
   "execution_count": 192,
   "id": "86a41988-232d-42b3-a5de-8c4d9dd96139",
   "metadata": {},
   "outputs": [
    {
     "data": {
      "text/plain": [
       "array([ 1,  1, -1, ...,  1, -1, -1])"
      ]
     },
     "execution_count": 192,
     "metadata": {},
     "output_type": "execute_result"
    }
   ],
   "source": [
    "preds.reshape(2000)"
   ]
  },
  {
   "cell_type": "code",
   "execution_count": 193,
   "id": "0baf9c87-6e3e-4201-9153-f764e8ade86d",
   "metadata": {},
   "outputs": [
    {
     "name": "stdout",
     "output_type": "stream",
     "text": [
      "Submission file created: submitions/catboost_tryout.txt\n"
     ]
    },
    {
     "data": {
      "text/plain": [
       "True"
      ]
     },
     "execution_count": 193,
     "metadata": {},
     "output_type": "execute_result"
    }
   ],
   "source": [
    "def submit(path, predictions):\n",
    "    # writes submition file\n",
    "    with open(path, 'w') as f:\n",
    "        for prediction in predictions.tolist():\n",
    "            f.write(f\"{prediction}\\n\")  # Writing each prediction on a new line\n",
    "    \n",
    "    print(\"Submission file created:\", path)\n",
    "    return True\n",
    "\n",
    "\n",
    "submit(\"submitions/catboost_tryout.txt\", preds.reshape(2000))"
   ]
  },
  {
   "cell_type": "code",
   "execution_count": 177,
   "id": "d10b46ee-2bba-41f2-bb85-b558d56f98a4",
   "metadata": {},
   "outputs": [
    {
     "data": {
      "text/html": [
       "<div>\n",
       "<style scoped>\n",
       "    .dataframe tbody tr th:only-of-type {\n",
       "        vertical-align: middle;\n",
       "    }\n",
       "\n",
       "    .dataframe tbody tr th {\n",
       "        vertical-align: top;\n",
       "    }\n",
       "\n",
       "    .dataframe thead th {\n",
       "        text-align: right;\n",
       "    }\n",
       "</style>\n",
       "<table border=\"1\" class=\"dataframe\">\n",
       "  <thead>\n",
       "    <tr style=\"text-align: right;\">\n",
       "      <th></th>\n",
       "      <th>Group</th>\n",
       "      <th>I1</th>\n",
       "      <th>I2</th>\n",
       "      <th>I3</th>\n",
       "      <th>I4</th>\n",
       "      <th>I5</th>\n",
       "      <th>I6</th>\n",
       "      <th>I7</th>\n",
       "      <th>I8</th>\n",
       "      <th>I9</th>\n",
       "      <th>...</th>\n",
       "      <th>dI49</th>\n",
       "      <th>dI50</th>\n",
       "      <th>dI51</th>\n",
       "      <th>dI52</th>\n",
       "      <th>dI53</th>\n",
       "      <th>dI54</th>\n",
       "      <th>dI55</th>\n",
       "      <th>dI56</th>\n",
       "      <th>dI57</th>\n",
       "      <th>dI58</th>\n",
       "    </tr>\n",
       "  </thead>\n",
       "  <tbody>\n",
       "    <tr>\n",
       "      <th>0</th>\n",
       "      <td>G3</td>\n",
       "      <td>0.039284</td>\n",
       "      <td>-0.034382</td>\n",
       "      <td>-0.040373</td>\n",
       "      <td>0.090023</td>\n",
       "      <td>-0.055953</td>\n",
       "      <td>0.049229</td>\n",
       "      <td>0.016236</td>\n",
       "      <td>-0.045865</td>\n",
       "      <td>0.692039</td>\n",
       "      <td>...</td>\n",
       "      <td>-0.377892</td>\n",
       "      <td>-0.410908</td>\n",
       "      <td>-0.417438</td>\n",
       "      <td>-0.220481</td>\n",
       "      <td>0.002526</td>\n",
       "      <td>0.124543</td>\n",
       "      <td>-0.219341</td>\n",
       "      <td>0.148324</td>\n",
       "      <td>0.020379</td>\n",
       "      <td>-0.004969</td>\n",
       "    </tr>\n",
       "    <tr>\n",
       "      <th>1</th>\n",
       "      <td>G9</td>\n",
       "      <td>-0.491713</td>\n",
       "      <td>-0.039484</td>\n",
       "      <td>-0.043612</td>\n",
       "      <td>-0.320312</td>\n",
       "      <td>0.065520</td>\n",
       "      <td>-0.216314</td>\n",
       "      <td>-0.366573</td>\n",
       "      <td>-0.052790</td>\n",
       "      <td>-0.370449</td>\n",
       "      <td>...</td>\n",
       "      <td>0.553799</td>\n",
       "      <td>0.660505</td>\n",
       "      <td>0.806000</td>\n",
       "      <td>0.781506</td>\n",
       "      <td>-0.012519</td>\n",
       "      <td>-0.014169</td>\n",
       "      <td>0.669341</td>\n",
       "      <td>0.015033</td>\n",
       "      <td>0.023411</td>\n",
       "      <td>0.007037</td>\n",
       "    </tr>\n",
       "    <tr>\n",
       "      <th>2</th>\n",
       "      <td>G7</td>\n",
       "      <td>-0.744979</td>\n",
       "      <td>-0.038271</td>\n",
       "      <td>-0.038631</td>\n",
       "      <td>-0.824021</td>\n",
       "      <td>0.117907</td>\n",
       "      <td>-1.434879</td>\n",
       "      <td>-0.707810</td>\n",
       "      <td>-0.073176</td>\n",
       "      <td>-1.698337</td>\n",
       "      <td>...</td>\n",
       "      <td>0.707252</td>\n",
       "      <td>0.909110</td>\n",
       "      <td>0.738062</td>\n",
       "      <td>-0.024403</td>\n",
       "      <td>0.032079</td>\n",
       "      <td>0.095528</td>\n",
       "      <td>0.350733</td>\n",
       "      <td>-0.149682</td>\n",
       "      <td>0.005134</td>\n",
       "      <td>1.135389</td>\n",
       "    </tr>\n",
       "    <tr>\n",
       "      <th>3</th>\n",
       "      <td>G2</td>\n",
       "      <td>0.694507</td>\n",
       "      <td>-0.026038</td>\n",
       "      <td>-0.038985</td>\n",
       "      <td>1.892921</td>\n",
       "      <td>-0.100102</td>\n",
       "      <td>0.022436</td>\n",
       "      <td>-0.198048</td>\n",
       "      <td>-0.050572</td>\n",
       "      <td>0.208738</td>\n",
       "      <td>...</td>\n",
       "      <td>-0.120561</td>\n",
       "      <td>-0.118927</td>\n",
       "      <td>-0.130250</td>\n",
       "      <td>-0.000468</td>\n",
       "      <td>0.002082</td>\n",
       "      <td>0.023541</td>\n",
       "      <td>-0.044464</td>\n",
       "      <td>0.033332</td>\n",
       "      <td>0.079054</td>\n",
       "      <td>-0.002624</td>\n",
       "    </tr>\n",
       "    <tr>\n",
       "      <th>4</th>\n",
       "      <td>G2</td>\n",
       "      <td>0.207123</td>\n",
       "      <td>-0.020462</td>\n",
       "      <td>-0.033451</td>\n",
       "      <td>-0.010191</td>\n",
       "      <td>-0.146812</td>\n",
       "      <td>0.235521</td>\n",
       "      <td>0.044640</td>\n",
       "      <td>-0.029062</td>\n",
       "      <td>0.464286</td>\n",
       "      <td>...</td>\n",
       "      <td>-0.672086</td>\n",
       "      <td>-0.679972</td>\n",
       "      <td>-1.136937</td>\n",
       "      <td>-0.789870</td>\n",
       "      <td>0.007839</td>\n",
       "      <td>-0.424394</td>\n",
       "      <td>-0.704341</td>\n",
       "      <td>0.011889</td>\n",
       "      <td>0.936284</td>\n",
       "      <td>-0.015745</td>\n",
       "    </tr>\n",
       "    <tr>\n",
       "      <th>...</th>\n",
       "      <td>...</td>\n",
       "      <td>...</td>\n",
       "      <td>...</td>\n",
       "      <td>...</td>\n",
       "      <td>...</td>\n",
       "      <td>...</td>\n",
       "      <td>...</td>\n",
       "      <td>...</td>\n",
       "      <td>...</td>\n",
       "      <td>...</td>\n",
       "      <td>...</td>\n",
       "      <td>...</td>\n",
       "      <td>...</td>\n",
       "      <td>...</td>\n",
       "      <td>...</td>\n",
       "      <td>...</td>\n",
       "      <td>...</td>\n",
       "      <td>...</td>\n",
       "      <td>...</td>\n",
       "      <td>...</td>\n",
       "      <td>...</td>\n",
       "    </tr>\n",
       "    <tr>\n",
       "      <th>1995</th>\n",
       "      <td>G9</td>\n",
       "      <td>-1.192924</td>\n",
       "      <td>-0.049079</td>\n",
       "      <td>-0.049806</td>\n",
       "      <td>-0.513692</td>\n",
       "      <td>-0.081669</td>\n",
       "      <td>-0.334987</td>\n",
       "      <td>-0.484038</td>\n",
       "      <td>-0.063376</td>\n",
       "      <td>-0.860113</td>\n",
       "      <td>...</td>\n",
       "      <td>0.280022</td>\n",
       "      <td>0.197899</td>\n",
       "      <td>0.425563</td>\n",
       "      <td>0.146857</td>\n",
       "      <td>0.007887</td>\n",
       "      <td>0.144111</td>\n",
       "      <td>0.556732</td>\n",
       "      <td>0.809250</td>\n",
       "      <td>0.040464</td>\n",
       "      <td>-0.000838</td>\n",
       "    </tr>\n",
       "    <tr>\n",
       "      <th>1996</th>\n",
       "      <td>G11</td>\n",
       "      <td>0.761006</td>\n",
       "      <td>-0.028790</td>\n",
       "      <td>-0.040586</td>\n",
       "      <td>-0.098537</td>\n",
       "      <td>0.334470</td>\n",
       "      <td>0.177993</td>\n",
       "      <td>0.733065</td>\n",
       "      <td>-0.032186</td>\n",
       "      <td>2.498567</td>\n",
       "      <td>...</td>\n",
       "      <td>-0.140446</td>\n",
       "      <td>NaN</td>\n",
       "      <td>-0.044562</td>\n",
       "      <td>0.508117</td>\n",
       "      <td>0.007100</td>\n",
       "      <td>0.492209</td>\n",
       "      <td>0.634159</td>\n",
       "      <td>-0.389522</td>\n",
       "      <td>0.030106</td>\n",
       "      <td>0.019739</td>\n",
       "    </tr>\n",
       "    <tr>\n",
       "      <th>1997</th>\n",
       "      <td>G4</td>\n",
       "      <td>0.663620</td>\n",
       "      <td>-0.014721</td>\n",
       "      <td>-0.035249</td>\n",
       "      <td>2.367521</td>\n",
       "      <td>0.035822</td>\n",
       "      <td>0.437514</td>\n",
       "      <td>0.241244</td>\n",
       "      <td>-0.033637</td>\n",
       "      <td>0.475282</td>\n",
       "      <td>...</td>\n",
       "      <td>-0.562151</td>\n",
       "      <td>-0.694239</td>\n",
       "      <td>-0.974187</td>\n",
       "      <td>0.052026</td>\n",
       "      <td>0.026136</td>\n",
       "      <td>0.287294</td>\n",
       "      <td>-0.278286</td>\n",
       "      <td>-0.283358</td>\n",
       "      <td>-0.005308</td>\n",
       "      <td>0.001944</td>\n",
       "    </tr>\n",
       "    <tr>\n",
       "      <th>1998</th>\n",
       "      <td>G1</td>\n",
       "      <td>-0.887896</td>\n",
       "      <td>-0.031149</td>\n",
       "      <td>-0.044787</td>\n",
       "      <td>NaN</td>\n",
       "      <td>3.235044</td>\n",
       "      <td>9.613638</td>\n",
       "      <td>10.032149</td>\n",
       "      <td>0.096885</td>\n",
       "      <td>0.049668</td>\n",
       "      <td>...</td>\n",
       "      <td>NaN</td>\n",
       "      <td>NaN</td>\n",
       "      <td>NaN</td>\n",
       "      <td>NaN</td>\n",
       "      <td>-0.117762</td>\n",
       "      <td>0.038035</td>\n",
       "      <td>-0.140377</td>\n",
       "      <td>-1.110764</td>\n",
       "      <td>NaN</td>\n",
       "      <td>0.000807</td>\n",
       "    </tr>\n",
       "    <tr>\n",
       "      <th>1999</th>\n",
       "      <td>G8</td>\n",
       "      <td>0.691367</td>\n",
       "      <td>-0.022307</td>\n",
       "      <td>-0.034867</td>\n",
       "      <td>-0.377680</td>\n",
       "      <td>-0.301963</td>\n",
       "      <td>-0.181150</td>\n",
       "      <td>-0.186181</td>\n",
       "      <td>-0.052011</td>\n",
       "      <td>-0.148453</td>\n",
       "      <td>...</td>\n",
       "      <td>-0.004835</td>\n",
       "      <td>-0.024413</td>\n",
       "      <td>0.034250</td>\n",
       "      <td>-0.028169</td>\n",
       "      <td>-0.009722</td>\n",
       "      <td>0.027625</td>\n",
       "      <td>-0.374883</td>\n",
       "      <td>-1.427325</td>\n",
       "      <td>0.014536</td>\n",
       "      <td>0.010738</td>\n",
       "    </tr>\n",
       "  </tbody>\n",
       "</table>\n",
       "<p>2000 rows × 117 columns</p>\n",
       "</div>"
      ],
      "text/plain": [
       "     Group        I1        I2        I3        I4        I5        I6  \\\n",
       "0       G3  0.039284 -0.034382 -0.040373  0.090023 -0.055953  0.049229   \n",
       "1       G9 -0.491713 -0.039484 -0.043612 -0.320312  0.065520 -0.216314   \n",
       "2       G7 -0.744979 -0.038271 -0.038631 -0.824021  0.117907 -1.434879   \n",
       "3       G2  0.694507 -0.026038 -0.038985  1.892921 -0.100102  0.022436   \n",
       "4       G2  0.207123 -0.020462 -0.033451 -0.010191 -0.146812  0.235521   \n",
       "...    ...       ...       ...       ...       ...       ...       ...   \n",
       "1995    G9 -1.192924 -0.049079 -0.049806 -0.513692 -0.081669 -0.334987   \n",
       "1996   G11  0.761006 -0.028790 -0.040586 -0.098537  0.334470  0.177993   \n",
       "1997    G4  0.663620 -0.014721 -0.035249  2.367521  0.035822  0.437514   \n",
       "1998    G1 -0.887896 -0.031149 -0.044787       NaN  3.235044  9.613638   \n",
       "1999    G8  0.691367 -0.022307 -0.034867 -0.377680 -0.301963 -0.181150   \n",
       "\n",
       "             I7        I8        I9  ...      dI49      dI50      dI51  \\\n",
       "0      0.016236 -0.045865  0.692039  ... -0.377892 -0.410908 -0.417438   \n",
       "1     -0.366573 -0.052790 -0.370449  ...  0.553799  0.660505  0.806000   \n",
       "2     -0.707810 -0.073176 -1.698337  ...  0.707252  0.909110  0.738062   \n",
       "3     -0.198048 -0.050572  0.208738  ... -0.120561 -0.118927 -0.130250   \n",
       "4      0.044640 -0.029062  0.464286  ... -0.672086 -0.679972 -1.136937   \n",
       "...         ...       ...       ...  ...       ...       ...       ...   \n",
       "1995  -0.484038 -0.063376 -0.860113  ...  0.280022  0.197899  0.425563   \n",
       "1996   0.733065 -0.032186  2.498567  ... -0.140446       NaN -0.044562   \n",
       "1997   0.241244 -0.033637  0.475282  ... -0.562151 -0.694239 -0.974187   \n",
       "1998  10.032149  0.096885  0.049668  ...       NaN       NaN       NaN   \n",
       "1999  -0.186181 -0.052011 -0.148453  ... -0.004835 -0.024413  0.034250   \n",
       "\n",
       "          dI52      dI53      dI54      dI55      dI56      dI57      dI58  \n",
       "0    -0.220481  0.002526  0.124543 -0.219341  0.148324  0.020379 -0.004969  \n",
       "1     0.781506 -0.012519 -0.014169  0.669341  0.015033  0.023411  0.007037  \n",
       "2    -0.024403  0.032079  0.095528  0.350733 -0.149682  0.005134  1.135389  \n",
       "3    -0.000468  0.002082  0.023541 -0.044464  0.033332  0.079054 -0.002624  \n",
       "4    -0.789870  0.007839 -0.424394 -0.704341  0.011889  0.936284 -0.015745  \n",
       "...        ...       ...       ...       ...       ...       ...       ...  \n",
       "1995  0.146857  0.007887  0.144111  0.556732  0.809250  0.040464 -0.000838  \n",
       "1996  0.508117  0.007100  0.492209  0.634159 -0.389522  0.030106  0.019739  \n",
       "1997  0.052026  0.026136  0.287294 -0.278286 -0.283358 -0.005308  0.001944  \n",
       "1998       NaN -0.117762  0.038035 -0.140377 -1.110764       NaN  0.000807  \n",
       "1999 -0.028169 -0.009722  0.027625 -0.374883 -1.427325  0.014536  0.010738  \n",
       "\n",
       "[2000 rows x 117 columns]"
      ]
     },
     "execution_count": 177,
     "metadata": {},
     "output_type": "execute_result"
    }
   ],
   "source": [
    "data.test_data_no_target"
   ]
  },
  {
   "cell_type": "code",
   "execution_count": null,
   "id": "2dbb99e9-d911-485a-94ff-dd53b9d450a9",
   "metadata": {},
   "outputs": [],
   "source": [
    "preds = model.predict()"
   ]
  },
  {
   "cell_type": "code",
   "execution_count": null,
   "id": "572c7fcd-8245-4ac0-94a4-aef64cc6db3f",
   "metadata": {},
   "outputs": [],
   "source": []
  },
  {
   "cell_type": "code",
   "execution_count": null,
   "id": "3230d51f-08f2-42ff-84b9-13f6e3015d77",
   "metadata": {},
   "outputs": [],
   "source": []
  },
  {
   "cell_type": "code",
   "execution_count": 21,
   "id": "f08f14d3-e02f-4693-b4c4-6c22157e8e31",
   "metadata": {},
   "outputs": [],
   "source": [
    "import catboost"
   ]
  },
  {
   "cell_type": "code",
   "execution_count": 24,
   "id": "0e71e5de-e9de-482f-9b8e-ba8fe2df07e5",
   "metadata": {},
   "outputs": [],
   "source": [
    "# Try different loss that helps with current objective"
   ]
  },
  {
   "cell_type": "code",
   "execution_count": 23,
   "id": "fb235b8b-6390-4c1a-9c06-94e050cafa80",
   "metadata": {
    "scrolled": true
   },
   "outputs": [
    {
     "data": {
      "application/vnd.jupyter.widget-view+json": {
       "model_id": "1747cfff754845d3a5d690cfc3ddfed1",
       "version_major": 2,
       "version_minor": 0
      },
      "text/plain": [
       "MetricVisualizer(layout=Layout(align_self='stretch', height='500px'))"
      ]
     },
     "metadata": {},
     "output_type": "display_data"
    },
    {
     "name": "stderr",
     "output_type": "stream",
     "text": [
      "Warning: Overfitting detector is active, thus evaluation metric is calculated on every iteration. 'metric_period' is ignored for evaluation metric.\n",
      "/Users/baga_nuhkadiev/opt/anaconda3/lib/python3.8/site-packages/catboost/core.py:4016: UserWarning: Failed to optimize method \"evaluate\" in the passed object:\n",
      "Failed in nopython mode pipeline (step: nopython frontend)\n",
      "Untyped global name 'confusion_matrix': Cannot determine Numba type of <class 'function'>\n",
      "\n",
      "File \"../../../var/folders/7y/57xm51hj4y11r4hg1s330bth0000gn/T/ipykernel_27290/512832910.py\", line 16:\n",
      "<source missing, REPL/exec in use?>\n",
      "\n",
      "  cv_result = self._object._tune_hyperparams(\n"
     ]
    },
    {
     "name": "stdout",
     "output_type": "stream",
     "text": [
      "0:\tlearn: 0.9154167\ttest: 0.9541667\tbest: 0.9541667 (0)\ttotal: 109ms\tremaining: 1m 48s\n",
      "50:\tlearn: 0.8783333\ttest: 0.9258333\tbest: 0.9208333 (48)\ttotal: 450ms\tremaining: 8.37s\n",
      "100:\tlearn: 0.8675000\ttest: 0.9258333\tbest: 0.9108333 (83)\ttotal: 771ms\tremaining: 6.86s\n",
      "150:\tlearn: 0.8500000\ttest: 0.9358333\tbest: 0.9108333 (83)\ttotal: 1.1s\tremaining: 6.19s\n",
      "Stopped by overfitting detector  (100 iterations wait)\n",
      "\n",
      "bestTest = 0.9108333333\n",
      "bestIteration = 83\n",
      "\n",
      "0:\tloss: 0.9108333\tbest: 0.9108333 (0)\ttotal: 1.38s\tremaining: 33m 1s\n",
      "0:\tlearn: 0.9154167\ttest: 0.9541667\tbest: 0.9541667 (0)\ttotal: 24.2ms\tremaining: 24.2s\n"
     ]
    },
    {
     "name": "stderr",
     "output_type": "stream",
     "text": [
      "Warning: Overfitting detector is active, thus evaluation metric is calculated on every iteration. 'metric_period' is ignored for evaluation metric.\n"
     ]
    },
    {
     "name": "stdout",
     "output_type": "stream",
     "text": [
      "50:\tlearn: 0.8783333\ttest: 0.9258333\tbest: 0.9208333 (48)\ttotal: 360ms\tremaining: 6.7s\n",
      "100:\tlearn: 0.8675000\ttest: 0.9258333\tbest: 0.9108333 (83)\ttotal: 702ms\tremaining: 6.24s\n",
      "150:\tlearn: 0.8500000\ttest: 0.9358333\tbest: 0.9108333 (83)\ttotal: 1.02s\tremaining: 5.76s\n",
      "Stopped by overfitting detector  (100 iterations wait)\n",
      "\n",
      "bestTest = 0.9108333333\n",
      "bestIteration = 83\n",
      "\n",
      "1:\tloss: 0.9108333\tbest: 0.9108333 (0)\ttotal: 2.6s\tremaining: 31m 12s\n"
     ]
    },
    {
     "name": "stderr",
     "output_type": "stream",
     "text": [
      "Warning: Overfitting detector is active, thus evaluation metric is calculated on every iteration. 'metric_period' is ignored for evaluation metric.\n"
     ]
    },
    {
     "name": "stdout",
     "output_type": "stream",
     "text": [
      "0:\tlearn: 0.9154167\ttest: 0.9541667\tbest: 0.9541667 (0)\ttotal: 26.6ms\tremaining: 26.5s\n",
      "50:\tlearn: 0.8787500\ttest: 0.9258333\tbest: 0.9208333 (48)\ttotal: 375ms\tremaining: 6.97s\n",
      "100:\tlearn: 0.8675000\ttest: 0.9258333\tbest: 0.9108333 (83)\ttotal: 698ms\tremaining: 6.22s\n",
      "150:\tlearn: 0.8500000\ttest: 0.9358333\tbest: 0.9108333 (83)\ttotal: 1.05s\tremaining: 5.89s\n",
      "Stopped by overfitting detector  (100 iterations wait)\n",
      "\n",
      "bestTest = 0.9108333333\n",
      "bestIteration = 83\n",
      "\n",
      "2:\tloss: 0.9108333\tbest: 0.9108333 (0)\ttotal: 3.86s\tremaining: 30m 50s\n",
      "0:\tlearn: 0.9154167\ttest: 0.9541667\tbest: 0.9541667 (0)\ttotal: 23.7ms\tremaining: 23.7s\n"
     ]
    },
    {
     "name": "stderr",
     "output_type": "stream",
     "text": [
      "Warning: Overfitting detector is active, thus evaluation metric is calculated on every iteration. 'metric_period' is ignored for evaluation metric.\n"
     ]
    },
    {
     "name": "stdout",
     "output_type": "stream",
     "text": [
      "50:\tlearn: 0.8787500\ttest: 0.9258333\tbest: 0.9208333 (48)\ttotal: 349ms\tremaining: 6.49s\n",
      "100:\tlearn: 0.8675000\ttest: 0.9258333\tbest: 0.9108333 (83)\ttotal: 670ms\tremaining: 5.96s\n",
      "150:\tlearn: 0.8504167\ttest: 0.9358333\tbest: 0.9108333 (83)\ttotal: 1.1s\tremaining: 6.19s\n",
      "Stopped by overfitting detector  (100 iterations wait)\n",
      "\n",
      "bestTest = 0.9108333333\n",
      "bestIteration = 83\n",
      "\n",
      "3:\tloss: 0.9108333\tbest: 0.9108333 (0)\ttotal: 5.17s\tremaining: 30m 58s\n",
      "0:\tlearn: 0.9154167\ttest: 0.9541667\tbest: 0.9541667 (0)\ttotal: 24.5ms\tremaining: 24.5s\n"
     ]
    },
    {
     "name": "stderr",
     "output_type": "stream",
     "text": [
      "Warning: Overfitting detector is active, thus evaluation metric is calculated on every iteration. 'metric_period' is ignored for evaluation metric.\n"
     ]
    },
    {
     "name": "stdout",
     "output_type": "stream",
     "text": [
      "50:\tlearn: 0.8787500\ttest: 0.9258333\tbest: 0.9208333 (48)\ttotal: 378ms\tremaining: 7.04s\n",
      "100:\tlearn: 0.8675000\ttest: 0.9258333\tbest: 0.9108333 (83)\ttotal: 741ms\tremaining: 6.6s\n",
      "150:\tlearn: 0.8504167\ttest: 0.9358333\tbest: 0.9108333 (83)\ttotal: 1.08s\tremaining: 6.09s\n",
      "Stopped by overfitting detector  (100 iterations wait)\n",
      "\n",
      "bestTest = 0.9108333333\n",
      "bestIteration = 83\n",
      "\n",
      "4:\tloss: 0.9108333\tbest: 0.9108333 (0)\ttotal: 6.46s\tremaining: 30m 54s\n"
     ]
    },
    {
     "name": "stderr",
     "output_type": "stream",
     "text": [
      "Warning: Overfitting detector is active, thus evaluation metric is calculated on every iteration. 'metric_period' is ignored for evaluation metric.\n"
     ]
    },
    {
     "name": "stdout",
     "output_type": "stream",
     "text": [
      "0:\tlearn: 0.9154167\ttest: 0.9541667\tbest: 0.9541667 (0)\ttotal: 23.4ms\tremaining: 23.4s\n",
      "50:\tlearn: 0.8787500\ttest: 0.9258333\tbest: 0.9208333 (48)\ttotal: 379ms\tremaining: 7.06s\n",
      "100:\tlearn: 0.8675000\ttest: 0.9258333\tbest: 0.9125000 (64)\ttotal: 727ms\tremaining: 6.47s\n",
      "150:\tlearn: 0.8504167\ttest: 0.9358333\tbest: 0.9125000 (64)\ttotal: 1.07s\tremaining: 6.01s\n",
      "Stopped by overfitting detector  (100 iterations wait)\n",
      "\n",
      "bestTest = 0.9125\n",
      "bestIteration = 64\n",
      "\n",
      "5:\tloss: 0.9125000\tbest: 0.9108333 (0)\ttotal: 7.63s\tremaining: 30m 23s\n",
      "0:\tlearn: 0.9154167\ttest: 0.9541667\tbest: 0.9541667 (0)\ttotal: 23.5ms\tremaining: 23.4s\n"
     ]
    },
    {
     "name": "stderr",
     "output_type": "stream",
     "text": [
      "Warning: Overfitting detector is active, thus evaluation metric is calculated on every iteration. 'metric_period' is ignored for evaluation metric.\n"
     ]
    },
    {
     "name": "stdout",
     "output_type": "stream",
     "text": [
      "50:\tlearn: 0.8787500\ttest: 0.9258333\tbest: 0.9208333 (48)\ttotal: 373ms\tremaining: 6.93s\n",
      "100:\tlearn: 0.8675000\ttest: 0.9258333\tbest: 0.9125000 (63)\ttotal: 700ms\tremaining: 6.23s\n",
      "150:\tlearn: 0.8504167\ttest: 0.9358333\tbest: 0.9125000 (63)\ttotal: 1.07s\tremaining: 6.01s\n",
      "Stopped by overfitting detector  (100 iterations wait)\n",
      "\n",
      "bestTest = 0.9125\n",
      "bestIteration = 63\n",
      "\n",
      "6:\tloss: 0.9125000\tbest: 0.9108333 (0)\ttotal: 8.79s\tremaining: 29m 58s\n",
      "0:\tlearn: 0.9154167\ttest: 0.9541667\tbest: 0.9541667 (0)\ttotal: 22.3ms\tremaining: 22.3s\n"
     ]
    },
    {
     "name": "stderr",
     "output_type": "stream",
     "text": [
      "Warning: Overfitting detector is active, thus evaluation metric is calculated on every iteration. 'metric_period' is ignored for evaluation metric.\n"
     ]
    },
    {
     "name": "stdout",
     "output_type": "stream",
     "text": [
      "50:\tlearn: 0.8787500\ttest: 0.9258333\tbest: 0.9208333 (48)\ttotal: 365ms\tremaining: 6.79s\n",
      "100:\tlearn: 0.8675000\ttest: 0.9258333\tbest: 0.9125000 (63)\ttotal: 728ms\tremaining: 6.48s\n",
      "150:\tlearn: 0.8504167\ttest: 0.9358333\tbest: 0.9125000 (63)\ttotal: 1.05s\tremaining: 5.88s\n",
      "Stopped by overfitting detector  (100 iterations wait)\n",
      "\n",
      "bestTest = 0.9125\n",
      "bestIteration = 63\n",
      "\n",
      "7:\tloss: 0.9125000\tbest: 0.9108333 (0)\ttotal: 9.92s\tremaining: 29m 35s\n",
      "0:\tlearn: 0.9154167\ttest: 0.9541667\tbest: 0.9541667 (0)\ttotal: 22.1ms\tremaining: 22s\n"
     ]
    },
    {
     "name": "stderr",
     "output_type": "stream",
     "text": [
      "Warning: Overfitting detector is active, thus evaluation metric is calculated on every iteration. 'metric_period' is ignored for evaluation metric.\n"
     ]
    },
    {
     "name": "stdout",
     "output_type": "stream",
     "text": [
      "50:\tlearn: 0.8787500\ttest: 0.9258333\tbest: 0.9208333 (48)\ttotal: 371ms\tremaining: 6.9s\n",
      "100:\tlearn: 0.8675000\ttest: 0.9258333\tbest: 0.9125000 (63)\ttotal: 726ms\tremaining: 6.46s\n",
      "150:\tlearn: 0.8504167\ttest: 0.9358333\tbest: 0.9125000 (63)\ttotal: 1.05s\tremaining: 5.94s\n",
      "Stopped by overfitting detector  (100 iterations wait)\n",
      "\n",
      "bestTest = 0.9125\n",
      "bestIteration = 63\n",
      "\n",
      "8:\tloss: 0.9125000\tbest: 0.9108333 (0)\ttotal: 11.1s\tremaining: 29m 19s\n",
      "0:\tlearn: 0.9154167\ttest: 0.9541667\tbest: 0.9541667 (0)\ttotal: 24.7ms\tremaining: 24.7s\n"
     ]
    },
    {
     "name": "stderr",
     "output_type": "stream",
     "text": [
      "Warning: Overfitting detector is active, thus evaluation metric is calculated on every iteration. 'metric_period' is ignored for evaluation metric.\n"
     ]
    },
    {
     "name": "stdout",
     "output_type": "stream",
     "text": [
      "50:\tlearn: 0.8787500\ttest: 0.9258333\tbest: 0.9208333 (48)\ttotal: 388ms\tremaining: 7.21s\n",
      "100:\tlearn: 0.8675000\ttest: 0.9258333\tbest: 0.9125000 (62)\ttotal: 719ms\tremaining: 6.4s\n",
      "150:\tlearn: 0.8512500\ttest: 0.9341667\tbest: 0.9125000 (62)\ttotal: 1.04s\tremaining: 5.86s\n",
      "Stopped by overfitting detector  (100 iterations wait)\n",
      "\n",
      "bestTest = 0.9125\n",
      "bestIteration = 62\n",
      "\n",
      "9:\tloss: 0.9125000\tbest: 0.9108333 (0)\ttotal: 12.2s\tremaining: 29m 2s\n",
      "0:\tlearn: 0.9154167\ttest: 0.9541667\tbest: 0.9541667 (0)\ttotal: 22.8ms\tremaining: 22.8s\n"
     ]
    },
    {
     "name": "stderr",
     "output_type": "stream",
     "text": [
      "Warning: Overfitting detector is active, thus evaluation metric is calculated on every iteration. 'metric_period' is ignored for evaluation metric.\n"
     ]
    },
    {
     "name": "stdout",
     "output_type": "stream",
     "text": [
      "50:\tlearn: 0.8787500\ttest: 0.9258333\tbest: 0.9208333 (48)\ttotal: 402ms\tremaining: 7.47s\n",
      "100:\tlearn: 0.8679167\ttest: 0.9258333\tbest: 0.9125000 (62)\ttotal: 735ms\tremaining: 6.55s\n",
      "150:\tlearn: 0.8512500\ttest: 0.9325000\tbest: 0.9125000 (62)\ttotal: 1.06s\tremaining: 5.98s\n",
      "Stopped by overfitting detector  (100 iterations wait)\n",
      "\n",
      "bestTest = 0.9125\n",
      "bestIteration = 62\n",
      "\n",
      "10:\tloss: 0.9125000\tbest: 0.9108333 (0)\ttotal: 13.3s\tremaining: 28m 52s\n",
      "0:\tlearn: 0.9154167\ttest: 0.9541667\tbest: 0.9541667 (0)\ttotal: 22.4ms\tremaining: 22.4s\n"
     ]
    },
    {
     "name": "stderr",
     "output_type": "stream",
     "text": [
      "Warning: Overfitting detector is active, thus evaluation metric is calculated on every iteration. 'metric_period' is ignored for evaluation metric.\n"
     ]
    },
    {
     "name": "stdout",
     "output_type": "stream",
     "text": [
      "50:\tlearn: 0.8787500\ttest: 0.9258333\tbest: 0.9208333 (48)\ttotal: 348ms\tremaining: 6.48s\n",
      "100:\tlearn: 0.8679167\ttest: 0.9258333\tbest: 0.9125000 (62)\ttotal: 669ms\tremaining: 5.96s\n",
      "150:\tlearn: 0.8508333\ttest: 0.9325000\tbest: 0.9125000 (62)\ttotal: 993ms\tremaining: 5.58s\n",
      "Stopped by overfitting detector  (100 iterations wait)\n",
      "\n",
      "bestTest = 0.9125\n",
      "bestIteration = 62\n",
      "\n",
      "11:\tloss: 0.9125000\tbest: 0.9108333 (0)\ttotal: 14.4s\tremaining: 28m 34s\n",
      "0:\tlearn: 0.9154167\ttest: 0.9541667\tbest: 0.9541667 (0)\ttotal: 22.2ms\tremaining: 22.2s\n"
     ]
    },
    {
     "name": "stderr",
     "output_type": "stream",
     "text": [
      "Warning: Overfitting detector is active, thus evaluation metric is calculated on every iteration. 'metric_period' is ignored for evaluation metric.\n"
     ]
    },
    {
     "name": "stdout",
     "output_type": "stream",
     "text": [
      "50:\tlearn: 0.8787500\ttest: 0.9258333\tbest: 0.9225000 (1)\ttotal: 373ms\tremaining: 6.95s\n",
      "100:\tlearn: 0.8679167\ttest: 0.9258333\tbest: 0.9125000 (62)\ttotal: 747ms\tremaining: 6.65s\n",
      "150:\tlearn: 0.8508333\ttest: 0.9325000\tbest: 0.9125000 (62)\ttotal: 1.11s\tremaining: 6.22s\n",
      "Stopped by overfitting detector  (100 iterations wait)\n",
      "\n",
      "bestTest = 0.9125\n",
      "bestIteration = 62\n",
      "\n",
      "12:\tloss: 0.9125000\tbest: 0.9108333 (0)\ttotal: 15.6s\tremaining: 28m 31s\n",
      "0:\tlearn: 0.9154167\ttest: 0.9541667\tbest: 0.9541667 (0)\ttotal: 23ms\tremaining: 23s\n"
     ]
    },
    {
     "name": "stderr",
     "output_type": "stream",
     "text": [
      "Warning: Overfitting detector is active, thus evaluation metric is calculated on every iteration. 'metric_period' is ignored for evaluation metric.\n"
     ]
    },
    {
     "name": "stdout",
     "output_type": "stream",
     "text": [
      "50:\tlearn: 0.8787500\ttest: 0.9258333\tbest: 0.9225000 (1)\ttotal: 363ms\tremaining: 6.75s\n",
      "100:\tlearn: 0.8679167\ttest: 0.9258333\tbest: 0.9125000 (62)\ttotal: 725ms\tremaining: 6.45s\n",
      "150:\tlearn: 0.8508333\ttest: 0.9308333\tbest: 0.9125000 (62)\ttotal: 1.04s\tremaining: 5.85s\n",
      "Stopped by overfitting detector  (100 iterations wait)\n",
      "\n",
      "bestTest = 0.9125\n",
      "bestIteration = 62\n",
      "\n",
      "13:\tloss: 0.9125000\tbest: 0.9108333 (0)\ttotal: 16.7s\tremaining: 28m 22s\n",
      "0:\tlearn: 0.9154167\ttest: 0.9541667\tbest: 0.9541667 (0)\ttotal: 22ms\tremaining: 22s\n"
     ]
    },
    {
     "name": "stderr",
     "output_type": "stream",
     "text": [
      "Warning: Overfitting detector is active, thus evaluation metric is calculated on every iteration. 'metric_period' is ignored for evaluation metric.\n"
     ]
    },
    {
     "name": "stdout",
     "output_type": "stream",
     "text": [
      "50:\tlearn: 0.8787500\ttest: 0.9258333\tbest: 0.9225000 (1)\ttotal: 356ms\tremaining: 6.62s\n",
      "100:\tlearn: 0.8675000\ttest: 0.9258333\tbest: 0.9125000 (62)\ttotal: 724ms\tremaining: 6.44s\n",
      "150:\tlearn: 0.8508333\ttest: 0.9308333\tbest: 0.9125000 (62)\ttotal: 1.08s\tremaining: 6.1s\n",
      "Stopped by overfitting detector  (100 iterations wait)\n",
      "\n",
      "bestTest = 0.9125\n",
      "bestIteration = 62\n",
      "\n",
      "14:\tloss: 0.9125000\tbest: 0.9108333 (0)\ttotal: 17.9s\tremaining: 28m 20s\n",
      "0:\tlearn: 0.9154167\ttest: 0.9541667\tbest: 0.9541667 (0)\ttotal: 23.3ms\tremaining: 23.3s\n"
     ]
    },
    {
     "name": "stderr",
     "output_type": "stream",
     "text": [
      "Warning: Overfitting detector is active, thus evaluation metric is calculated on every iteration. 'metric_period' is ignored for evaluation metric.\n"
     ]
    },
    {
     "name": "stdout",
     "output_type": "stream",
     "text": [
      "50:\tlearn: 0.8787500\ttest: 0.9258333\tbest: 0.9225000 (1)\ttotal: 356ms\tremaining: 6.62s\n",
      "100:\tlearn: 0.8675000\ttest: 0.9258333\tbest: 0.9125000 (62)\ttotal: 710ms\tremaining: 6.32s\n",
      "150:\tlearn: 0.8508333\ttest: 0.9308333\tbest: 0.9125000 (62)\ttotal: 1.06s\tremaining: 5.99s\n",
      "Stopped by overfitting detector  (100 iterations wait)\n",
      "\n",
      "bestTest = 0.9125\n",
      "bestIteration = 62\n",
      "\n",
      "15:\tloss: 0.9125000\tbest: 0.9108333 (0)\ttotal: 19s\tremaining: 28m 15s\n",
      "0:\tlearn: 0.9154167\ttest: 0.9541667\tbest: 0.9541667 (0)\ttotal: 22.6ms\tremaining: 22.6s\n"
     ]
    },
    {
     "name": "stderr",
     "output_type": "stream",
     "text": [
      "Warning: Overfitting detector is active, thus evaluation metric is calculated on every iteration. 'metric_period' is ignored for evaluation metric.\n"
     ]
    },
    {
     "name": "stdout",
     "output_type": "stream",
     "text": [
      "50:\tlearn: 0.8787500\ttest: 0.9258333\tbest: 0.9225000 (1)\ttotal: 383ms\tremaining: 7.13s\n",
      "100:\tlearn: 0.8675000\ttest: 0.9258333\tbest: 0.9125000 (62)\ttotal: 737ms\tremaining: 6.56s\n",
      "150:\tlearn: 0.8508333\ttest: 0.9308333\tbest: 0.9125000 (62)\ttotal: 1.1s\tremaining: 6.16s\n",
      "Stopped by overfitting detector  (100 iterations wait)\n",
      "\n",
      "bestTest = 0.9125\n",
      "bestIteration = 62\n",
      "\n",
      "16:\tloss: 0.9125000\tbest: 0.9108333 (0)\ttotal: 20.2s\tremaining: 28m 13s\n",
      "0:\tlearn: 0.9154167\ttest: 0.9541667\tbest: 0.9541667 (0)\ttotal: 23ms\tremaining: 23s\n"
     ]
    },
    {
     "name": "stderr",
     "output_type": "stream",
     "text": [
      "Warning: Overfitting detector is active, thus evaluation metric is calculated on every iteration. 'metric_period' is ignored for evaluation metric.\n"
     ]
    },
    {
     "name": "stdout",
     "output_type": "stream",
     "text": [
      "50:\tlearn: 0.8787500\ttest: 0.9258333\tbest: 0.9225000 (1)\ttotal: 390ms\tremaining: 7.26s\n",
      "100:\tlearn: 0.8675000\ttest: 0.9258333\tbest: 0.9125000 (62)\ttotal: 728ms\tremaining: 6.48s\n",
      "150:\tlearn: 0.8512500\ttest: 0.9308333\tbest: 0.9125000 (62)\ttotal: 1.07s\tremaining: 6.02s\n",
      "Stopped by overfitting detector  (100 iterations wait)\n",
      "\n",
      "bestTest = 0.9125\n",
      "bestIteration = 62\n",
      "\n",
      "17:\tloss: 0.9125000\tbest: 0.9108333 (0)\ttotal: 21.4s\tremaining: 28m 9s\n",
      "0:\tlearn: 0.9154167\ttest: 0.9541667\tbest: 0.9541667 (0)\ttotal: 23.9ms\tremaining: 23.9s\n"
     ]
    },
    {
     "name": "stderr",
     "output_type": "stream",
     "text": [
      "Warning: Overfitting detector is active, thus evaluation metric is calculated on every iteration. 'metric_period' is ignored for evaluation metric.\n"
     ]
    },
    {
     "name": "stdout",
     "output_type": "stream",
     "text": [
      "50:\tlearn: 0.8787500\ttest: 0.9258333\tbest: 0.9225000 (1)\ttotal: 406ms\tremaining: 7.55s\n",
      "100:\tlearn: 0.8675000\ttest: 0.9241667\tbest: 0.9125000 (62)\ttotal: 743ms\tremaining: 6.61s\n",
      "150:\tlearn: 0.8512500\ttest: 0.9308333\tbest: 0.9125000 (62)\ttotal: 1.08s\tremaining: 6.09s\n",
      "Stopped by overfitting detector  (100 iterations wait)\n",
      "\n",
      "bestTest = 0.9125\n",
      "bestIteration = 62\n",
      "\n",
      "18:\tloss: 0.9125000\tbest: 0.9108333 (0)\ttotal: 22.6s\tremaining: 28m 6s\n",
      "0:\tlearn: 0.9154167\ttest: 0.9541667\tbest: 0.9541667 (0)\ttotal: 28.5ms\tremaining: 28.5s\n"
     ]
    },
    {
     "name": "stderr",
     "output_type": "stream",
     "text": [
      "Warning: Overfitting detector is active, thus evaluation metric is calculated on every iteration. 'metric_period' is ignored for evaluation metric.\n"
     ]
    },
    {
     "name": "stdout",
     "output_type": "stream",
     "text": [
      "50:\tlearn: 0.8787500\ttest: 0.9258333\tbest: 0.9225000 (1)\ttotal: 383ms\tremaining: 7.13s\n",
      "100:\tlearn: 0.8670833\ttest: 0.9241667\tbest: 0.9125000 (62)\ttotal: 736ms\tremaining: 6.55s\n",
      "150:\tlearn: 0.8512500\ttest: 0.9308333\tbest: 0.9125000 (62)\ttotal: 1.13s\tremaining: 6.37s\n",
      "Stopped by overfitting detector  (100 iterations wait)\n",
      "\n",
      "bestTest = 0.9125\n",
      "bestIteration = 62\n",
      "\n",
      "19:\tloss: 0.9125000\tbest: 0.9108333 (0)\ttotal: 23.8s\tremaining: 28m 9s\n",
      "0:\tlearn: 0.9154167\ttest: 0.9541667\tbest: 0.9541667 (0)\ttotal: 29.9ms\tremaining: 29.9s\n"
     ]
    },
    {
     "name": "stderr",
     "output_type": "stream",
     "text": [
      "Warning: Overfitting detector is active, thus evaluation metric is calculated on every iteration. 'metric_period' is ignored for evaluation metric.\n"
     ]
    },
    {
     "name": "stdout",
     "output_type": "stream",
     "text": [
      "50:\tlearn: 0.8787500\ttest: 0.9258333\tbest: 0.9225000 (1)\ttotal: 409ms\tremaining: 7.61s\n",
      "100:\tlearn: 0.8670833\ttest: 0.9241667\tbest: 0.9125000 (62)\ttotal: 795ms\tremaining: 7.08s\n",
      "150:\tlearn: 0.8508333\ttest: 0.9308333\tbest: 0.9125000 (62)\ttotal: 1.2s\tremaining: 6.73s\n",
      "Stopped by overfitting detector  (100 iterations wait)\n",
      "\n",
      "bestTest = 0.9125\n",
      "bestIteration = 62\n",
      "\n",
      "20:\tloss: 0.9125000\tbest: 0.9108333 (0)\ttotal: 25.1s\tremaining: 28m 17s\n",
      "0:\tlearn: 0.9154167\ttest: 0.9541667\tbest: 0.9541667 (0)\ttotal: 23.4ms\tremaining: 23.4s\n"
     ]
    },
    {
     "name": "stderr",
     "output_type": "stream",
     "text": [
      "Warning: Overfitting detector is active, thus evaluation metric is calculated on every iteration. 'metric_period' is ignored for evaluation metric.\n"
     ]
    },
    {
     "name": "stdout",
     "output_type": "stream",
     "text": [
      "50:\tlearn: 0.8800000\ttest: 0.9258333\tbest: 0.9225000 (1)\ttotal: 374ms\tremaining: 6.96s\n",
      "100:\tlearn: 0.8670833\ttest: 0.9241667\tbest: 0.9125000 (62)\ttotal: 755ms\tremaining: 6.72s\n",
      "150:\tlearn: 0.8512500\ttest: 0.9308333\tbest: 0.9125000 (62)\ttotal: 1.09s\tremaining: 6.16s\n",
      "Stopped by overfitting detector  (100 iterations wait)\n",
      "\n",
      "bestTest = 0.9125\n",
      "bestIteration = 62\n",
      "\n",
      "21:\tloss: 0.9125000\tbest: 0.9108333 (0)\ttotal: 26.3s\tremaining: 28m 15s\n",
      "0:\tlearn: 0.9154167\ttest: 0.9541667\tbest: 0.9541667 (0)\ttotal: 23.4ms\tremaining: 23.3s\n"
     ]
    },
    {
     "name": "stderr",
     "output_type": "stream",
     "text": [
      "Warning: Overfitting detector is active, thus evaluation metric is calculated on every iteration. 'metric_period' is ignored for evaluation metric.\n"
     ]
    },
    {
     "name": "stdout",
     "output_type": "stream",
     "text": [
      "50:\tlearn: 0.8800000\ttest: 0.9258333\tbest: 0.9225000 (1)\ttotal: 377ms\tremaining: 7.02s\n",
      "100:\tlearn: 0.8670833\ttest: 0.9241667\tbest: 0.9125000 (62)\ttotal: 731ms\tremaining: 6.5s\n",
      "150:\tlearn: 0.8512500\ttest: 0.9291667\tbest: 0.9125000 (62)\ttotal: 1.06s\tremaining: 5.99s\n",
      "Stopped by overfitting detector  (100 iterations wait)\n",
      "\n",
      "bestTest = 0.9125\n",
      "bestIteration = 62\n",
      "\n",
      "22:\tloss: 0.9125000\tbest: 0.9108333 (0)\ttotal: 27.5s\tremaining: 28m 11s\n",
      "0:\tlearn: 0.9154167\ttest: 0.9541667\tbest: 0.9541667 (0)\ttotal: 23.6ms\tremaining: 23.5s\n"
     ]
    },
    {
     "name": "stderr",
     "output_type": "stream",
     "text": [
      "Warning: Overfitting detector is active, thus evaluation metric is calculated on every iteration. 'metric_period' is ignored for evaluation metric.\n"
     ]
    },
    {
     "name": "stdout",
     "output_type": "stream",
     "text": [
      "50:\tlearn: 0.8791667\ttest: 0.9258333\tbest: 0.9225000 (1)\ttotal: 374ms\tremaining: 6.96s\n",
      "100:\tlearn: 0.8720833\ttest: 0.9225000\tbest: 0.9125000 (84)\ttotal: 717ms\tremaining: 6.38s\n",
      "150:\tlearn: 0.8554167\ttest: 0.9291667\tbest: 0.9125000 (84)\ttotal: 1.06s\tremaining: 5.96s\n",
      "Stopped by overfitting detector  (100 iterations wait)\n",
      "\n",
      "bestTest = 0.9125\n",
      "bestIteration = 84\n",
      "\n",
      "23:\tloss: 0.9125000\tbest: 0.9108333 (0)\ttotal: 28.7s\tremaining: 28m 15s\n",
      "0:\tlearn: 0.9154167\ttest: 0.9541667\tbest: 0.9541667 (0)\ttotal: 25.6ms\tremaining: 25.6s\n"
     ]
    },
    {
     "name": "stderr",
     "output_type": "stream",
     "text": [
      "Warning: Overfitting detector is active, thus evaluation metric is calculated on every iteration. 'metric_period' is ignored for evaluation metric.\n"
     ]
    },
    {
     "name": "stdout",
     "output_type": "stream",
     "text": [
      "50:\tlearn: 0.8791667\ttest: 0.9258333\tbest: 0.9225000 (1)\ttotal: 357ms\tremaining: 6.65s\n",
      "100:\tlearn: 0.8720833\ttest: 0.9225000\tbest: 0.9125000 (85)\ttotal: 679ms\tremaining: 6.05s\n",
      "150:\tlearn: 0.8554167\ttest: 0.9291667\tbest: 0.9125000 (85)\ttotal: 997ms\tremaining: 5.6s\n",
      "Stopped by overfitting detector  (100 iterations wait)\n",
      "\n",
      "bestTest = 0.9125\n",
      "bestIteration = 85\n",
      "\n",
      "24:\tloss: 0.9125000\tbest: 0.9108333 (0)\ttotal: 29.9s\tremaining: 28m 15s\n",
      "0:\tlearn: 0.9154167\ttest: 0.9541667\tbest: 0.9541667 (0)\ttotal: 22.2ms\tremaining: 22.1s\n"
     ]
    },
    {
     "name": "stderr",
     "output_type": "stream",
     "text": [
      "Warning: Overfitting detector is active, thus evaluation metric is calculated on every iteration. 'metric_period' is ignored for evaluation metric.\n"
     ]
    },
    {
     "name": "stdout",
     "output_type": "stream",
     "text": [
      "50:\tlearn: 0.8795833\ttest: 0.9258333\tbest: 0.9225000 (1)\ttotal: 374ms\tremaining: 6.96s\n",
      "100:\tlearn: 0.8720833\ttest: 0.9225000\tbest: 0.9125000 (85)\ttotal: 699ms\tremaining: 6.22s\n",
      "150:\tlearn: 0.8554167\ttest: 0.9291667\tbest: 0.9125000 (85)\ttotal: 1.02s\tremaining: 5.74s\n",
      "Stopped by overfitting detector  (100 iterations wait)\n",
      "\n",
      "bestTest = 0.9125\n",
      "bestIteration = 85\n",
      "\n",
      "25:\tloss: 0.9125000\tbest: 0.9108333 (0)\ttotal: 31.2s\tremaining: 28m 17s\n",
      "0:\tlearn: 0.9154167\ttest: 0.9541667\tbest: 0.9541667 (0)\ttotal: 22.6ms\tremaining: 22.6s\n"
     ]
    },
    {
     "name": "stderr",
     "output_type": "stream",
     "text": [
      "Warning: Overfitting detector is active, thus evaluation metric is calculated on every iteration. 'metric_period' is ignored for evaluation metric.\n"
     ]
    },
    {
     "name": "stdout",
     "output_type": "stream",
     "text": [
      "50:\tlearn: 0.8800000\ttest: 0.9258333\tbest: 0.9225000 (1)\ttotal: 352ms\tremaining: 6.54s\n",
      "100:\tlearn: 0.8720833\ttest: 0.9225000\tbest: 0.9141667 (62)\ttotal: 717ms\tremaining: 6.38s\n",
      "150:\tlearn: 0.8554167\ttest: 0.9291667\tbest: 0.9141667 (62)\ttotal: 1.08s\tremaining: 6.09s\n",
      "Stopped by overfitting detector  (100 iterations wait)\n",
      "\n",
      "bestTest = 0.9141666667\n",
      "bestIteration = 62\n",
      "\n",
      "26:\tloss: 0.9141667\tbest: 0.9108333 (0)\ttotal: 32.4s\tremaining: 28m 14s\n",
      "0:\tlearn: 0.9154167\ttest: 0.9541667\tbest: 0.9541667 (0)\ttotal: 22.8ms\tremaining: 22.7s\n"
     ]
    },
    {
     "name": "stderr",
     "output_type": "stream",
     "text": [
      "Warning: Overfitting detector is active, thus evaluation metric is calculated on every iteration. 'metric_period' is ignored for evaluation metric.\n"
     ]
    },
    {
     "name": "stdout",
     "output_type": "stream",
     "text": [
      "50:\tlearn: 0.8800000\ttest: 0.9258333\tbest: 0.9225000 (1)\ttotal: 395ms\tremaining: 7.34s\n",
      "100:\tlearn: 0.8720833\ttest: 0.9225000\tbest: 0.9141667 (62)\ttotal: 745ms\tremaining: 6.63s\n",
      "150:\tlearn: 0.8554167\ttest: 0.9291667\tbest: 0.9141667 (62)\ttotal: 1.08s\tremaining: 6.09s\n",
      "Stopped by overfitting detector  (100 iterations wait)\n",
      "\n",
      "bestTest = 0.9141666667\n",
      "bestIteration = 62\n",
      "\n",
      "27:\tloss: 0.9141667\tbest: 0.9108333 (0)\ttotal: 33.5s\tremaining: 28m 11s\n",
      "0:\tlearn: 0.9154167\ttest: 0.9541667\tbest: 0.9541667 (0)\ttotal: 26.2ms\tremaining: 26.2s\n"
     ]
    },
    {
     "name": "stderr",
     "output_type": "stream",
     "text": [
      "Warning: Overfitting detector is active, thus evaluation metric is calculated on every iteration. 'metric_period' is ignored for evaluation metric.\n"
     ]
    },
    {
     "name": "stdout",
     "output_type": "stream",
     "text": [
      "50:\tlearn: 0.8800000\ttest: 0.9258333\tbest: 0.9225000 (1)\ttotal: 396ms\tremaining: 7.36s\n",
      "100:\tlearn: 0.8720833\ttest: 0.9225000\tbest: 0.9141667 (62)\ttotal: 754ms\tremaining: 6.71s\n",
      "150:\tlearn: 0.8554167\ttest: 0.9291667\tbest: 0.9141667 (62)\ttotal: 1.08s\tremaining: 6.09s\n",
      "Stopped by overfitting detector  (100 iterations wait)\n",
      "\n",
      "bestTest = 0.9141666667\n",
      "bestIteration = 62\n",
      "\n",
      "28:\tloss: 0.9141667\tbest: 0.9108333 (0)\ttotal: 34.7s\tremaining: 28m 9s\n",
      "0:\tlearn: 0.9154167\ttest: 0.9541667\tbest: 0.9541667 (0)\ttotal: 21.9ms\tremaining: 21.9s\n"
     ]
    },
    {
     "name": "stderr",
     "output_type": "stream",
     "text": [
      "Warning: Overfitting detector is active, thus evaluation metric is calculated on every iteration. 'metric_period' is ignored for evaluation metric.\n"
     ]
    },
    {
     "name": "stdout",
     "output_type": "stream",
     "text": [
      "50:\tlearn: 0.8800000\ttest: 0.9258333\tbest: 0.9225000 (1)\ttotal: 343ms\tremaining: 6.38s\n",
      "100:\tlearn: 0.8720833\ttest: 0.9225000\tbest: 0.9141667 (62)\ttotal: 714ms\tremaining: 6.35s\n",
      "150:\tlearn: 0.8554167\ttest: 0.9308333\tbest: 0.9141667 (62)\ttotal: 1.04s\tremaining: 5.84s\n",
      "Stopped by overfitting detector  (100 iterations wait)\n",
      "\n",
      "bestTest = 0.9141666667\n",
      "bestIteration = 62\n",
      "\n",
      "29:\tloss: 0.9141667\tbest: 0.9108333 (0)\ttotal: 35.8s\tremaining: 28m 4s\n",
      "0:\tlearn: 0.9154167\ttest: 0.9541667\tbest: 0.9541667 (0)\ttotal: 22ms\tremaining: 21.9s\n"
     ]
    },
    {
     "name": "stderr",
     "output_type": "stream",
     "text": [
      "Warning: Overfitting detector is active, thus evaluation metric is calculated on every iteration. 'metric_period' is ignored for evaluation metric.\n"
     ]
    },
    {
     "name": "stdout",
     "output_type": "stream",
     "text": [
      "50:\tlearn: 0.8820833\ttest: 0.9241667\tbest: 0.9225000 (1)\ttotal: 346ms\tremaining: 6.43s\n",
      "100:\tlearn: 0.8704167\ttest: 0.9141667\tbest: 0.9091667 (97)\ttotal: 676ms\tremaining: 6.02s\n",
      "150:\tlearn: 0.8579167\ttest: 0.9308333\tbest: 0.9091667 (97)\ttotal: 1.03s\tremaining: 5.81s\n",
      "Stopped by overfitting detector  (100 iterations wait)\n",
      "\n",
      "bestTest = 0.9091666667\n",
      "bestIteration = 97\n",
      "\n",
      "30:\tloss: 0.9091667\tbest: 0.9091667 (30)\ttotal: 37.2s\tremaining: 28m 9s\n",
      "0:\tlearn: 0.9154167\ttest: 0.9541667\tbest: 0.9541667 (0)\ttotal: 23.3ms\tremaining: 23.3s\n"
     ]
    },
    {
     "name": "stderr",
     "output_type": "stream",
     "text": [
      "Warning: Overfitting detector is active, thus evaluation metric is calculated on every iteration. 'metric_period' is ignored for evaluation metric.\n"
     ]
    },
    {
     "name": "stdout",
     "output_type": "stream",
     "text": [
      "50:\tlearn: 0.8825000\ttest: 0.9241667\tbest: 0.9225000 (1)\ttotal: 403ms\tremaining: 7.5s\n",
      "100:\tlearn: 0.8704167\ttest: 0.9141667\tbest: 0.9091667 (97)\ttotal: 797ms\tremaining: 7.1s\n",
      "150:\tlearn: 0.8579167\ttest: 0.9308333\tbest: 0.9091667 (97)\ttotal: 1.2s\tremaining: 6.73s\n",
      "Stopped by overfitting detector  (100 iterations wait)\n",
      "\n",
      "bestTest = 0.9091666667\n",
      "bestIteration = 97\n",
      "\n",
      "31:\tloss: 0.9091667\tbest: 0.9091667 (30)\ttotal: 38.7s\tremaining: 28m 22s\n",
      "0:\tlearn: 0.9154167\ttest: 0.9541667\tbest: 0.9541667 (0)\ttotal: 22.8ms\tremaining: 22.8s\n"
     ]
    },
    {
     "name": "stderr",
     "output_type": "stream",
     "text": [
      "Warning: Overfitting detector is active, thus evaluation metric is calculated on every iteration. 'metric_period' is ignored for evaluation metric.\n"
     ]
    },
    {
     "name": "stdout",
     "output_type": "stream",
     "text": [
      "50:\tlearn: 0.8825000\ttest: 0.9241667\tbest: 0.9225000 (1)\ttotal: 364ms\tremaining: 6.76s\n",
      "100:\tlearn: 0.8704167\ttest: 0.9141667\tbest: 0.9091667 (97)\ttotal: 715ms\tremaining: 6.36s\n",
      "150:\tlearn: 0.8579167\ttest: 0.9308333\tbest: 0.9091667 (97)\ttotal: 1.08s\tremaining: 6.09s\n",
      "Stopped by overfitting detector  (100 iterations wait)\n",
      "\n",
      "bestTest = 0.9091666667\n",
      "bestIteration = 97\n",
      "\n",
      "32:\tloss: 0.9091667\tbest: 0.9091667 (30)\ttotal: 40.1s\tremaining: 28m 28s\n",
      "0:\tlearn: 0.9154167\ttest: 0.9541667\tbest: 0.9541667 (0)\ttotal: 22.9ms\tremaining: 22.8s\n"
     ]
    },
    {
     "name": "stderr",
     "output_type": "stream",
     "text": [
      "Warning: Overfitting detector is active, thus evaluation metric is calculated on every iteration. 'metric_period' is ignored for evaluation metric.\n"
     ]
    },
    {
     "name": "stdout",
     "output_type": "stream",
     "text": [
      "50:\tlearn: 0.8825000\ttest: 0.9241667\tbest: 0.9225000 (1)\ttotal: 408ms\tremaining: 7.59s\n",
      "100:\tlearn: 0.8704167\ttest: 0.9141667\tbest: 0.9091667 (97)\ttotal: 727ms\tremaining: 6.47s\n",
      "150:\tlearn: 0.8579167\ttest: 0.9308333\tbest: 0.9091667 (97)\ttotal: 1.07s\tremaining: 6.02s\n",
      "Stopped by overfitting detector  (100 iterations wait)\n",
      "\n",
      "bestTest = 0.9091666667\n",
      "bestIteration = 97\n",
      "\n",
      "33:\tloss: 0.9091667\tbest: 0.9091667 (30)\ttotal: 41.5s\tremaining: 28m 34s\n",
      "0:\tlearn: 0.9154167\ttest: 0.9541667\tbest: 0.9541667 (0)\ttotal: 21.9ms\tremaining: 21.9s\n"
     ]
    },
    {
     "name": "stderr",
     "output_type": "stream",
     "text": [
      "Warning: Overfitting detector is active, thus evaluation metric is calculated on every iteration. 'metric_period' is ignored for evaluation metric.\n"
     ]
    },
    {
     "name": "stdout",
     "output_type": "stream",
     "text": [
      "50:\tlearn: 0.8825000\ttest: 0.9241667\tbest: 0.9225000 (1)\ttotal: 353ms\tremaining: 6.56s\n",
      "100:\tlearn: 0.8708333\ttest: 0.9141667\tbest: 0.9091667 (97)\ttotal: 708ms\tremaining: 6.31s\n",
      "150:\tlearn: 0.8575000\ttest: 0.9308333\tbest: 0.9091667 (97)\ttotal: 1.07s\tremaining: 6s\n",
      "Stopped by overfitting detector  (100 iterations wait)\n",
      "\n",
      "bestTest = 0.9091666667\n",
      "bestIteration = 97\n",
      "\n",
      "34:\tloss: 0.9091667\tbest: 0.9091667 (30)\ttotal: 42.9s\tremaining: 28m 41s\n",
      "0:\tlearn: 0.9154167\ttest: 0.9541667\tbest: 0.9541667 (0)\ttotal: 23.5ms\tremaining: 23.5s\n"
     ]
    },
    {
     "name": "stderr",
     "output_type": "stream",
     "text": [
      "Warning: Overfitting detector is active, thus evaluation metric is calculated on every iteration. 'metric_period' is ignored for evaluation metric.\n"
     ]
    },
    {
     "name": "stdout",
     "output_type": "stream",
     "text": [
      "50:\tlearn: 0.8825000\ttest: 0.9241667\tbest: 0.9225000 (1)\ttotal: 368ms\tremaining: 6.85s\n",
      "100:\tlearn: 0.8712500\ttest: 0.9141667\tbest: 0.9091667 (97)\ttotal: 700ms\tremaining: 6.23s\n",
      "150:\tlearn: 0.8575000\ttest: 0.9308333\tbest: 0.9091667 (97)\ttotal: 1.04s\tremaining: 5.86s\n",
      "Stopped by overfitting detector  (100 iterations wait)\n",
      "\n",
      "bestTest = 0.9091666667\n",
      "bestIteration = 97\n",
      "\n",
      "35:\tloss: 0.9091667\tbest: 0.9091667 (30)\ttotal: 44.2s\tremaining: 28m 45s\n",
      "0:\tlearn: 0.9154167\ttest: 0.9541667\tbest: 0.9541667 (0)\ttotal: 22.4ms\tremaining: 22.3s\n"
     ]
    },
    {
     "name": "stderr",
     "output_type": "stream",
     "text": [
      "Warning: Overfitting detector is active, thus evaluation metric is calculated on every iteration. 'metric_period' is ignored for evaluation metric.\n"
     ]
    },
    {
     "name": "stdout",
     "output_type": "stream",
     "text": [
      "50:\tlearn: 0.8825000\ttest: 0.9241667\tbest: 0.9225000 (1)\ttotal: 355ms\tremaining: 6.61s\n",
      "100:\tlearn: 0.8712500\ttest: 0.9141667\tbest: 0.9091667 (97)\ttotal: 703ms\tremaining: 6.26s\n",
      "150:\tlearn: 0.8575000\ttest: 0.9308333\tbest: 0.9091667 (97)\ttotal: 1.08s\tremaining: 6.07s\n",
      "Stopped by overfitting detector  (100 iterations wait)\n",
      "\n",
      "bestTest = 0.9091666667\n",
      "bestIteration = 97\n",
      "\n",
      "36:\tloss: 0.9091667\tbest: 0.9091667 (30)\ttotal: 45.6s\tremaining: 28m 50s\n",
      "0:\tlearn: 0.9154167\ttest: 0.9541667\tbest: 0.9541667 (0)\ttotal: 26.4ms\tremaining: 26.3s\n"
     ]
    },
    {
     "name": "stderr",
     "output_type": "stream",
     "text": [
      "Warning: Overfitting detector is active, thus evaluation metric is calculated on every iteration. 'metric_period' is ignored for evaluation metric.\n"
     ]
    },
    {
     "name": "stdout",
     "output_type": "stream",
     "text": [
      "50:\tlearn: 0.8825000\ttest: 0.9241667\tbest: 0.9225000 (1)\ttotal: 344ms\tremaining: 6.4s\n",
      "100:\tlearn: 0.8712500\ttest: 0.9141667\tbest: 0.9091667 (97)\ttotal: 672ms\tremaining: 5.98s\n",
      "150:\tlearn: 0.8575000\ttest: 0.9308333\tbest: 0.9091667 (97)\ttotal: 1.02s\tremaining: 5.75s\n",
      "Stopped by overfitting detector  (100 iterations wait)\n",
      "\n",
      "bestTest = 0.9091666667\n",
      "bestIteration = 97\n",
      "\n",
      "37:\tloss: 0.9091667\tbest: 0.9091667 (30)\ttotal: 46.9s\tremaining: 28m 52s\n",
      "0:\tlearn: 0.9154167\ttest: 0.9541667\tbest: 0.9541667 (0)\ttotal: 22.6ms\tremaining: 22.6s\n"
     ]
    },
    {
     "name": "stderr",
     "output_type": "stream",
     "text": [
      "Warning: Overfitting detector is active, thus evaluation metric is calculated on every iteration. 'metric_period' is ignored for evaluation metric.\n"
     ]
    },
    {
     "name": "stdout",
     "output_type": "stream",
     "text": [
      "50:\tlearn: 0.8825000\ttest: 0.9241667\tbest: 0.9225000 (1)\ttotal: 381ms\tremaining: 7.09s\n",
      "100:\tlearn: 0.8712500\ttest: 0.9141667\tbest: 0.9091667 (97)\ttotal: 734ms\tremaining: 6.53s\n",
      "150:\tlearn: 0.8575000\ttest: 0.9308333\tbest: 0.9091667 (97)\ttotal: 1.08s\tremaining: 6.11s\n",
      "Stopped by overfitting detector  (100 iterations wait)\n",
      "\n",
      "bestTest = 0.9091666667\n",
      "bestIteration = 97\n",
      "\n",
      "38:\tloss: 0.9091667\tbest: 0.9091667 (30)\ttotal: 48.4s\tremaining: 28m 57s\n",
      "0:\tlearn: 0.9154167\ttest: 0.9541667\tbest: 0.9541667 (0)\ttotal: 23.1ms\tremaining: 23.1s\n"
     ]
    },
    {
     "name": "stderr",
     "output_type": "stream",
     "text": [
      "Warning: Overfitting detector is active, thus evaluation metric is calculated on every iteration. 'metric_period' is ignored for evaluation metric.\n"
     ]
    },
    {
     "name": "stdout",
     "output_type": "stream",
     "text": [
      "50:\tlearn: 0.8825000\ttest: 0.9241667\tbest: 0.9225000 (1)\ttotal: 372ms\tremaining: 6.93s\n",
      "100:\tlearn: 0.8712500\ttest: 0.9141667\tbest: 0.9091667 (97)\ttotal: 710ms\tremaining: 6.32s\n",
      "150:\tlearn: 0.8575000\ttest: 0.9308333\tbest: 0.9091667 (97)\ttotal: 1.08s\tremaining: 6.1s\n",
      "Stopped by overfitting detector  (100 iterations wait)\n",
      "\n",
      "bestTest = 0.9091666667\n",
      "bestIteration = 97\n",
      "\n",
      "39:\tloss: 0.9091667\tbest: 0.9091667 (30)\ttotal: 49.7s\tremaining: 29m\n",
      "0:\tlearn: 0.9154167\ttest: 0.9541667\tbest: 0.9541667 (0)\ttotal: 22.3ms\tremaining: 22.3s\n"
     ]
    },
    {
     "name": "stderr",
     "output_type": "stream",
     "text": [
      "Warning: Overfitting detector is active, thus evaluation metric is calculated on every iteration. 'metric_period' is ignored for evaluation metric.\n"
     ]
    },
    {
     "name": "stdout",
     "output_type": "stream",
     "text": [
      "50:\tlearn: 0.8825000\ttest: 0.9241667\tbest: 0.9225000 (1)\ttotal: 356ms\tremaining: 6.62s\n",
      "100:\tlearn: 0.8712500\ttest: 0.9141667\tbest: 0.9091667 (97)\ttotal: 706ms\tremaining: 6.28s\n",
      "150:\tlearn: 0.8575000\ttest: 0.9308333\tbest: 0.9091667 (97)\ttotal: 1.04s\tremaining: 5.86s\n",
      "Stopped by overfitting detector  (100 iterations wait)\n",
      "\n",
      "bestTest = 0.9091666667\n",
      "bestIteration = 97\n",
      "\n",
      "40:\tloss: 0.9091667\tbest: 0.9091667 (30)\ttotal: 51.1s\tremaining: 29m 2s\n",
      "0:\tlearn: 0.9154167\ttest: 0.9541667\tbest: 0.9541667 (0)\ttotal: 22.9ms\tremaining: 22.9s\n"
     ]
    },
    {
     "name": "stderr",
     "output_type": "stream",
     "text": [
      "Warning: Overfitting detector is active, thus evaluation metric is calculated on every iteration. 'metric_period' is ignored for evaluation metric.\n"
     ]
    },
    {
     "name": "stdout",
     "output_type": "stream",
     "text": [
      "50:\tlearn: 0.8825000\ttest: 0.9241667\tbest: 0.9225000 (1)\ttotal: 360ms\tremaining: 6.69s\n",
      "100:\tlearn: 0.8712500\ttest: 0.9141667\tbest: 0.9091667 (97)\ttotal: 703ms\tremaining: 6.26s\n",
      "150:\tlearn: 0.8575000\ttest: 0.9291667\tbest: 0.9091667 (97)\ttotal: 1.04s\tremaining: 5.87s\n",
      "Stopped by overfitting detector  (100 iterations wait)\n",
      "\n",
      "bestTest = 0.9091666667\n",
      "bestIteration = 97\n",
      "\n",
      "41:\tloss: 0.9091667\tbest: 0.9091667 (30)\ttotal: 52.4s\tremaining: 29m 4s\n",
      "0:\tlearn: 0.9154167\ttest: 0.9541667\tbest: 0.9541667 (0)\ttotal: 22.1ms\tremaining: 22.1s\n"
     ]
    },
    {
     "name": "stderr",
     "output_type": "stream",
     "text": [
      "Warning: Overfitting detector is active, thus evaluation metric is calculated on every iteration. 'metric_period' is ignored for evaluation metric.\n"
     ]
    },
    {
     "name": "stdout",
     "output_type": "stream",
     "text": [
      "50:\tlearn: 0.8825000\ttest: 0.9241667\tbest: 0.9225000 (1)\ttotal: 351ms\tremaining: 6.54s\n",
      "100:\tlearn: 0.8712500\ttest: 0.9141667\tbest: 0.9091667 (97)\ttotal: 681ms\tremaining: 6.06s\n",
      "150:\tlearn: 0.8575000\ttest: 0.9291667\tbest: 0.9091667 (97)\ttotal: 1.01s\tremaining: 5.68s\n",
      "Stopped by overfitting detector  (100 iterations wait)\n",
      "\n",
      "bestTest = 0.9091666667\n",
      "bestIteration = 97\n",
      "\n",
      "42:\tloss: 0.9091667\tbest: 0.9091667 (30)\ttotal: 53.7s\tremaining: 29m 5s\n",
      "0:\tlearn: 0.9154167\ttest: 0.9541667\tbest: 0.9541667 (0)\ttotal: 22.1ms\tremaining: 22.1s\n"
     ]
    },
    {
     "name": "stderr",
     "output_type": "stream",
     "text": [
      "Warning: Overfitting detector is active, thus evaluation metric is calculated on every iteration. 'metric_period' is ignored for evaluation metric.\n"
     ]
    },
    {
     "name": "stdout",
     "output_type": "stream",
     "text": [
      "50:\tlearn: 0.8825000\ttest: 0.9241667\tbest: 0.9225000 (1)\ttotal: 383ms\tremaining: 7.12s\n",
      "100:\tlearn: 0.8712500\ttest: 0.9141667\tbest: 0.9091667 (97)\ttotal: 715ms\tremaining: 6.36s\n",
      "150:\tlearn: 0.8575000\ttest: 0.9291667\tbest: 0.9091667 (97)\ttotal: 1.05s\tremaining: 5.89s\n",
      "Stopped by overfitting detector  (100 iterations wait)\n",
      "\n",
      "bestTest = 0.9091666667\n",
      "bestIteration = 97\n",
      "\n",
      "43:\tloss: 0.9091667\tbest: 0.9091667 (30)\ttotal: 55.1s\tremaining: 29m 7s\n",
      "0:\tlearn: 0.9154167\ttest: 0.9541667\tbest: 0.9541667 (0)\ttotal: 22.4ms\tremaining: 22.4s\n"
     ]
    },
    {
     "name": "stderr",
     "output_type": "stream",
     "text": [
      "Warning: Overfitting detector is active, thus evaluation metric is calculated on every iteration. 'metric_period' is ignored for evaluation metric.\n"
     ]
    },
    {
     "name": "stdout",
     "output_type": "stream",
     "text": [
      "50:\tlearn: 0.8825000\ttest: 0.9241667\tbest: 0.9225000 (1)\ttotal: 392ms\tremaining: 7.29s\n",
      "100:\tlearn: 0.8712500\ttest: 0.9141667\tbest: 0.9091667 (97)\ttotal: 721ms\tremaining: 6.42s\n",
      "150:\tlearn: 0.8575000\ttest: 0.9291667\tbest: 0.9091667 (97)\ttotal: 1.05s\tremaining: 5.91s\n",
      "Stopped by overfitting detector  (100 iterations wait)\n",
      "\n",
      "bestTest = 0.9091666667\n",
      "bestIteration = 97\n",
      "\n",
      "44:\tloss: 0.9091667\tbest: 0.9091667 (30)\ttotal: 56.4s\tremaining: 29m 9s\n",
      "0:\tlearn: 0.9100000\ttest: 0.9341667\tbest: 0.9341667 (0)\ttotal: 23.6ms\tremaining: 23.6s\n"
     ]
    },
    {
     "name": "stderr",
     "output_type": "stream",
     "text": [
      "Warning: Overfitting detector is active, thus evaluation metric is calculated on every iteration. 'metric_period' is ignored for evaluation metric.\n"
     ]
    },
    {
     "name": "stdout",
     "output_type": "stream",
     "text": [
      "50:\tlearn: 0.8745833\ttest: 0.9308333\tbest: 0.9208333 (4)\ttotal: 382ms\tremaining: 7.11s\n",
      "100:\tlearn: 0.8341667\ttest: 0.9191667\tbest: 0.9125000 (63)\ttotal: 726ms\tremaining: 6.47s\n",
      "150:\tlearn: 0.8020833\ttest: 0.9141667\tbest: 0.9041667 (130)\ttotal: 1.08s\tremaining: 6.1s\n",
      "200:\tlearn: 0.7827083\ttest: 0.9158333\tbest: 0.9041667 (130)\ttotal: 1.43s\tremaining: 5.69s\n",
      "Stopped by overfitting detector  (100 iterations wait)\n",
      "\n",
      "bestTest = 0.9041666667\n",
      "bestIteration = 130\n",
      "\n",
      "45:\tloss: 0.9041667\tbest: 0.9041667 (45)\ttotal: 58.1s\tremaining: 29m 19s\n"
     ]
    },
    {
     "name": "stderr",
     "output_type": "stream",
     "text": [
      "Warning: Overfitting detector is active, thus evaluation metric is calculated on every iteration. 'metric_period' is ignored for evaluation metric.\n"
     ]
    },
    {
     "name": "stdout",
     "output_type": "stream",
     "text": [
      "0:\tlearn: 0.9100000\ttest: 0.9341667\tbest: 0.9341667 (0)\ttotal: 23.8ms\tremaining: 23.8s\n",
      "50:\tlearn: 0.8745833\ttest: 0.9308333\tbest: 0.9208333 (4)\ttotal: 378ms\tremaining: 7.02s\n",
      "100:\tlearn: 0.8345833\ttest: 0.9191667\tbest: 0.9125000 (63)\ttotal: 729ms\tremaining: 6.49s\n",
      "150:\tlearn: 0.8020833\ttest: 0.9158333\tbest: 0.9058333 (130)\ttotal: 1.09s\tremaining: 6.16s\n",
      "200:\tlearn: 0.7827083\ttest: 0.9158333\tbest: 0.9058333 (130)\ttotal: 1.44s\tremaining: 5.73s\n",
      "Stopped by overfitting detector  (100 iterations wait)\n",
      "\n",
      "bestTest = 0.9058333333\n",
      "bestIteration = 130\n",
      "\n",
      "46:\tloss: 0.9058333\tbest: 0.9041667 (45)\ttotal: 59.7s\tremaining: 29m 29s\n"
     ]
    },
    {
     "name": "stderr",
     "output_type": "stream",
     "text": [
      "Warning: Overfitting detector is active, thus evaluation metric is calculated on every iteration. 'metric_period' is ignored for evaluation metric.\n"
     ]
    },
    {
     "name": "stdout",
     "output_type": "stream",
     "text": [
      "0:\tlearn: 0.9100000\ttest: 0.9341667\tbest: 0.9341667 (0)\ttotal: 25.5ms\tremaining: 25.4s\n",
      "50:\tlearn: 0.8745833\ttest: 0.9308333\tbest: 0.9208333 (4)\ttotal: 416ms\tremaining: 7.75s\n",
      "100:\tlearn: 0.8350000\ttest: 0.9191667\tbest: 0.9125000 (63)\ttotal: 870ms\tremaining: 7.75s\n",
      "150:\tlearn: 0.8020833\ttest: 0.9158333\tbest: 0.9041667 (123)\ttotal: 1.25s\tremaining: 7.02s\n",
      "200:\tlearn: 0.7822917\ttest: 0.9175000\tbest: 0.9041667 (123)\ttotal: 1.6s\tremaining: 6.37s\n",
      "Stopped by overfitting detector  (100 iterations wait)\n",
      "\n",
      "bestTest = 0.9041666667\n",
      "bestIteration = 123\n",
      "\n",
      "47:\tloss: 0.9041667\tbest: 0.9041667 (45)\ttotal: 1m 1s\tremaining: 29m 43s\n",
      "0:\tlearn: 0.9100000\ttest: 0.9341667\tbest: 0.9341667 (0)\ttotal: 24.8ms\tremaining: 24.8s\n"
     ]
    },
    {
     "name": "stderr",
     "output_type": "stream",
     "text": [
      "Warning: Overfitting detector is active, thus evaluation metric is calculated on every iteration. 'metric_period' is ignored for evaluation metric.\n"
     ]
    },
    {
     "name": "stdout",
     "output_type": "stream",
     "text": [
      "50:\tlearn: 0.8745833\ttest: 0.9308333\tbest: 0.9208333 (4)\ttotal: 422ms\tremaining: 7.84s\n",
      "100:\tlearn: 0.8350000\ttest: 0.9175000\tbest: 0.9125000 (63)\ttotal: 842ms\tremaining: 7.49s\n",
      "150:\tlearn: 0.8025000\ttest: 0.9141667\tbest: 0.9041667 (123)\ttotal: 1.22s\tremaining: 6.88s\n",
      "200:\tlearn: 0.7822917\ttest: 0.9175000\tbest: 0.9041667 (123)\ttotal: 1.64s\tremaining: 6.52s\n",
      "Stopped by overfitting detector  (100 iterations wait)\n",
      "\n",
      "bestTest = 0.9041666667\n",
      "bestIteration = 123\n",
      "\n",
      "48:\tloss: 0.9041667\tbest: 0.9041667 (45)\ttotal: 1m 3s\tremaining: 29m 57s\n"
     ]
    },
    {
     "name": "stderr",
     "output_type": "stream",
     "text": [
      "Warning: Overfitting detector is active, thus evaluation metric is calculated on every iteration. 'metric_period' is ignored for evaluation metric.\n"
     ]
    },
    {
     "name": "stdout",
     "output_type": "stream",
     "text": [
      "0:\tlearn: 0.9100000\ttest: 0.9341667\tbest: 0.9341667 (0)\ttotal: 26.7ms\tremaining: 26.7s\n",
      "50:\tlearn: 0.8745833\ttest: 0.9308333\tbest: 0.9208333 (4)\ttotal: 463ms\tremaining: 8.61s\n",
      "100:\tlearn: 0.8350000\ttest: 0.9175000\tbest: 0.9125000 (63)\ttotal: 1.13s\tremaining: 10s\n",
      "150:\tlearn: 0.8025000\ttest: 0.9141667\tbest: 0.9041667 (123)\ttotal: 1.48s\tremaining: 8.34s\n",
      "200:\tlearn: 0.7822917\ttest: 0.9191667\tbest: 0.9041667 (123)\ttotal: 1.84s\tremaining: 7.3s\n",
      "Stopped by overfitting detector  (100 iterations wait)\n",
      "\n",
      "bestTest = 0.9041666667\n",
      "bestIteration = 123\n",
      "\n",
      "49:\tloss: 0.9041667\tbest: 0.9041667 (45)\ttotal: 1m 5s\tremaining: 30m 16s\n",
      "0:\tlearn: 0.9100000\ttest: 0.9341667\tbest: 0.9341667 (0)\ttotal: 26.7ms\tremaining: 26.7s\n"
     ]
    },
    {
     "name": "stderr",
     "output_type": "stream",
     "text": [
      "Warning: Overfitting detector is active, thus evaluation metric is calculated on every iteration. 'metric_period' is ignored for evaluation metric.\n"
     ]
    },
    {
     "name": "stdout",
     "output_type": "stream",
     "text": [
      "50:\tlearn: 0.8745833\ttest: 0.9308333\tbest: 0.9208333 (4)\ttotal: 539ms\tremaining: 10s\n",
      "100:\tlearn: 0.8350000\ttest: 0.9175000\tbest: 0.9125000 (63)\ttotal: 1s\tremaining: 8.93s\n",
      "150:\tlearn: 0.8054167\ttest: 0.9125000\tbest: 0.9025000 (118)\ttotal: 1.54s\tremaining: 8.64s\n",
      "200:\tlearn: 0.7839583\ttest: 0.9208333\tbest: 0.9025000 (118)\ttotal: 2s\tremaining: 7.95s\n",
      "Stopped by overfitting detector  (100 iterations wait)\n",
      "\n",
      "bestTest = 0.9025\n",
      "bestIteration = 118\n",
      "\n",
      "50:\tloss: 0.9025000\tbest: 0.9025000 (50)\ttotal: 1m 7s\tremaining: 30m 38s\n",
      "0:\tlearn: 0.9100000\ttest: 0.9341667\tbest: 0.9341667 (0)\ttotal: 23.1ms\tremaining: 23s\n"
     ]
    },
    {
     "name": "stderr",
     "output_type": "stream",
     "text": [
      "Warning: Overfitting detector is active, thus evaluation metric is calculated on every iteration. 'metric_period' is ignored for evaluation metric.\n"
     ]
    },
    {
     "name": "stdout",
     "output_type": "stream",
     "text": [
      "50:\tlearn: 0.8745833\ttest: 0.9308333\tbest: 0.9208333 (4)\ttotal: 470ms\tremaining: 8.75s\n",
      "100:\tlearn: 0.8350000\ttest: 0.9175000\tbest: 0.9125000 (63)\ttotal: 923ms\tremaining: 8.21s\n",
      "150:\tlearn: 0.8054167\ttest: 0.9125000\tbest: 0.9025000 (118)\ttotal: 1.46s\tremaining: 8.21s\n",
      "200:\tlearn: 0.7845833\ttest: 0.9208333\tbest: 0.9025000 (118)\ttotal: 2.07s\tremaining: 8.24s\n",
      "Stopped by overfitting detector  (100 iterations wait)\n",
      "\n",
      "bestTest = 0.9025\n",
      "bestIteration = 118\n",
      "\n",
      "51:\tloss: 0.9025000\tbest: 0.9025000 (50)\ttotal: 1m 9s\tremaining: 31m 2s\n",
      "0:\tlearn: 0.9100000\ttest: 0.9341667\tbest: 0.9341667 (0)\ttotal: 28.7ms\tremaining: 28.7s\n"
     ]
    },
    {
     "name": "stderr",
     "output_type": "stream",
     "text": [
      "Warning: Overfitting detector is active, thus evaluation metric is calculated on every iteration. 'metric_period' is ignored for evaluation metric.\n"
     ]
    },
    {
     "name": "stdout",
     "output_type": "stream",
     "text": [
      "50:\tlearn: 0.8745833\ttest: 0.9308333\tbest: 0.9208333 (4)\ttotal: 525ms\tremaining: 9.76s\n",
      "100:\tlearn: 0.8350000\ttest: 0.9175000\tbest: 0.9125000 (63)\ttotal: 990ms\tremaining: 8.81s\n",
      "150:\tlearn: 0.8054167\ttest: 0.9125000\tbest: 0.9025000 (118)\ttotal: 1.46s\tremaining: 8.18s\n",
      "200:\tlearn: 0.7845833\ttest: 0.9208333\tbest: 0.9025000 (118)\ttotal: 1.92s\tremaining: 7.64s\n",
      "Stopped by overfitting detector  (100 iterations wait)\n",
      "\n",
      "bestTest = 0.9025\n",
      "bestIteration = 118\n",
      "\n",
      "52:\tloss: 0.9025000\tbest: 0.9025000 (50)\ttotal: 1m 11s\tremaining: 31m 20s\n",
      "0:\tlearn: 0.9100000\ttest: 0.9341667\tbest: 0.9341667 (0)\ttotal: 25ms\tremaining: 25s\n"
     ]
    },
    {
     "name": "stderr",
     "output_type": "stream",
     "text": [
      "Warning: Overfitting detector is active, thus evaluation metric is calculated on every iteration. 'metric_period' is ignored for evaluation metric.\n"
     ]
    },
    {
     "name": "stdout",
     "output_type": "stream",
     "text": [
      "50:\tlearn: 0.8745833\ttest: 0.9308333\tbest: 0.9208333 (4)\ttotal: 494ms\tremaining: 9.19s\n",
      "100:\tlearn: 0.8354167\ttest: 0.9175000\tbest: 0.9125000 (63)\ttotal: 919ms\tremaining: 8.18s\n",
      "150:\tlearn: 0.8058333\ttest: 0.9125000\tbest: 0.9025000 (118)\ttotal: 1.35s\tremaining: 7.57s\n",
      "200:\tlearn: 0.7845833\ttest: 0.9208333\tbest: 0.9025000 (118)\ttotal: 1.83s\tremaining: 7.27s\n",
      "Stopped by overfitting detector  (100 iterations wait)\n",
      "\n",
      "bestTest = 0.9025\n",
      "bestIteration = 118\n",
      "\n",
      "53:\tloss: 0.9025000\tbest: 0.9025000 (50)\ttotal: 1m 13s\tremaining: 31m 36s\n"
     ]
    },
    {
     "name": "stderr",
     "output_type": "stream",
     "text": [
      "Warning: Overfitting detector is active, thus evaluation metric is calculated on every iteration. 'metric_period' is ignored for evaluation metric.\n"
     ]
    },
    {
     "name": "stdout",
     "output_type": "stream",
     "text": [
      "0:\tlearn: 0.9100000\ttest: 0.9341667\tbest: 0.9341667 (0)\ttotal: 26.9ms\tremaining: 26.9s\n",
      "50:\tlearn: 0.8754167\ttest: 0.9308333\tbest: 0.9208333 (4)\ttotal: 1.18s\tremaining: 22s\n",
      "100:\tlearn: 0.8358333\ttest: 0.9175000\tbest: 0.9125000 (63)\ttotal: 1.83s\tremaining: 16.3s\n",
      "150:\tlearn: 0.8050000\ttest: 0.9141667\tbest: 0.9008333 (130)\ttotal: 2.23s\tremaining: 12.6s\n",
      "200:\tlearn: 0.7825000\ttest: 0.9191667\tbest: 0.9008333 (130)\ttotal: 2.7s\tremaining: 10.7s\n",
      "Stopped by overfitting detector  (100 iterations wait)\n",
      "\n",
      "bestTest = 0.9008333333\n",
      "bestIteration = 130\n",
      "\n",
      "54:\tloss: 0.9008333\tbest: 0.9008333 (54)\ttotal: 1m 16s\tremaining: 32m 14s\n",
      "0:\tlearn: 0.9100000\ttest: 0.9341667\tbest: 0.9341667 (0)\ttotal: 24.5ms\tremaining: 24.4s\n"
     ]
    },
    {
     "name": "stderr",
     "output_type": "stream",
     "text": [
      "Warning: Overfitting detector is active, thus evaluation metric is calculated on every iteration. 'metric_period' is ignored for evaluation metric.\n"
     ]
    },
    {
     "name": "stdout",
     "output_type": "stream",
     "text": [
      "50:\tlearn: 0.8754167\ttest: 0.9308333\tbest: 0.9208333 (4)\ttotal: 388ms\tremaining: 7.21s\n",
      "100:\tlearn: 0.8362500\ttest: 0.9175000\tbest: 0.9108333 (63)\ttotal: 787ms\tremaining: 7.01s\n",
      "150:\tlearn: 0.8054167\ttest: 0.9141667\tbest: 0.9008333 (130)\ttotal: 1.25s\tremaining: 7.06s\n",
      "200:\tlearn: 0.7829167\ttest: 0.9191667\tbest: 0.9008333 (130)\ttotal: 1.74s\tremaining: 6.91s\n",
      "Stopped by overfitting detector  (100 iterations wait)\n",
      "\n",
      "bestTest = 0.9008333333\n",
      "bestIteration = 130\n",
      "\n",
      "55:\tloss: 0.9008333\tbest: 0.9008333 (54)\ttotal: 1m 18s\tremaining: 32m 28s\n",
      "0:\tlearn: 0.9100000\ttest: 0.9341667\tbest: 0.9341667 (0)\ttotal: 30.2ms\tremaining: 30.2s\n"
     ]
    },
    {
     "name": "stderr",
     "output_type": "stream",
     "text": [
      "Warning: Overfitting detector is active, thus evaluation metric is calculated on every iteration. 'metric_period' is ignored for evaluation metric.\n"
     ]
    },
    {
     "name": "stdout",
     "output_type": "stream",
     "text": [
      "50:\tlearn: 0.8758333\ttest: 0.9308333\tbest: 0.9208333 (4)\ttotal: 485ms\tremaining: 9.02s\n",
      "100:\tlearn: 0.8358333\ttest: 0.9175000\tbest: 0.9125000 (63)\ttotal: 928ms\tremaining: 8.26s\n",
      "150:\tlearn: 0.8062500\ttest: 0.9125000\tbest: 0.9025000 (118)\ttotal: 1.43s\tremaining: 8.06s\n",
      "200:\tlearn: 0.7825000\ttest: 0.9208333\tbest: 0.9025000 (118)\ttotal: 1.93s\tremaining: 7.66s\n",
      "Stopped by overfitting detector  (100 iterations wait)\n",
      "\n",
      "bestTest = 0.9025\n",
      "bestIteration = 118\n",
      "\n",
      "56:\tloss: 0.9025000\tbest: 0.9008333 (54)\ttotal: 1m 20s\tremaining: 32m 44s\n"
     ]
    },
    {
     "name": "stderr",
     "output_type": "stream",
     "text": [
      "Warning: Overfitting detector is active, thus evaluation metric is calculated on every iteration. 'metric_period' is ignored for evaluation metric.\n"
     ]
    },
    {
     "name": "stdout",
     "output_type": "stream",
     "text": [
      "0:\tlearn: 0.9100000\ttest: 0.9341667\tbest: 0.9341667 (0)\ttotal: 28.4ms\tremaining: 28.3s\n",
      "50:\tlearn: 0.8758333\ttest: 0.9308333\tbest: 0.9208333 (4)\ttotal: 527ms\tremaining: 9.8s\n",
      "100:\tlearn: 0.8358333\ttest: 0.9175000\tbest: 0.9141667 (63)\ttotal: 1.05s\tremaining: 9.38s\n",
      "150:\tlearn: 0.8070833\ttest: 0.9125000\tbest: 0.9025000 (118)\ttotal: 1.56s\tremaining: 8.75s\n",
      "200:\tlearn: 0.7829167\ttest: 0.9208333\tbest: 0.9025000 (118)\ttotal: 2.05s\tremaining: 8.14s\n",
      "Stopped by overfitting detector  (100 iterations wait)\n",
      "\n",
      "bestTest = 0.9025\n",
      "bestIteration = 118\n",
      "\n",
      "57:\tloss: 0.9025000\tbest: 0.9008333 (54)\ttotal: 1m 23s\tremaining: 33m 2s\n",
      "0:\tlearn: 0.9100000\ttest: 0.9341667\tbest: 0.9341667 (0)\ttotal: 25.4ms\tremaining: 25.4s\n"
     ]
    },
    {
     "name": "stderr",
     "output_type": "stream",
     "text": [
      "Warning: Overfitting detector is active, thus evaluation metric is calculated on every iteration. 'metric_period' is ignored for evaluation metric.\n"
     ]
    },
    {
     "name": "stdout",
     "output_type": "stream",
     "text": [
      "50:\tlearn: 0.8758333\ttest: 0.9308333\tbest: 0.9208333 (4)\ttotal: 496ms\tremaining: 9.24s\n",
      "100:\tlearn: 0.8337500\ttest: 0.9175000\tbest: 0.9141667 (63)\ttotal: 983ms\tremaining: 8.75s\n",
      "150:\tlearn: 0.8041667\ttest: 0.9125000\tbest: 0.9058333 (118)\ttotal: 1.43s\tremaining: 8.02s\n",
      "200:\tlearn: 0.7858333\ttest: 0.9208333\tbest: 0.9058333 (118)\ttotal: 1.92s\tremaining: 7.64s\n",
      "Stopped by overfitting detector  (100 iterations wait)\n",
      "\n",
      "bestTest = 0.9058333333\n",
      "bestIteration = 118\n",
      "\n",
      "58:\tloss: 0.9058333\tbest: 0.9008333 (54)\ttotal: 1m 25s\tremaining: 33m 16s\n"
     ]
    },
    {
     "name": "stderr",
     "output_type": "stream",
     "text": [
      "Warning: Overfitting detector is active, thus evaluation metric is calculated on every iteration. 'metric_period' is ignored for evaluation metric.\n"
     ]
    },
    {
     "name": "stdout",
     "output_type": "stream",
     "text": [
      "0:\tlearn: 0.9100000\ttest: 0.9341667\tbest: 0.9341667 (0)\ttotal: 27ms\tremaining: 27s\n",
      "50:\tlearn: 0.8758333\ttest: 0.9308333\tbest: 0.9208333 (4)\ttotal: 957ms\tremaining: 17.8s\n",
      "100:\tlearn: 0.8350000\ttest: 0.9191667\tbest: 0.9141667 (63)\ttotal: 1.75s\tremaining: 15.5s\n",
      "150:\tlearn: 0.8079167\ttest: 0.9108333\tbest: 0.9008333 (119)\ttotal: 2.18s\tremaining: 12.3s\n",
      "200:\tlearn: 0.7825000\ttest: 0.9191667\tbest: 0.9008333 (119)\ttotal: 2.53s\tremaining: 10.1s\n",
      "Stopped by overfitting detector  (100 iterations wait)\n",
      "\n",
      "bestTest = 0.9008333333\n",
      "bestIteration = 119\n",
      "\n",
      "59:\tloss: 0.9008333\tbest: 0.9008333 (54)\ttotal: 1m 27s\tremaining: 33m 43s\n",
      "0:\tlearn: 0.9100000\ttest: 0.9341667\tbest: 0.9341667 (0)\ttotal: 23.6ms\tremaining: 23.6s\n"
     ]
    },
    {
     "name": "stderr",
     "output_type": "stream",
     "text": [
      "Warning: Overfitting detector is active, thus evaluation metric is calculated on every iteration. 'metric_period' is ignored for evaluation metric.\n"
     ]
    },
    {
     "name": "stdout",
     "output_type": "stream",
     "text": [
      "50:\tlearn: 0.8762500\ttest: 0.9308333\tbest: 0.9208333 (4)\ttotal: 412ms\tremaining: 7.67s\n",
      "100:\tlearn: 0.8350000\ttest: 0.9191667\tbest: 0.9141667 (63)\ttotal: 763ms\tremaining: 6.79s\n",
      "150:\tlearn: 0.8083333\ttest: 0.9108333\tbest: 0.9008333 (119)\ttotal: 1.12s\tremaining: 6.3s\n",
      "200:\tlearn: 0.7829167\ttest: 0.9191667\tbest: 0.9008333 (119)\ttotal: 1.5s\tremaining: 5.96s\n",
      "Stopped by overfitting detector  (100 iterations wait)\n",
      "\n",
      "bestTest = 0.9008333333\n",
      "bestIteration = 119\n",
      "\n",
      "60:\tloss: 0.9008333\tbest: 0.9008333 (54)\ttotal: 1m 29s\tremaining: 33m 45s\n",
      "0:\tlearn: 0.9100000\ttest: 0.9341667\tbest: 0.9341667 (0)\ttotal: 22.8ms\tremaining: 22.8s\n"
     ]
    },
    {
     "name": "stderr",
     "output_type": "stream",
     "text": [
      "Warning: Overfitting detector is active, thus evaluation metric is calculated on every iteration. 'metric_period' is ignored for evaluation metric.\n"
     ]
    },
    {
     "name": "stdout",
     "output_type": "stream",
     "text": [
      "50:\tlearn: 0.8762500\ttest: 0.9308333\tbest: 0.9208333 (4)\ttotal: 384ms\tremaining: 7.15s\n",
      "100:\tlearn: 0.8350000\ttest: 0.9191667\tbest: 0.9141667 (63)\ttotal: 754ms\tremaining: 6.71s\n",
      "150:\tlearn: 0.8087500\ttest: 0.9091667\tbest: 0.9008333 (119)\ttotal: 1.12s\tremaining: 6.29s\n",
      "200:\tlearn: 0.7833333\ttest: 0.9175000\tbest: 0.9008333 (119)\ttotal: 1.49s\tremaining: 5.9s\n",
      "Stopped by overfitting detector  (100 iterations wait)\n",
      "\n",
      "bestTest = 0.9008333333\n",
      "bestIteration = 119\n",
      "\n",
      "61:\tloss: 0.9008333\tbest: 0.9008333 (54)\ttotal: 1m 31s\tremaining: 33m 47s\n",
      "0:\tlearn: 0.9100000\ttest: 0.9341667\tbest: 0.9341667 (0)\ttotal: 22.6ms\tremaining: 22.6s\n"
     ]
    },
    {
     "name": "stderr",
     "output_type": "stream",
     "text": [
      "Warning: Overfitting detector is active, thus evaluation metric is calculated on every iteration. 'metric_period' is ignored for evaluation metric.\n"
     ]
    },
    {
     "name": "stdout",
     "output_type": "stream",
     "text": [
      "50:\tlearn: 0.8762500\ttest: 0.9308333\tbest: 0.9208333 (4)\ttotal: 418ms\tremaining: 7.77s\n",
      "100:\tlearn: 0.8350000\ttest: 0.9191667\tbest: 0.9141667 (63)\ttotal: 778ms\tremaining: 6.92s\n",
      "150:\tlearn: 0.8087500\ttest: 0.9091667\tbest: 0.9008333 (118)\ttotal: 1.16s\tremaining: 6.53s\n",
      "200:\tlearn: 0.7845833\ttest: 0.9175000\tbest: 0.9008333 (118)\ttotal: 1.56s\tremaining: 6.2s\n",
      "Stopped by overfitting detector  (100 iterations wait)\n",
      "\n",
      "bestTest = 0.9008333333\n",
      "bestIteration = 118\n",
      "\n",
      "62:\tloss: 0.9008333\tbest: 0.9008333 (54)\ttotal: 1m 32s\tremaining: 33m 50s\n",
      "0:\tlearn: 0.9100000\ttest: 0.9341667\tbest: 0.9341667 (0)\ttotal: 22.7ms\tremaining: 22.7s\n"
     ]
    },
    {
     "name": "stderr",
     "output_type": "stream",
     "text": [
      "Warning: Overfitting detector is active, thus evaluation metric is calculated on every iteration. 'metric_period' is ignored for evaluation metric.\n"
     ]
    },
    {
     "name": "stdout",
     "output_type": "stream",
     "text": [
      "50:\tlearn: 0.8762500\ttest: 0.9308333\tbest: 0.9208333 (4)\ttotal: 374ms\tremaining: 6.96s\n",
      "100:\tlearn: 0.8350000\ttest: 0.9191667\tbest: 0.9141667 (63)\ttotal: 753ms\tremaining: 6.7s\n",
      "150:\tlearn: 0.8091667\ttest: 0.9091667\tbest: 0.9008333 (118)\ttotal: 1.15s\tremaining: 6.47s\n",
      "200:\tlearn: 0.7858333\ttest: 0.9175000\tbest: 0.9008333 (118)\ttotal: 1.52s\tremaining: 6.05s\n",
      "Stopped by overfitting detector  (100 iterations wait)\n",
      "\n",
      "bestTest = 0.9008333333\n",
      "bestIteration = 118\n",
      "\n",
      "63:\tloss: 0.9008333\tbest: 0.9008333 (54)\ttotal: 1m 34s\tremaining: 33m 53s\n",
      "0:\tlearn: 0.9100000\ttest: 0.9341667\tbest: 0.9341667 (0)\ttotal: 22.6ms\tremaining: 22.6s\n"
     ]
    },
    {
     "name": "stderr",
     "output_type": "stream",
     "text": [
      "Warning: Overfitting detector is active, thus evaluation metric is calculated on every iteration. 'metric_period' is ignored for evaluation metric.\n"
     ]
    },
    {
     "ename": "CatBoostError",
     "evalue": "catboost/python-package/catboost/helpers.cpp:44: Traceback (most recent call last):\n  File \"_catboost.pyx\", line 1332, in _catboost._MetricEval\n  File \"_catboost.pyx\", line 1551, in _catboost._try_jit_method.new_method\n  File \"/var/folders/7y/57xm51hj4y11r4hg1s330bth0000gn/T/ipykernel_27290/512832910.py\", line 16, in evaluate\n    conf_matrix = confusion_matrix(y_true, y_pred)\nKeyboardInterrupt\n",
     "output_type": "error",
     "traceback": [
      "\u001b[0;31m---------------------------------------------------------------------------\u001b[0m",
      "\u001b[0;31mKeyboardInterrupt\u001b[0m                         Traceback (most recent call last)",
      "\u001b[0;32m_catboost.pyx\u001b[0m in \u001b[0;36m_catboost._MetricEval\u001b[0;34m()\u001b[0m\n",
      "\u001b[0;32m_catboost.pyx\u001b[0m in \u001b[0;36m_catboost._try_jit_method.new_method\u001b[0;34m()\u001b[0m\n",
      "\u001b[0;32m/var/folders/7y/57xm51hj4y11r4hg1s330bth0000gn/T/ipykernel_27290/512832910.py\u001b[0m in \u001b[0;36mevaluate\u001b[0;34m(self, approxes, target, weight)\u001b[0m\n\u001b[1;32m     15\u001b[0m \u001b[0;34m\u001b[0m\u001b[0m\n\u001b[0;32m---> 16\u001b[0;31m         \u001b[0mconf_matrix\u001b[0m \u001b[0;34m=\u001b[0m \u001b[0mconfusion_matrix\u001b[0m\u001b[0;34m(\u001b[0m\u001b[0my_true\u001b[0m\u001b[0;34m,\u001b[0m \u001b[0my_pred\u001b[0m\u001b[0;34m)\u001b[0m\u001b[0;34m\u001b[0m\u001b[0;34m\u001b[0m\u001b[0m\n\u001b[0m\u001b[1;32m     17\u001b[0m         \u001b[0mloss\u001b[0m \u001b[0;34m=\u001b[0m \u001b[0mnp\u001b[0m\u001b[0;34m.\u001b[0m\u001b[0msum\u001b[0m\u001b[0;34m(\u001b[0m\u001b[0mconf_matrix\u001b[0m \u001b[0;34m*\u001b[0m \u001b[0mcost_matrix\u001b[0m\u001b[0;34m)\u001b[0m \u001b[0;34m/\u001b[0m \u001b[0mlen\u001b[0m\u001b[0;34m(\u001b[0m\u001b[0my_true\u001b[0m\u001b[0;34m)\u001b[0m\u001b[0;34m\u001b[0m\u001b[0;34m\u001b[0m\u001b[0m\n",
      "\u001b[0;31mKeyboardInterrupt\u001b[0m: ",
      "\nDuring handling of the above exception, another exception occurred:\n",
      "\u001b[0;31mCatBoostError\u001b[0m                             Traceback (most recent call last)",
      "\u001b[0;32m/var/folders/7y/57xm51hj4y11r4hg1s330bth0000gn/T/ipykernel_27290/3242178189.py\u001b[0m in \u001b[0;36m<module>\u001b[0;34m\u001b[0m\n\u001b[1;32m     15\u001b[0m \u001b[0;34m\u001b[0m\u001b[0m\n\u001b[1;32m     16\u001b[0m }\n\u001b[0;32m---> 17\u001b[0;31m \u001b[0mmodel\u001b[0m\u001b[0;34m.\u001b[0m\u001b[0mgrid_search\u001b[0m\u001b[0;34m(\u001b[0m\u001b[0mPARAMS\u001b[0m\u001b[0;34m,\u001b[0m \u001b[0mX_train\u001b[0m\u001b[0;34m,\u001b[0m \u001b[0my_train\u001b[0m\u001b[0;34m,\u001b[0m \u001b[0mcv\u001b[0m\u001b[0;34m=\u001b[0m\u001b[0;36m5\u001b[0m\u001b[0;34m,\u001b[0m \u001b[0mplot\u001b[0m\u001b[0;34m=\u001b[0m\u001b[0;32mTrue\u001b[0m\u001b[0;34m,\u001b[0m \u001b[0mrefit\u001b[0m\u001b[0;34m=\u001b[0m\u001b[0;32mTrue\u001b[0m\u001b[0;34m)\u001b[0m\u001b[0;34m\u001b[0m\u001b[0;34m\u001b[0m\u001b[0m\n\u001b[0m",
      "\u001b[0;32m~/opt/anaconda3/lib/python3.8/site-packages/catboost/core.py\u001b[0m in \u001b[0;36mgrid_search\u001b[0;34m(self, param_grid, X, y, cv, partition_random_seed, calc_cv_statistics, search_by_train_test_split, refit, shuffle, stratified, train_size, verbose, plot, plot_file, log_cout, log_cerr)\u001b[0m\n\u001b[1;32m   4120\u001b[0m                     \u001b[0;32mraise\u001b[0m \u001b[0mTypeError\u001b[0m\u001b[0;34m(\u001b[0m\u001b[0;34m'Parameter grid value is not iterable (key={!r}, value={!r})'\u001b[0m\u001b[0;34m.\u001b[0m\u001b[0mformat\u001b[0m\u001b[0;34m(\u001b[0m\u001b[0mkey\u001b[0m\u001b[0;34m,\u001b[0m \u001b[0mgrid\u001b[0m\u001b[0;34m[\u001b[0m\u001b[0mkey\u001b[0m\u001b[0;34m]\u001b[0m\u001b[0;34m)\u001b[0m\u001b[0;34m)\u001b[0m\u001b[0;34m\u001b[0m\u001b[0;34m\u001b[0m\u001b[0m\n\u001b[1;32m   4121\u001b[0m \u001b[0;34m\u001b[0m\u001b[0m\n\u001b[0;32m-> 4122\u001b[0;31m         return self._tune_hyperparams(\n\u001b[0m\u001b[1;32m   4123\u001b[0m             \u001b[0mparam_grid\u001b[0m\u001b[0;34m=\u001b[0m\u001b[0mparam_grid\u001b[0m\u001b[0;34m,\u001b[0m \u001b[0mX\u001b[0m\u001b[0;34m=\u001b[0m\u001b[0mX\u001b[0m\u001b[0;34m,\u001b[0m \u001b[0my\u001b[0m\u001b[0;34m=\u001b[0m\u001b[0my\u001b[0m\u001b[0;34m,\u001b[0m \u001b[0mcv\u001b[0m\u001b[0;34m=\u001b[0m\u001b[0mcv\u001b[0m\u001b[0;34m,\u001b[0m \u001b[0mn_iter\u001b[0m\u001b[0;34m=\u001b[0m\u001b[0;34m-\u001b[0m\u001b[0;36m1\u001b[0m\u001b[0;34m,\u001b[0m\u001b[0;34m\u001b[0m\u001b[0;34m\u001b[0m\u001b[0m\n\u001b[1;32m   4124\u001b[0m             \u001b[0mpartition_random_seed\u001b[0m\u001b[0;34m=\u001b[0m\u001b[0mpartition_random_seed\u001b[0m\u001b[0;34m,\u001b[0m \u001b[0mcalc_cv_statistics\u001b[0m\u001b[0;34m=\u001b[0m\u001b[0mcalc_cv_statistics\u001b[0m\u001b[0;34m,\u001b[0m\u001b[0;34m\u001b[0m\u001b[0;34m\u001b[0m\u001b[0m\n",
      "\u001b[0;32m~/opt/anaconda3/lib/python3.8/site-packages/catboost/core.py\u001b[0m in \u001b[0;36m_tune_hyperparams\u001b[0;34m(self, param_grid, X, y, cv, n_iter, partition_random_seed, calc_cv_statistics, search_by_train_test_split, refit, shuffle, stratified, train_size, verbose, plot, plot_file, log_cout, log_cerr)\u001b[0m\n\u001b[1;32m   4014\u001b[0m \u001b[0;34m\u001b[0m\u001b[0m\n\u001b[1;32m   4015\u001b[0m         \u001b[0;32mwith\u001b[0m \u001b[0mlog_fixup\u001b[0m\u001b[0;34m(\u001b[0m\u001b[0mlog_cout\u001b[0m\u001b[0;34m,\u001b[0m \u001b[0mlog_cerr\u001b[0m\u001b[0;34m)\u001b[0m\u001b[0;34m,\u001b[0m \u001b[0mplot_wrapper\u001b[0m\u001b[0;34m(\u001b[0m\u001b[0mplot\u001b[0m\u001b[0;34m,\u001b[0m \u001b[0mplot_file\u001b[0m\u001b[0;34m,\u001b[0m \u001b[0;34m'Hyperparameters search plot'\u001b[0m\u001b[0;34m,\u001b[0m \u001b[0;34m[\u001b[0m\u001b[0m_get_train_dir\u001b[0m\u001b[0;34m(\u001b[0m\u001b[0mparams\u001b[0m\u001b[0;34m)\u001b[0m\u001b[0;34m]\u001b[0m\u001b[0;34m)\u001b[0m\u001b[0;34m:\u001b[0m\u001b[0;34m\u001b[0m\u001b[0;34m\u001b[0m\u001b[0m\n\u001b[0;32m-> 4016\u001b[0;31m             cv_result = self._object._tune_hyperparams(\n\u001b[0m\u001b[1;32m   4017\u001b[0m                 \u001b[0mparam_grid\u001b[0m\u001b[0;34m,\u001b[0m \u001b[0mtrain_params\u001b[0m\u001b[0;34m[\u001b[0m\u001b[0;34m\"train_pool\"\u001b[0m\u001b[0;34m]\u001b[0m\u001b[0;34m,\u001b[0m \u001b[0mparams\u001b[0m\u001b[0;34m,\u001b[0m \u001b[0mn_iter\u001b[0m\u001b[0;34m,\u001b[0m\u001b[0;34m\u001b[0m\u001b[0;34m\u001b[0m\u001b[0m\n\u001b[1;32m   4018\u001b[0m                 \u001b[0mfold_count\u001b[0m\u001b[0;34m,\u001b[0m \u001b[0mpartition_random_seed\u001b[0m\u001b[0;34m,\u001b[0m \u001b[0mshuffle\u001b[0m\u001b[0;34m,\u001b[0m \u001b[0mstratified\u001b[0m\u001b[0;34m,\u001b[0m \u001b[0mtrain_size\u001b[0m\u001b[0;34m,\u001b[0m\u001b[0;34m\u001b[0m\u001b[0;34m\u001b[0m\u001b[0m\n",
      "\u001b[0;32m_catboost.pyx\u001b[0m in \u001b[0;36m_catboost._CatBoost._tune_hyperparams\u001b[0;34m()\u001b[0m\n",
      "\u001b[0;32m_catboost.pyx\u001b[0m in \u001b[0;36m_catboost._CatBoost._tune_hyperparams\u001b[0;34m()\u001b[0m\n",
      "\u001b[0;31mCatBoostError\u001b[0m: catboost/python-package/catboost/helpers.cpp:44: Traceback (most recent call last):\n  File \"_catboost.pyx\", line 1332, in _catboost._MetricEval\n  File \"_catboost.pyx\", line 1551, in _catboost._try_jit_method.new_method\n  File \"/var/folders/7y/57xm51hj4y11r4hg1s330bth0000gn/T/ipykernel_27290/512832910.py\", line 16, in evaluate\n    conf_matrix = confusion_matrix(y_true, y_pred)\nKeyboardInterrupt\n"
     ]
    }
   ],
   "source": [
    "import numpy as np\n",
    "\n",
    "model = CatBoostClassifier(cat_features=data.cat_cols,\n",
    "                           eval_metric=CountErrors(),\n",
    "                           loss_function='MultiClass',\n",
    "                           early_stopping_rounds = 100,\n",
    "                           class_weights = [2, 1, 2]\n",
    "                           )\n",
    "\n",
    "PARAMS = {\n",
    "    \"metric_period\": [50, 60],\n",
    "    \"max_depth\": np.arange(4, 20, 1),\n",
    "    # \"subsample\": [3, 5, 7]\n",
    "    \"l2_leaf_reg\": np.arange(0.1, 1, 0.02),  # np.arange(0.1, 1, 0.05),\n",
    "    \n",
    "}\n",
    "model.grid_search(PARAMS, X_train, y_train, cv=5, plot=True, refit=True)"
   ]
  },
  {
   "cell_type": "code",
   "execution_count": 163,
   "id": "df930e34-43d2-4742-98df-ffbcbb81941b",
   "metadata": {},
   "outputs": [
    {
     "ename": "TypeError",
     "evalue": "unhashable type: 'numpy.ndarray'",
     "output_type": "error",
     "traceback": [
      "\u001b[0;31m---------------------------------------------------------------------------\u001b[0m",
      "\u001b[0;31mTypeError\u001b[0m                                 Traceback (most recent call last)",
      "\u001b[0;32m/var/folders/7y/57xm51hj4y11r4hg1s330bth0000gn/T/ipykernel_20985/3732722948.py\u001b[0m in \u001b[0;36m<module>\u001b[0;34m\u001b[0m\n\u001b[1;32m      2\u001b[0m \u001b[0;34m\u001b[0m\u001b[0m\n\u001b[1;32m      3\u001b[0m \u001b[0mclasses\u001b[0m \u001b[0;34m=\u001b[0m \u001b[0mnp\u001b[0m\u001b[0;34m.\u001b[0m\u001b[0munique\u001b[0m\u001b[0;34m(\u001b[0m\u001b[0my_train\u001b[0m\u001b[0;34m)\u001b[0m\u001b[0;34m\u001b[0m\u001b[0;34m\u001b[0m\u001b[0m\n\u001b[0;32m----> 4\u001b[0;31m \u001b[0mweights\u001b[0m \u001b[0;34m=\u001b[0m \u001b[0mcompute_class_weight\u001b[0m\u001b[0;34m(\u001b[0m\u001b[0mclass_weight\u001b[0m\u001b[0;34m=\u001b[0m\u001b[0;34m'balanced'\u001b[0m\u001b[0;34m,\u001b[0m \u001b[0mclasses\u001b[0m\u001b[0;34m=\u001b[0m\u001b[0mnp\u001b[0m\u001b[0;34m.\u001b[0m\u001b[0munique\u001b[0m\u001b[0;34m(\u001b[0m\u001b[0my_train\u001b[0m\u001b[0;34m.\u001b[0m\u001b[0mvalues\u001b[0m\u001b[0;34m)\u001b[0m\u001b[0;34m,\u001b[0m \u001b[0my\u001b[0m\u001b[0;34m=\u001b[0m\u001b[0my_train\u001b[0m\u001b[0;34m.\u001b[0m\u001b[0mvalues\u001b[0m\u001b[0;34m)\u001b[0m\u001b[0;34m\u001b[0m\u001b[0;34m\u001b[0m\u001b[0m\n\u001b[0m\u001b[1;32m      5\u001b[0m \u001b[0;31m# class_weights = dict(zip(classes, weights))\u001b[0m\u001b[0;34m\u001b[0m\u001b[0;34m\u001b[0m\u001b[0;34m\u001b[0m\u001b[0m\n",
      "\u001b[0;32m~/opt/anaconda3/lib/python3.8/site-packages/sklearn/utils/class_weight.py\u001b[0m in \u001b[0;36mcompute_class_weight\u001b[0;34m(class_weight, classes, y)\u001b[0m\n\u001b[1;32m     40\u001b[0m     \u001b[0;32mfrom\u001b[0m \u001b[0;34m.\u001b[0m\u001b[0;34m.\u001b[0m\u001b[0mpreprocessing\u001b[0m \u001b[0;32mimport\u001b[0m \u001b[0mLabelEncoder\u001b[0m\u001b[0;34m\u001b[0m\u001b[0;34m\u001b[0m\u001b[0m\n\u001b[1;32m     41\u001b[0m \u001b[0;34m\u001b[0m\u001b[0m\n\u001b[0;32m---> 42\u001b[0;31m     \u001b[0;32mif\u001b[0m \u001b[0mset\u001b[0m\u001b[0;34m(\u001b[0m\u001b[0my\u001b[0m\u001b[0;34m)\u001b[0m \u001b[0;34m-\u001b[0m \u001b[0mset\u001b[0m\u001b[0;34m(\u001b[0m\u001b[0mclasses\u001b[0m\u001b[0;34m)\u001b[0m\u001b[0;34m:\u001b[0m\u001b[0;34m\u001b[0m\u001b[0;34m\u001b[0m\u001b[0m\n\u001b[0m\u001b[1;32m     43\u001b[0m         \u001b[0;32mraise\u001b[0m \u001b[0mValueError\u001b[0m\u001b[0;34m(\u001b[0m\u001b[0;34m\"classes should include all valid labels that can be in y\"\u001b[0m\u001b[0;34m)\u001b[0m\u001b[0;34m\u001b[0m\u001b[0;34m\u001b[0m\u001b[0m\n\u001b[1;32m     44\u001b[0m     \u001b[0;32mif\u001b[0m \u001b[0mclass_weight\u001b[0m \u001b[0;32mis\u001b[0m \u001b[0;32mNone\u001b[0m \u001b[0;32mor\u001b[0m \u001b[0mlen\u001b[0m\u001b[0;34m(\u001b[0m\u001b[0mclass_weight\u001b[0m\u001b[0;34m)\u001b[0m \u001b[0;34m==\u001b[0m \u001b[0;36m0\u001b[0m\u001b[0;34m:\u001b[0m\u001b[0;34m\u001b[0m\u001b[0;34m\u001b[0m\u001b[0m\n",
      "\u001b[0;31mTypeError\u001b[0m: unhashable type: 'numpy.ndarray'"
     ]
    }
   ],
   "source": [
    "from sklearn.utils.class_weight import compute_class_weight\n",
    " \n",
    "classes = np.unique(y_train)\n",
    "weights = compute_class_weight(class_weight='balanced', classes=np.unique(y_train.values), y=y_train.values)\n",
    "# class_weights = dict(zip(classes, weights))"
   ]
  },
  {
   "cell_type": "code",
   "execution_count": 161,
   "id": "54c230fe-6ff1-47aa-9d63-acd74e7292ff",
   "metadata": {},
   "outputs": [
    {
     "data": {
      "text/html": [
       "<div>\n",
       "<style scoped>\n",
       "    .dataframe tbody tr th:only-of-type {\n",
       "        vertical-align: middle;\n",
       "    }\n",
       "\n",
       "    .dataframe tbody tr th {\n",
       "        vertical-align: top;\n",
       "    }\n",
       "\n",
       "    .dataframe thead th {\n",
       "        text-align: right;\n",
       "    }\n",
       "</style>\n",
       "<table border=\"1\" class=\"dataframe\">\n",
       "  <thead>\n",
       "    <tr style=\"text-align: right;\">\n",
       "      <th></th>\n",
       "      <th>Class</th>\n",
       "    </tr>\n",
       "  </thead>\n",
       "  <tbody>\n",
       "    <tr>\n",
       "      <th>3836</th>\n",
       "      <td>1</td>\n",
       "    </tr>\n",
       "    <tr>\n",
       "      <th>6408</th>\n",
       "      <td>1</td>\n",
       "    </tr>\n",
       "    <tr>\n",
       "      <th>4840</th>\n",
       "      <td>1</td>\n",
       "    </tr>\n",
       "    <tr>\n",
       "      <th>527</th>\n",
       "      <td>1</td>\n",
       "    </tr>\n",
       "    <tr>\n",
       "      <th>6105</th>\n",
       "      <td>1</td>\n",
       "    </tr>\n",
       "    <tr>\n",
       "      <th>...</th>\n",
       "      <td>...</td>\n",
       "    </tr>\n",
       "    <tr>\n",
       "      <th>5226</th>\n",
       "      <td>1</td>\n",
       "    </tr>\n",
       "    <tr>\n",
       "      <th>5390</th>\n",
       "      <td>-1</td>\n",
       "    </tr>\n",
       "    <tr>\n",
       "      <th>860</th>\n",
       "      <td>-1</td>\n",
       "    </tr>\n",
       "    <tr>\n",
       "      <th>7603</th>\n",
       "      <td>-1</td>\n",
       "    </tr>\n",
       "    <tr>\n",
       "      <th>7270</th>\n",
       "      <td>1</td>\n",
       "    </tr>\n",
       "  </tbody>\n",
       "</table>\n",
       "<p>6000 rows × 1 columns</p>\n",
       "</div>"
      ],
      "text/plain": [
       "      Class\n",
       "3836      1\n",
       "6408      1\n",
       "4840      1\n",
       "527       1\n",
       "6105      1\n",
       "...     ...\n",
       "5226      1\n",
       "5390     -1\n",
       "860      -1\n",
       "7603     -1\n",
       "7270      1\n",
       "\n",
       "[6000 rows x 1 columns]"
      ]
     },
     "execution_count": 161,
     "metadata": {},
     "output_type": "execute_result"
    }
   ],
   "source": [
    "y_train"
   ]
  },
  {
   "cell_type": "code",
   "execution_count": 168,
   "id": "c9f4661b-67c5-4e61-a439-d682e9a4ab1d",
   "metadata": {},
   "outputs": [
    {
     "name": "stdout",
     "output_type": "stream",
     "text": [
      "0.8655\n"
     ]
    }
   ],
   "source": [
    "baseline = print(cost_function.evaluate_error([0] * len(y_val),y_val))"
   ]
  },
  {
   "cell_type": "code",
   "execution_count": 186,
   "id": "5d5605bf-bab8-4147-a87d-43f3ce764c2f",
   "metadata": {},
   "outputs": [
    {
     "data": {
      "text/html": [
       "<div>\n",
       "<style scoped>\n",
       "    .dataframe tbody tr th:only-of-type {\n",
       "        vertical-align: middle;\n",
       "    }\n",
       "\n",
       "    .dataframe tbody tr th {\n",
       "        vertical-align: top;\n",
       "    }\n",
       "\n",
       "    .dataframe thead th {\n",
       "        text-align: right;\n",
       "    }\n",
       "</style>\n",
       "<table border=\"1\" class=\"dataframe\">\n",
       "  <thead>\n",
       "    <tr style=\"text-align: right;\">\n",
       "      <th></th>\n",
       "      <th>I1</th>\n",
       "      <th>I2</th>\n",
       "      <th>I3</th>\n",
       "      <th>I4</th>\n",
       "      <th>I5</th>\n",
       "      <th>I6</th>\n",
       "      <th>I7</th>\n",
       "      <th>I8</th>\n",
       "      <th>I9</th>\n",
       "      <th>I10</th>\n",
       "      <th>...</th>\n",
       "      <th>G10</th>\n",
       "      <th>G11</th>\n",
       "      <th>G2</th>\n",
       "      <th>G3</th>\n",
       "      <th>G4</th>\n",
       "      <th>G5</th>\n",
       "      <th>G6</th>\n",
       "      <th>G7</th>\n",
       "      <th>G8</th>\n",
       "      <th>G9</th>\n",
       "    </tr>\n",
       "  </thead>\n",
       "  <tbody>\n",
       "    <tr>\n",
       "      <th>0</th>\n",
       "      <td>-0.039702</td>\n",
       "      <td>-0.110934</td>\n",
       "      <td>-0.093235</td>\n",
       "      <td>0.089020</td>\n",
       "      <td>-0.048738</td>\n",
       "      <td>0.023660</td>\n",
       "      <td>-0.006359</td>\n",
       "      <td>-0.092094</td>\n",
       "      <td>0.727864</td>\n",
       "      <td>-0.105462</td>\n",
       "      <td>...</td>\n",
       "      <td>0</td>\n",
       "      <td>0</td>\n",
       "      <td>0</td>\n",
       "      <td>1</td>\n",
       "      <td>0</td>\n",
       "      <td>0</td>\n",
       "      <td>0</td>\n",
       "      <td>0</td>\n",
       "      <td>0</td>\n",
       "      <td>0</td>\n",
       "    </tr>\n",
       "    <tr>\n",
       "      <th>1</th>\n",
       "      <td>-0.626151</td>\n",
       "      <td>-0.138503</td>\n",
       "      <td>-0.109433</td>\n",
       "      <td>-0.351719</td>\n",
       "      <td>0.072964</td>\n",
       "      <td>-0.250281</td>\n",
       "      <td>-0.393670</td>\n",
       "      <td>-0.123525</td>\n",
       "      <td>-0.311781</td>\n",
       "      <td>-0.125845</td>\n",
       "      <td>...</td>\n",
       "      <td>0</td>\n",
       "      <td>0</td>\n",
       "      <td>0</td>\n",
       "      <td>0</td>\n",
       "      <td>0</td>\n",
       "      <td>0</td>\n",
       "      <td>0</td>\n",
       "      <td>0</td>\n",
       "      <td>0</td>\n",
       "      <td>1</td>\n",
       "    </tr>\n",
       "    <tr>\n",
       "      <th>2</th>\n",
       "      <td>-0.905865</td>\n",
       "      <td>-0.131948</td>\n",
       "      <td>-0.084526</td>\n",
       "      <td>-0.892751</td>\n",
       "      <td>0.125449</td>\n",
       "      <td>-1.507389</td>\n",
       "      <td>-0.738919</td>\n",
       "      <td>-0.216046</td>\n",
       "      <td>-1.611120</td>\n",
       "      <td>-0.143551</td>\n",
       "      <td>...</td>\n",
       "      <td>0</td>\n",
       "      <td>0</td>\n",
       "      <td>0</td>\n",
       "      <td>0</td>\n",
       "      <td>0</td>\n",
       "      <td>0</td>\n",
       "      <td>0</td>\n",
       "      <td>1</td>\n",
       "      <td>0</td>\n",
       "      <td>0</td>\n",
       "    </tr>\n",
       "    <tr>\n",
       "      <th>3</th>\n",
       "      <td>0.683946</td>\n",
       "      <td>-0.065844</td>\n",
       "      <td>-0.086297</td>\n",
       "      <td>2.025506</td>\n",
       "      <td>-0.092970</td>\n",
       "      <td>-0.003980</td>\n",
       "      <td>-0.223163</td>\n",
       "      <td>-0.113458</td>\n",
       "      <td>0.254954</td>\n",
       "      <td>-0.038914</td>\n",
       "      <td>...</td>\n",
       "      <td>0</td>\n",
       "      <td>0</td>\n",
       "      <td>1</td>\n",
       "      <td>0</td>\n",
       "      <td>0</td>\n",
       "      <td>0</td>\n",
       "      <td>0</td>\n",
       "      <td>0</td>\n",
       "      <td>0</td>\n",
       "      <td>0</td>\n",
       "    </tr>\n",
       "    <tr>\n",
       "      <th>4</th>\n",
       "      <td>0.145665</td>\n",
       "      <td>-0.035710</td>\n",
       "      <td>-0.058622</td>\n",
       "      <td>-0.018620</td>\n",
       "      <td>-0.139768</td>\n",
       "      <td>0.215845</td>\n",
       "      <td>0.022379</td>\n",
       "      <td>-0.015832</td>\n",
       "      <td>0.505007</td>\n",
       "      <td>-0.041426</td>\n",
       "      <td>...</td>\n",
       "      <td>0</td>\n",
       "      <td>0</td>\n",
       "      <td>1</td>\n",
       "      <td>0</td>\n",
       "      <td>0</td>\n",
       "      <td>0</td>\n",
       "      <td>0</td>\n",
       "      <td>0</td>\n",
       "      <td>0</td>\n",
       "      <td>0</td>\n",
       "    </tr>\n",
       "    <tr>\n",
       "      <th>...</th>\n",
       "      <td>...</td>\n",
       "      <td>...</td>\n",
       "      <td>...</td>\n",
       "      <td>...</td>\n",
       "      <td>...</td>\n",
       "      <td>...</td>\n",
       "      <td>...</td>\n",
       "      <td>...</td>\n",
       "      <td>...</td>\n",
       "      <td>...</td>\n",
       "      <td>...</td>\n",
       "      <td>...</td>\n",
       "      <td>...</td>\n",
       "      <td>...</td>\n",
       "      <td>...</td>\n",
       "      <td>...</td>\n",
       "      <td>...</td>\n",
       "      <td>...</td>\n",
       "      <td>...</td>\n",
       "      <td>...</td>\n",
       "      <td>...</td>\n",
       "    </tr>\n",
       "    <tr>\n",
       "      <th>1995</th>\n",
       "      <td>-1.400589</td>\n",
       "      <td>-0.190351</td>\n",
       "      <td>-0.140412</td>\n",
       "      <td>-0.559429</td>\n",
       "      <td>-0.074503</td>\n",
       "      <td>-0.372709</td>\n",
       "      <td>-0.512515</td>\n",
       "      <td>-0.171568</td>\n",
       "      <td>-0.790917</td>\n",
       "      <td>-0.179268</td>\n",
       "      <td>...</td>\n",
       "      <td>0</td>\n",
       "      <td>0</td>\n",
       "      <td>0</td>\n",
       "      <td>0</td>\n",
       "      <td>0</td>\n",
       "      <td>0</td>\n",
       "      <td>0</td>\n",
       "      <td>0</td>\n",
       "      <td>0</td>\n",
       "      <td>1</td>\n",
       "    </tr>\n",
       "    <tr>\n",
       "      <th>1996</th>\n",
       "      <td>0.757389</td>\n",
       "      <td>-0.080713</td>\n",
       "      <td>-0.094304</td>\n",
       "      <td>-0.113512</td>\n",
       "      <td>0.342420</td>\n",
       "      <td>0.156497</td>\n",
       "      <td>0.718898</td>\n",
       "      <td>-0.030013</td>\n",
       "      <td>2.495552</td>\n",
       "      <td>-0.013698</td>\n",
       "      <td>...</td>\n",
       "      <td>0</td>\n",
       "      <td>1</td>\n",
       "      <td>0</td>\n",
       "      <td>0</td>\n",
       "      <td>0</td>\n",
       "      <td>0</td>\n",
       "      <td>0</td>\n",
       "      <td>0</td>\n",
       "      <td>0</td>\n",
       "      <td>0</td>\n",
       "    </tr>\n",
       "    <tr>\n",
       "      <th>1997</th>\n",
       "      <td>0.649833</td>\n",
       "      <td>-0.004686</td>\n",
       "      <td>-0.067609</td>\n",
       "      <td>2.535272</td>\n",
       "      <td>0.043210</td>\n",
       "      <td>0.424227</td>\n",
       "      <td>0.221294</td>\n",
       "      <td>-0.036597</td>\n",
       "      <td>0.515767</td>\n",
       "      <td>-0.026384</td>\n",
       "      <td>...</td>\n",
       "      <td>0</td>\n",
       "      <td>0</td>\n",
       "      <td>0</td>\n",
       "      <td>0</td>\n",
       "      <td>1</td>\n",
       "      <td>0</td>\n",
       "      <td>0</td>\n",
       "      <td>0</td>\n",
       "      <td>0</td>\n",
       "      <td>0</td>\n",
       "    </tr>\n",
       "    <tr>\n",
       "      <th>1998</th>\n",
       "      <td>-1.063707</td>\n",
       "      <td>-0.093459</td>\n",
       "      <td>-0.115311</td>\n",
       "      <td>0.000000</td>\n",
       "      <td>3.248457</td>\n",
       "      <td>9.890585</td>\n",
       "      <td>10.127324</td>\n",
       "      <td>0.555772</td>\n",
       "      <td>0.099303</td>\n",
       "      <td>-0.070779</td>\n",
       "      <td>...</td>\n",
       "      <td>0</td>\n",
       "      <td>0</td>\n",
       "      <td>0</td>\n",
       "      <td>0</td>\n",
       "      <td>0</td>\n",
       "      <td>0</td>\n",
       "      <td>0</td>\n",
       "      <td>0</td>\n",
       "      <td>0</td>\n",
       "      <td>0</td>\n",
       "    </tr>\n",
       "    <tr>\n",
       "      <th>1999</th>\n",
       "      <td>0.680477</td>\n",
       "      <td>-0.045679</td>\n",
       "      <td>-0.065699</td>\n",
       "      <td>-0.413338</td>\n",
       "      <td>-0.295211</td>\n",
       "      <td>-0.214005</td>\n",
       "      <td>-0.211156</td>\n",
       "      <td>-0.119989</td>\n",
       "      <td>-0.094558</td>\n",
       "      <td>0.029375</td>\n",
       "      <td>...</td>\n",
       "      <td>0</td>\n",
       "      <td>0</td>\n",
       "      <td>0</td>\n",
       "      <td>0</td>\n",
       "      <td>0</td>\n",
       "      <td>0</td>\n",
       "      <td>0</td>\n",
       "      <td>0</td>\n",
       "      <td>1</td>\n",
       "      <td>0</td>\n",
       "    </tr>\n",
       "  </tbody>\n",
       "</table>\n",
       "<p>2000 rows × 127 columns</p>\n",
       "</div>"
      ],
      "text/plain": [
       "            I1        I2        I3        I4        I5        I6         I7  \\\n",
       "0    -0.039702 -0.110934 -0.093235  0.089020 -0.048738  0.023660  -0.006359   \n",
       "1    -0.626151 -0.138503 -0.109433 -0.351719  0.072964 -0.250281  -0.393670   \n",
       "2    -0.905865 -0.131948 -0.084526 -0.892751  0.125449 -1.507389  -0.738919   \n",
       "3     0.683946 -0.065844 -0.086297  2.025506 -0.092970 -0.003980  -0.223163   \n",
       "4     0.145665 -0.035710 -0.058622 -0.018620 -0.139768  0.215845   0.022379   \n",
       "...        ...       ...       ...       ...       ...       ...        ...   \n",
       "1995 -1.400589 -0.190351 -0.140412 -0.559429 -0.074503 -0.372709  -0.512515   \n",
       "1996  0.757389 -0.080713 -0.094304 -0.113512  0.342420  0.156497   0.718898   \n",
       "1997  0.649833 -0.004686 -0.067609  2.535272  0.043210  0.424227   0.221294   \n",
       "1998 -1.063707 -0.093459 -0.115311  0.000000  3.248457  9.890585  10.127324   \n",
       "1999  0.680477 -0.045679 -0.065699 -0.413338 -0.295211 -0.214005  -0.211156   \n",
       "\n",
       "            I8        I9       I10  ...  G10  G11  G2  G3  G4  G5  G6  G7  G8  \\\n",
       "0    -0.092094  0.727864 -0.105462  ...    0    0   0   1   0   0   0   0   0   \n",
       "1    -0.123525 -0.311781 -0.125845  ...    0    0   0   0   0   0   0   0   0   \n",
       "2    -0.216046 -1.611120 -0.143551  ...    0    0   0   0   0   0   0   1   0   \n",
       "3    -0.113458  0.254954 -0.038914  ...    0    0   1   0   0   0   0   0   0   \n",
       "4    -0.015832  0.505007 -0.041426  ...    0    0   1   0   0   0   0   0   0   \n",
       "...        ...       ...       ...  ...  ...  ...  ..  ..  ..  ..  ..  ..  ..   \n",
       "1995 -0.171568 -0.790917 -0.179268  ...    0    0   0   0   0   0   0   0   0   \n",
       "1996 -0.030013  2.495552 -0.013698  ...    0    1   0   0   0   0   0   0   0   \n",
       "1997 -0.036597  0.515767 -0.026384  ...    0    0   0   0   1   0   0   0   0   \n",
       "1998  0.555772  0.099303 -0.070779  ...    0    0   0   0   0   0   0   0   0   \n",
       "1999 -0.119989 -0.094558  0.029375  ...    0    0   0   0   0   0   0   0   1   \n",
       "\n",
       "      G9  \n",
       "0      0  \n",
       "1      1  \n",
       "2      0  \n",
       "3      0  \n",
       "4      0  \n",
       "...   ..  \n",
       "1995   1  \n",
       "1996   0  \n",
       "1997   0  \n",
       "1998   0  \n",
       "1999   0  \n",
       "\n",
       "[2000 rows x 127 columns]"
      ]
     },
     "execution_count": 186,
     "metadata": {},
     "output_type": "execute_result"
    }
   ],
   "source": []
  },
  {
   "cell_type": "code",
   "execution_count": 29,
   "id": "929baca3-2ceb-4707-8f2f-60403d52dabd",
   "metadata": {},
   "outputs": [],
   "source": [
    "# try SVM\n",
    "\n",
    "from sklearn.svm import SVC\n",
    "\n",
    "svc = SVC()\n",
    "\n",
    "svc.fit(X_train, y_train['Class'].ravel())\n",
    "preds = svc.predict(X_val)"
   ]
  },
  {
   "cell_type": "code",
   "execution_count": 30,
   "id": "2a5c8741-b58e-411b-a183-c43d08fbacc1",
   "metadata": {},
   "outputs": [
    {
     "data": {
      "text/plain": [
       "0.9215"
      ]
     },
     "execution_count": 30,
     "metadata": {},
     "output_type": "execute_result"
    }
   ],
   "source": [
    "cost_function.evaluate_error(preds, y_val)"
   ]
  },
  {
   "cell_type": "code",
   "execution_count": null,
   "id": "62eff5e0-dd41-432e-8b25-503911eb8e1f",
   "metadata": {},
   "outputs": [],
   "source": [
    "# try "
   ]
  },
  {
   "cell_type": "code",
   "execution_count": null,
   "id": "6cdc2530-26f0-4a5f-a468-05d4afd64ccf",
   "metadata": {},
   "outputs": [],
   "source": []
  }
 ],
 "metadata": {
  "kernelspec": {
   "display_name": "Python 3 (ipykernel)",
   "language": "python",
   "name": "python3"
  },
  "language_info": {
   "codemirror_mode": {
    "name": "ipython",
    "version": 3
   },
   "file_extension": ".py",
   "mimetype": "text/x-python",
   "name": "python",
   "nbconvert_exporter": "python",
   "pygments_lexer": "ipython3",
   "version": "3.8.3"
  }
 },
 "nbformat": 4,
 "nbformat_minor": 5
}
