{
 "cells": [
  {
   "cell_type": "code",
   "execution_count": null,
   "id": "6999ad70-93d9-45d2-a8e5-76b3dedf6152",
   "metadata": {},
   "outputs": [],
   "source": [
    "class TransformPipeline():\n",
    "    # possible args\n",
    "    def __init__(self, pipeline_names):\n",
    "        pipeline = []\n",
    "        \n",
    "        if not pipeline_names:\n",
    "            pipeline = [\"XY_split\", ]\n",
    "\n",
    "        \n",
    "        units = {\n",
    "            \"StandardScaler\": 0,\n",
    "            \"MeanImputer\": 0,\n",
    "            \"DummyCats\": 0,\n",
    "            \"PCA\": 0,\n",
    "            \"\"\n",
    "        }\n",
    "        \n",
    "        \n",
    "        for i in pipeline_names:\n",
    "            try:\n",
    "                pipeline.append(i)\n",
    "            except:\n",
    "                raise Exception(f\"Wrong keyword: {i}. Get keywords from {units.keys()}\")\n",
    "    \n",
    "    def get_pipeline_names():\n",
    "        pass\n",
    "    "
   ]
  }
 ],
 "metadata": {
  "kernelspec": {
   "display_name": "Python 3 (ipykernel)",
   "language": "python",
   "name": "python3"
  },
  "language_info": {
   "codemirror_mode": {
    "name": "ipython",
    "version": 3
   },
   "file_extension": ".py",
   "mimetype": "text/x-python",
   "name": "python",
   "nbconvert_exporter": "python",
   "pygments_lexer": "ipython3",
   "version": "3.8.3"
  }
 },
 "nbformat": 4,
 "nbformat_minor": 5
}
