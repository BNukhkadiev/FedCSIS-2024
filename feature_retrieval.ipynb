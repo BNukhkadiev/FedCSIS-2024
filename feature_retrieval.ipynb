{
 "cells": [
  {
   "cell_type": "code",
   "execution_count": 45,
   "id": "07f0df01-6670-493e-a6f8-3aaec7588adc",
   "metadata": {},
   "outputs": [],
   "source": [
    "from matplotlib import pyplot as plt\n",
    "import pandas as pd\n",
    "import seaborn as sns\n",
    "import numpy as np\n"
   ]
  },
  {
   "cell_type": "code",
   "execution_count": 2,
   "id": "de376ca9-ec64-4827-b13c-4d166434f94c",
   "metadata": {},
   "outputs": [],
   "source": [
    "training_data = pd.read_csv('data/training_data.csv', sep=';', decimal=',')"
   ]
  },
  {
   "cell_type": "code",
   "execution_count": 8,
   "id": "ccf5719f-1ee9-4e31-b1be-35f5df8170c2",
   "metadata": {},
   "outputs": [
    {
     "data": {
      "text/html": [
       "<div>\n",
       "<style scoped>\n",
       "    .dataframe tbody tr th:only-of-type {\n",
       "        vertical-align: middle;\n",
       "    }\n",
       "\n",
       "    .dataframe tbody tr th {\n",
       "        vertical-align: top;\n",
       "    }\n",
       "\n",
       "    .dataframe thead th {\n",
       "        text-align: right;\n",
       "    }\n",
       "</style>\n",
       "<table border=\"1\" class=\"dataframe\">\n",
       "  <thead>\n",
       "    <tr style=\"text-align: right;\">\n",
       "      <th></th>\n",
       "      <th>Group</th>\n",
       "      <th>I1</th>\n",
       "      <th>I2</th>\n",
       "      <th>I3</th>\n",
       "      <th>I4</th>\n",
       "      <th>I5</th>\n",
       "      <th>I6</th>\n",
       "      <th>I7</th>\n",
       "      <th>I8</th>\n",
       "      <th>I9</th>\n",
       "      <th>...</th>\n",
       "      <th>dI51</th>\n",
       "      <th>dI52</th>\n",
       "      <th>dI53</th>\n",
       "      <th>dI54</th>\n",
       "      <th>dI55</th>\n",
       "      <th>dI56</th>\n",
       "      <th>dI57</th>\n",
       "      <th>dI58</th>\n",
       "      <th>Class</th>\n",
       "      <th>Perform</th>\n",
       "    </tr>\n",
       "  </thead>\n",
       "  <tbody>\n",
       "    <tr>\n",
       "      <th>0</th>\n",
       "      <td>G9</td>\n",
       "      <td>0.136495</td>\n",
       "      <td>-0.028429</td>\n",
       "      <td>-0.037772</td>\n",
       "      <td>-0.232459</td>\n",
       "      <td>-0.016222</td>\n",
       "      <td>-0.187506</td>\n",
       "      <td>-0.322545</td>\n",
       "      <td>-0.043743</td>\n",
       "      <td>0.125389</td>\n",
       "      <td>...</td>\n",
       "      <td>0.102563</td>\n",
       "      <td>0.188481</td>\n",
       "      <td>-0.016027</td>\n",
       "      <td>-0.135451</td>\n",
       "      <td>-0.189667</td>\n",
       "      <td>0.250967</td>\n",
       "      <td>0.022171</td>\n",
       "      <td>-0.004265</td>\n",
       "      <td>-1</td>\n",
       "      <td>-0.033764</td>\n",
       "    </tr>\n",
       "    <tr>\n",
       "      <th>1</th>\n",
       "      <td>G5</td>\n",
       "      <td>-0.714522</td>\n",
       "      <td>-0.042137</td>\n",
       "      <td>-0.052968</td>\n",
       "      <td>-0.796862</td>\n",
       "      <td>-0.018394</td>\n",
       "      <td>0.070102</td>\n",
       "      <td>-0.076321</td>\n",
       "      <td>-0.063864</td>\n",
       "      <td>-1.045521</td>\n",
       "      <td>...</td>\n",
       "      <td>-0.016375</td>\n",
       "      <td>0.020727</td>\n",
       "      <td>-0.006525</td>\n",
       "      <td>-0.018790</td>\n",
       "      <td>-0.098543</td>\n",
       "      <td>0.317744</td>\n",
       "      <td>-0.180502</td>\n",
       "      <td>-0.009215</td>\n",
       "      <td>1</td>\n",
       "      <td>0.127771</td>\n",
       "    </tr>\n",
       "    <tr>\n",
       "      <th>2</th>\n",
       "      <td>G10</td>\n",
       "      <td>0.104791</td>\n",
       "      <td>-0.038188</td>\n",
       "      <td>-0.053191</td>\n",
       "      <td>0.620233</td>\n",
       "      <td>0.148587</td>\n",
       "      <td>0.489875</td>\n",
       "      <td>0.319274</td>\n",
       "      <td>-0.060246</td>\n",
       "      <td>0.053174</td>\n",
       "      <td>...</td>\n",
       "      <td>0.272937</td>\n",
       "      <td>0.774169</td>\n",
       "      <td>-0.007144</td>\n",
       "      <td>0.123954</td>\n",
       "      <td>0.000000</td>\n",
       "      <td>-0.110103</td>\n",
       "      <td>0.186669</td>\n",
       "      <td>-0.030720</td>\n",
       "      <td>1</td>\n",
       "      <td>0.183500</td>\n",
       "    </tr>\n",
       "    <tr>\n",
       "      <th>3</th>\n",
       "      <td>G2</td>\n",
       "      <td>-0.532847</td>\n",
       "      <td>-0.006582</td>\n",
       "      <td>-0.023377</td>\n",
       "      <td>1.306702</td>\n",
       "      <td>-0.068909</td>\n",
       "      <td>0.048024</td>\n",
       "      <td>-0.119481</td>\n",
       "      <td>-0.021057</td>\n",
       "      <td>-1.012916</td>\n",
       "      <td>...</td>\n",
       "      <td>0.004938</td>\n",
       "      <td>0.018494</td>\n",
       "      <td>-0.003350</td>\n",
       "      <td>-0.029214</td>\n",
       "      <td>0.045747</td>\n",
       "      <td>-0.076884</td>\n",
       "      <td>-0.037859</td>\n",
       "      <td>-0.012046</td>\n",
       "      <td>-1</td>\n",
       "      <td>-0.035668</td>\n",
       "    </tr>\n",
       "    <tr>\n",
       "      <th>4</th>\n",
       "      <td>G3</td>\n",
       "      <td>-0.200815</td>\n",
       "      <td>-0.016334</td>\n",
       "      <td>-0.036754</td>\n",
       "      <td>-0.886675</td>\n",
       "      <td>0.484495</td>\n",
       "      <td>-1.148744</td>\n",
       "      <td>0.152517</td>\n",
       "      <td>-0.043580</td>\n",
       "      <td>-0.935537</td>\n",
       "      <td>...</td>\n",
       "      <td>-0.014812</td>\n",
       "      <td>-0.324584</td>\n",
       "      <td>-0.019002</td>\n",
       "      <td>-0.379323</td>\n",
       "      <td>-0.046024</td>\n",
       "      <td>0.282145</td>\n",
       "      <td>0.011008</td>\n",
       "      <td>0.010496</td>\n",
       "      <td>1</td>\n",
       "      <td>0.235055</td>\n",
       "    </tr>\n",
       "    <tr>\n",
       "      <th>...</th>\n",
       "      <td>...</td>\n",
       "      <td>...</td>\n",
       "      <td>...</td>\n",
       "      <td>...</td>\n",
       "      <td>...</td>\n",
       "      <td>...</td>\n",
       "      <td>...</td>\n",
       "      <td>...</td>\n",
       "      <td>...</td>\n",
       "      <td>...</td>\n",
       "      <td>...</td>\n",
       "      <td>...</td>\n",
       "      <td>...</td>\n",
       "      <td>...</td>\n",
       "      <td>...</td>\n",
       "      <td>...</td>\n",
       "      <td>...</td>\n",
       "      <td>...</td>\n",
       "      <td>...</td>\n",
       "      <td>...</td>\n",
       "      <td>...</td>\n",
       "    </tr>\n",
       "    <tr>\n",
       "      <th>7995</th>\n",
       "      <td>G1</td>\n",
       "      <td>-0.946477</td>\n",
       "      <td>-0.039767</td>\n",
       "      <td>-0.051916</td>\n",
       "      <td>NaN</td>\n",
       "      <td>-9.099326</td>\n",
       "      <td>1.470616</td>\n",
       "      <td>1.470374</td>\n",
       "      <td>-0.045827</td>\n",
       "      <td>-1.323460</td>\n",
       "      <td>...</td>\n",
       "      <td>NaN</td>\n",
       "      <td>NaN</td>\n",
       "      <td>-0.015913</td>\n",
       "      <td>0.019281</td>\n",
       "      <td>-0.000427</td>\n",
       "      <td>-0.642472</td>\n",
       "      <td>-4.266003</td>\n",
       "      <td>0.009687</td>\n",
       "      <td>1</td>\n",
       "      <td>0.239101</td>\n",
       "    </tr>\n",
       "    <tr>\n",
       "      <th>7996</th>\n",
       "      <td>G7</td>\n",
       "      <td>-0.521183</td>\n",
       "      <td>-0.038272</td>\n",
       "      <td>-0.047929</td>\n",
       "      <td>-0.820632</td>\n",
       "      <td>-0.179414</td>\n",
       "      <td>-0.774646</td>\n",
       "      <td>0.413706</td>\n",
       "      <td>-0.051830</td>\n",
       "      <td>-0.378937</td>\n",
       "      <td>...</td>\n",
       "      <td>-0.168750</td>\n",
       "      <td>0.120571</td>\n",
       "      <td>-0.010506</td>\n",
       "      <td>-0.100286</td>\n",
       "      <td>-0.198928</td>\n",
       "      <td>0.053720</td>\n",
       "      <td>-0.001450</td>\n",
       "      <td>-0.001877</td>\n",
       "      <td>1</td>\n",
       "      <td>0.242938</td>\n",
       "    </tr>\n",
       "    <tr>\n",
       "      <th>7997</th>\n",
       "      <td>G2</td>\n",
       "      <td>0.323233</td>\n",
       "      <td>-0.031075</td>\n",
       "      <td>-0.045713</td>\n",
       "      <td>-0.105448</td>\n",
       "      <td>-0.103823</td>\n",
       "      <td>0.153551</td>\n",
       "      <td>-0.052157</td>\n",
       "      <td>-0.056057</td>\n",
       "      <td>-0.163512</td>\n",
       "      <td>...</td>\n",
       "      <td>0.245000</td>\n",
       "      <td>0.079662</td>\n",
       "      <td>-0.009150</td>\n",
       "      <td>-0.191322</td>\n",
       "      <td>-0.083576</td>\n",
       "      <td>0.024407</td>\n",
       "      <td>0.299832</td>\n",
       "      <td>-0.011129</td>\n",
       "      <td>1</td>\n",
       "      <td>0.279085</td>\n",
       "    </tr>\n",
       "    <tr>\n",
       "      <th>7998</th>\n",
       "      <td>G4</td>\n",
       "      <td>1.084416</td>\n",
       "      <td>-0.028497</td>\n",
       "      <td>-0.047528</td>\n",
       "      <td>-0.180118</td>\n",
       "      <td>-0.634162</td>\n",
       "      <td>0.143589</td>\n",
       "      <td>-0.033258</td>\n",
       "      <td>-0.058396</td>\n",
       "      <td>0.088713</td>\n",
       "      <td>...</td>\n",
       "      <td>-0.041688</td>\n",
       "      <td>-0.238481</td>\n",
       "      <td>0.006060</td>\n",
       "      <td>-0.016044</td>\n",
       "      <td>NaN</td>\n",
       "      <td>0.209235</td>\n",
       "      <td>-0.165349</td>\n",
       "      <td>0.012005</td>\n",
       "      <td>-1</td>\n",
       "      <td>-0.171056</td>\n",
       "    </tr>\n",
       "    <tr>\n",
       "      <th>7999</th>\n",
       "      <td>G2</td>\n",
       "      <td>0.373261</td>\n",
       "      <td>-0.030294</td>\n",
       "      <td>-0.042319</td>\n",
       "      <td>0.675851</td>\n",
       "      <td>-0.099477</td>\n",
       "      <td>-0.113594</td>\n",
       "      <td>-0.347344</td>\n",
       "      <td>-0.053667</td>\n",
       "      <td>0.004552</td>\n",
       "      <td>...</td>\n",
       "      <td>-0.053937</td>\n",
       "      <td>-0.073351</td>\n",
       "      <td>-0.000804</td>\n",
       "      <td>-0.118711</td>\n",
       "      <td>-0.106933</td>\n",
       "      <td>-0.034372</td>\n",
       "      <td>0.017757</td>\n",
       "      <td>0.005796</td>\n",
       "      <td>0</td>\n",
       "      <td>-0.004043</td>\n",
       "    </tr>\n",
       "  </tbody>\n",
       "</table>\n",
       "<p>8000 rows × 119 columns</p>\n",
       "</div>"
      ],
      "text/plain": [
       "     Group        I1        I2        I3        I4        I5        I6  \\\n",
       "0       G9  0.136495 -0.028429 -0.037772 -0.232459 -0.016222 -0.187506   \n",
       "1       G5 -0.714522 -0.042137 -0.052968 -0.796862 -0.018394  0.070102   \n",
       "2      G10  0.104791 -0.038188 -0.053191  0.620233  0.148587  0.489875   \n",
       "3       G2 -0.532847 -0.006582 -0.023377  1.306702 -0.068909  0.048024   \n",
       "4       G3 -0.200815 -0.016334 -0.036754 -0.886675  0.484495 -1.148744   \n",
       "...    ...       ...       ...       ...       ...       ...       ...   \n",
       "7995    G1 -0.946477 -0.039767 -0.051916       NaN -9.099326  1.470616   \n",
       "7996    G7 -0.521183 -0.038272 -0.047929 -0.820632 -0.179414 -0.774646   \n",
       "7997    G2  0.323233 -0.031075 -0.045713 -0.105448 -0.103823  0.153551   \n",
       "7998    G4  1.084416 -0.028497 -0.047528 -0.180118 -0.634162  0.143589   \n",
       "7999    G2  0.373261 -0.030294 -0.042319  0.675851 -0.099477 -0.113594   \n",
       "\n",
       "            I7        I8        I9  ...      dI51      dI52      dI53  \\\n",
       "0    -0.322545 -0.043743  0.125389  ...  0.102563  0.188481 -0.016027   \n",
       "1    -0.076321 -0.063864 -1.045521  ... -0.016375  0.020727 -0.006525   \n",
       "2     0.319274 -0.060246  0.053174  ...  0.272937  0.774169 -0.007144   \n",
       "3    -0.119481 -0.021057 -1.012916  ...  0.004938  0.018494 -0.003350   \n",
       "4     0.152517 -0.043580 -0.935537  ... -0.014812 -0.324584 -0.019002   \n",
       "...        ...       ...       ...  ...       ...       ...       ...   \n",
       "7995  1.470374 -0.045827 -1.323460  ...       NaN       NaN -0.015913   \n",
       "7996  0.413706 -0.051830 -0.378937  ... -0.168750  0.120571 -0.010506   \n",
       "7997 -0.052157 -0.056057 -0.163512  ...  0.245000  0.079662 -0.009150   \n",
       "7998 -0.033258 -0.058396  0.088713  ... -0.041688 -0.238481  0.006060   \n",
       "7999 -0.347344 -0.053667  0.004552  ... -0.053937 -0.073351 -0.000804   \n",
       "\n",
       "          dI54      dI55      dI56      dI57      dI58  Class   Perform  \n",
       "0    -0.135451 -0.189667  0.250967  0.022171 -0.004265     -1 -0.033764  \n",
       "1    -0.018790 -0.098543  0.317744 -0.180502 -0.009215      1  0.127771  \n",
       "2     0.123954  0.000000 -0.110103  0.186669 -0.030720      1  0.183500  \n",
       "3    -0.029214  0.045747 -0.076884 -0.037859 -0.012046     -1 -0.035668  \n",
       "4    -0.379323 -0.046024  0.282145  0.011008  0.010496      1  0.235055  \n",
       "...        ...       ...       ...       ...       ...    ...       ...  \n",
       "7995  0.019281 -0.000427 -0.642472 -4.266003  0.009687      1  0.239101  \n",
       "7996 -0.100286 -0.198928  0.053720 -0.001450 -0.001877      1  0.242938  \n",
       "7997 -0.191322 -0.083576  0.024407  0.299832 -0.011129      1  0.279085  \n",
       "7998 -0.016044       NaN  0.209235 -0.165349  0.012005     -1 -0.171056  \n",
       "7999 -0.118711 -0.106933 -0.034372  0.017757  0.005796      0 -0.004043  \n",
       "\n",
       "[8000 rows x 119 columns]"
      ]
     },
     "execution_count": 8,
     "metadata": {},
     "output_type": "execute_result"
    }
   ],
   "source": [
    "training_data"
   ]
  },
  {
   "cell_type": "code",
   "execution_count": 10,
   "id": "e9d62bd0-948b-4c12-99c2-78e2e384f55d",
   "metadata": {},
   "outputs": [
    {
     "data": {
      "text/plain": [
       "0.29411764705882354"
      ]
     },
     "execution_count": 10,
     "metadata": {},
     "output_type": "execute_result"
    }
   ],
   "source": [
    "28000 / (800 * 119) of data is NA or NaN "
   ]
  },
  {
   "cell_type": "code",
   "execution_count": 16,
   "id": "a1401a36-74b9-4cef-bb59-19e26f10db44",
   "metadata": {},
   "outputs": [
    {
     "data": {
      "text/plain": [
       "523"
      ]
     },
     "execution_count": 16,
     "metadata": {},
     "output_type": "execute_result"
    }
   ],
   "source": [
    "training_data['dI51'].isna()"
   ]
  },
  {
   "cell_type": "code",
   "execution_count": 22,
   "id": "c3362374-d9cf-47f0-9026-b4e583433a15",
   "metadata": {},
   "outputs": [
    {
     "data": {
      "text/plain": [
       "0"
      ]
     },
     "execution_count": 22,
     "metadata": {},
     "output_type": "execute_result"
    }
   ],
   "source": [
    "(training_data['dI51'] == \"NaN\").sum()"
   ]
  },
  {
   "cell_type": "code",
   "execution_count": 27,
   "id": "b278b44c-dc6b-4ba5-a87b-5f0e8ca677d4",
   "metadata": {},
   "outputs": [
    {
     "data": {
      "text/plain": [
       "Group        0\n",
       "I1           0\n",
       "I2           0\n",
       "I3           0\n",
       "I4         525\n",
       "          ... \n",
       "dI56        20\n",
       "dI57       135\n",
       "dI58       249\n",
       "Class        0\n",
       "Perform      0\n",
       "Length: 119, dtype: int64"
      ]
     },
     "execution_count": 27,
     "metadata": {},
     "output_type": "execute_result"
    }
   ],
   "source": [
    "training_data.isna().sum()"
   ]
  },
  {
   "cell_type": "code",
   "execution_count": 31,
   "id": "3737581d-9f74-407b-b4a5-c37a1045e729",
   "metadata": {},
   "outputs": [
    {
     "data": {
      "text/plain": [
       "-1    238\n",
       " 1    226\n",
       " 0     59\n",
       "Name: Class, dtype: int64"
      ]
     },
     "execution_count": 31,
     "metadata": {},
     "output_type": "execute_result"
    }
   ],
   "source": [
    "\n",
    "\n",
    "training_data[training_data['dI51'].isna()].Class.value_counts()"
   ]
  },
  {
   "cell_type": "code",
   "execution_count": 40,
   "id": "c03b2338-5fe6-45d9-abba-42387f8ff085",
   "metadata": {},
   "outputs": [
    {
     "data": {
      "text/plain": [
       " 1    259\n",
       "-1    244\n",
       " 0     82\n",
       "Name: Class, dtype: int64"
      ]
     },
     "execution_count": 40,
     "metadata": {},
     "output_type": "execute_result"
    }
   ],
   "source": [
    "training_data[training_data['Group'] == \"G8\"]['Class'].value_counts()\n"
   ]
  },
  {
   "cell_type": "code",
   "execution_count": 43,
   "id": "2aac1014-4242-4bb0-87f3-14d523b92c09",
   "metadata": {},
   "outputs": [
    {
     "data": {
      "text/plain": [
       "-1    238\n",
       " 1    228\n",
       " 0     59\n",
       "Name: Class, dtype: int64"
      ]
     },
     "execution_count": 43,
     "metadata": {},
     "output_type": "execute_result"
    }
   ],
   "source": [
    "training_data[training_data['I4'].isna()]['Class'].value_counts()"
   ]
  },
  {
   "cell_type": "code",
   "execution_count": null,
   "id": "08a23dc1-b06e-4a8c-a41d-11712e38add8",
   "metadata": {},
   "outputs": [],
   "source": []
  },
  {
   "cell_type": "code",
   "execution_count": null,
   "id": "86a88db6-2c3a-4e45-a640-56293f2775ce",
   "metadata": {},
   "outputs": [],
   "source": []
  },
  {
   "cell_type": "code",
   "execution_count": 54,
   "id": "318d8030-89dd-4c20-9262-06fd8b04e72c",
   "metadata": {},
   "outputs": [
    {
     "data": {
      "text/plain": [
       "28933"
      ]
     },
     "execution_count": 54,
     "metadata": {},
     "output_type": "execute_result"
    }
   ],
   "source": [
    "training_data.isnull().sum().sum()"
   ]
  },
  {
   "cell_type": "code",
   "execution_count": 55,
   "id": "2c2c8196-c592-4bef-b5fc-66f9682b1447",
   "metadata": {},
   "outputs": [
    {
     "data": {
      "text/plain": [
       "28933"
      ]
     },
     "execution_count": 55,
     "metadata": {},
     "output_type": "execute_result"
    }
   ],
   "source": [
    "training_data.isna().sum().sum()"
   ]
  },
  {
   "cell_type": "code",
   "execution_count": null,
   "id": "67ab683a-ef74-46f8-be85-f3a531b5e1ef",
   "metadata": {},
   "outputs": [],
   "source": []
  },
  {
   "cell_type": "code",
   "execution_count": null,
   "id": "e9e6a82a-9b20-43b2-8106-bdafbb256091",
   "metadata": {},
   "outputs": [],
   "source": []
  },
  {
   "cell_type": "code",
   "execution_count": null,
   "id": "eefecff5-08c4-479a-a389-e8cecaadb499",
   "metadata": {},
   "outputs": [],
   "source": []
  },
  {
   "cell_type": "code",
   "execution_count": null,
   "id": "ad43170b-ebb6-4c84-8cf6-c83808172f39",
   "metadata": {},
   "outputs": [],
   "source": []
  },
  {
   "cell_type": "code",
   "execution_count": null,
   "id": "0514e448-71de-4fe9-bbd5-5c4ccaada6b6",
   "metadata": {},
   "outputs": [],
   "source": []
  }
 ],
 "metadata": {
  "kernelspec": {
   "display_name": "Python 3 (ipykernel)",
   "language": "python",
   "name": "python3"
  },
  "language_info": {
   "codemirror_mode": {
    "name": "ipython",
    "version": 3
   },
   "file_extension": ".py",
   "mimetype": "text/x-python",
   "name": "python",
   "nbconvert_exporter": "python",
   "pygments_lexer": "ipython3",
   "version": "3.8.3"
  }
 },
 "nbformat": 4,
 "nbformat_minor": 5
}
