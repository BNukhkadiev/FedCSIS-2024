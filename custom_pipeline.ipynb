{
 "cells": [
  {
   "cell_type": "markdown",
   "id": "a00e2f80-a7e2-4bce-a469-dfdcc8f59cd7",
   "metadata": {},
   "source": [
    "Whats done in this notebook:\n",
    "\n",
    "- Encoding target label with LabelEncoder to be 0, 1, 2\n",
    "- Making dummies out of \"Group\" feature\n",
    "- Scaling numerical features with StandardScaler\n",
    "- Ran RandomForest, KNN, Catboost(catboost needs debugging, and training on gpu because the grid is too big for my laptop)\n",
    "\n",
    "- Then decided to reduce dimensionality because too many features that have low impact on target (refer to correlation map)\n",
    "- Ran PCA analysis to retrieve number of features to leave after dimensionality reduction.\n",
    "After getting this number (60), reduced dimensionality of data with PCA to 60 features\n",
    "\n",
    "\n",
    "Questions to ask: what to do with target? Does it make sense to have as 0, 1, 2? Or should we make a dummy vector out of it? What should we use as target metric when training? Can we use scorer given in Hackathon description?"
   ]
  },
  {
   "cell_type": "code",
   "execution_count": 1,
   "id": "bc5d8456-946c-4ad8-90fa-a6e461eb543e",
   "metadata": {},
   "outputs": [],
   "source": [
    "#TODO debug scoring metric to correspond with hackathon task\n",
    "\n",
    "import pandas as pd\n",
    "import numpy as np\n",
    "from sklearn.preprocessing import LabelEncoder\n",
    "from sklearn.preprocessing import StandardScaler\n",
    "from sklearn.impute import SimpleImputer\n",
    "from sklearn.model_selection import train_test_split\n",
    "from sklearn.ensemble import RandomForestClassifier\n",
    "from sklearn.model_selection import GridSearchCV\n",
    "from catboost import CatBoostClassifier\n",
    "from sklearn.neighbors import KNeighborsClassifier\n",
    "import cost_function\n",
    "from sklearn.decomposition import PCA\n",
    "from matplotlib import pyplot as plt\n",
    "from sklearn.linear_model import LogisticRegression\n",
    "from sklearn.impute import KNNImputer\n",
    "\n",
    "\n",
    "test_data_no_target = pd.read_csv('data/test_data_no_target.csv', sep=';', decimal=',')\n",
    "training_data = pd.read_csv('data/training_data.csv', sep=';', decimal=',')\n"
   ]
  },
  {
   "cell_type": "code",
   "execution_count": 2,
   "id": "45043024-002e-461a-b8f4-c38b745a1350",
   "metadata": {},
   "outputs": [],
   "source": [
    "def xy_split(data):\n",
    "    # splits data into features and target\n",
    "    X = data.drop(columns=['Class','Perform'])  \n",
    "    y = data['Class']\n",
    "    return X, y\n",
    "\n",
    "def encode(data):\n",
    "    # label encodes target to be 0, 1, 2\n",
    "    encoder = LabelEncoder()\n",
    "    tdata = data.copy()\n",
    "    tdata['Class'] = tdata[['Class']].apply(encoder.fit_transform)\n",
    "    return {\n",
    "        'enc': encoder,\n",
    "        'data': tdata, \n",
    "           }\n",
    "\n",
    "def decode(encoder, data):\n",
    "    # returns python list decoding back to -1, 0, 1\n",
    "    return encoder.inverse_transform(data.ravel()).tolist()\n",
    "\n",
    "def dummies(data):\n",
    "    # creates dummies from Group col\n",
    "    d = data.copy()\n",
    "    d = pd.concat((d.drop(columns=['Group']), pd.get_dummies(d['Group'])), axis=1)\n",
    "    return d\n",
    "\n",
    "def submit(path, predictions):\n",
    "    # writes submition file\n",
    "    with open(path, 'w') as f:\n",
    "        for prediction in predictions.tolist():\n",
    "            f.write(f\"{prediction}\\n\")  # Writing each prediction on a new line\n",
    "    \n",
    "    print(\"Submission file created:\", path)\n",
    "    return True\n",
    "\n",
    "\n",
    "def knn_imputer(data):\n",
    "    imputer = KNNImputer(n_neighbors=2)\n",
    "    data = imputer.fit_transform(data)\n",
    "    return (imputer, data)\n",
    "\n",
    "def target_eval(preds, test):\n",
    "    return cost_function.evaluate_error(preds,test)\n",
    "\n",
    "\n",
    "def pca_analysis(X_train):\n",
    "    # PCA\n",
    "    pca = PCA()\n",
    "    X_pca = pca.fit_transform(X_train)\n",
    "    \n",
    "    # Cumulative variance explained by the PCA components\n",
    "    cumulative_variance = np.cumsum(pca.explained_variance_ratio_)\n",
    "    \n",
    "    # Plotting the cumulative variance\n",
    "    plt.figure(figsize=(8, 4))\n",
    "    plt.plot(cumulative_variance, marker='o')\n",
    "    plt.xlabel('Number of Components')\n",
    "    plt.ylabel('Cumulative Explained Variance')\n",
    "    plt.title('Cumulative Explained Variance by PCA Components')\n",
    "    plt.grid(True)\n",
    "    # Draw a line at 90% variance explained (change this threshold as needed)\n",
    "    plt.axhline(y=0.90, color='r', linestyle='--')\n",
    "    plt.text(0.5, 0.85, '90% cut-off threshold', color = 'red', fontsize=12)\n",
    "    plt.show()\n",
    "\n",
    "def pca(data):\n",
    "    # Applying PCA\n",
    "    pca = PCA(n_components=2)\n",
    "    data = pca.fit_transform(data)\n",
    "    return pca, data\n"
   ]
  },
  {
   "cell_type": "code",
   "execution_count": 3,
   "id": "4f886a7e-187d-4ab3-8524-736bd029186b",
   "metadata": {},
   "outputs": [],
   "source": [
    "# preprocess parameters:\n",
    "preprocess_params = {\n",
    "    \"imputer\": [\"SimpleImputer\", \"KNNImputer\"],\n",
    "    \"n_neighbors\": [4, 6, 8, 10], # n_neighbours for knn imputer\n",
    "    \n",
    "}\n"
   ]
  },
  {
   "cell_type": "code",
   "execution_count": 4,
   "id": "dffca589-97b3-4634-83a5-7a4802eaa481",
   "metadata": {},
   "outputs": [],
   "source": [
    "encode_dct = encode(training_data)\n",
    "data = encode_dct['data']\n",
    "encoder = encode_dct['enc']\n",
    "\n",
    "data = dummies(data)\n",
    "X, y = xy_split(data)"
   ]
  },
  {
   "cell_type": "code",
   "execution_count": 5,
   "id": "383d0b47-5880-492b-9615-38cc037a21e1",
   "metadata": {},
   "outputs": [
    {
     "data": {
      "text/html": [
       "<div>\n",
       "<style scoped>\n",
       "    .dataframe tbody tr th:only-of-type {\n",
       "        vertical-align: middle;\n",
       "    }\n",
       "\n",
       "    .dataframe tbody tr th {\n",
       "        vertical-align: top;\n",
       "    }\n",
       "\n",
       "    .dataframe thead th {\n",
       "        text-align: right;\n",
       "    }\n",
       "</style>\n",
       "<table border=\"1\" class=\"dataframe\">\n",
       "  <thead>\n",
       "    <tr style=\"text-align: right;\">\n",
       "      <th></th>\n",
       "      <th>I1</th>\n",
       "      <th>I2</th>\n",
       "      <th>I3</th>\n",
       "      <th>I4</th>\n",
       "      <th>I5</th>\n",
       "      <th>I6</th>\n",
       "      <th>I7</th>\n",
       "      <th>I8</th>\n",
       "      <th>I9</th>\n",
       "      <th>I10</th>\n",
       "      <th>...</th>\n",
       "      <th>G10</th>\n",
       "      <th>G11</th>\n",
       "      <th>G2</th>\n",
       "      <th>G3</th>\n",
       "      <th>G4</th>\n",
       "      <th>G5</th>\n",
       "      <th>G6</th>\n",
       "      <th>G7</th>\n",
       "      <th>G8</th>\n",
       "      <th>G9</th>\n",
       "    </tr>\n",
       "  </thead>\n",
       "  <tbody>\n",
       "    <tr>\n",
       "      <th>0</th>\n",
       "      <td>0.136495</td>\n",
       "      <td>-0.028429</td>\n",
       "      <td>-0.037772</td>\n",
       "      <td>-0.232459</td>\n",
       "      <td>-0.016222</td>\n",
       "      <td>-0.187506</td>\n",
       "      <td>-0.322545</td>\n",
       "      <td>-0.043743</td>\n",
       "      <td>0.125389</td>\n",
       "      <td>-0.014757</td>\n",
       "      <td>...</td>\n",
       "      <td>0</td>\n",
       "      <td>0</td>\n",
       "      <td>0</td>\n",
       "      <td>0</td>\n",
       "      <td>0</td>\n",
       "      <td>0</td>\n",
       "      <td>0</td>\n",
       "      <td>0</td>\n",
       "      <td>0</td>\n",
       "      <td>1</td>\n",
       "    </tr>\n",
       "    <tr>\n",
       "      <th>1</th>\n",
       "      <td>-0.714522</td>\n",
       "      <td>-0.042137</td>\n",
       "      <td>-0.052968</td>\n",
       "      <td>-0.796862</td>\n",
       "      <td>-0.018394</td>\n",
       "      <td>0.070102</td>\n",
       "      <td>-0.076321</td>\n",
       "      <td>-0.063864</td>\n",
       "      <td>-1.045521</td>\n",
       "      <td>-0.037353</td>\n",
       "      <td>...</td>\n",
       "      <td>0</td>\n",
       "      <td>0</td>\n",
       "      <td>0</td>\n",
       "      <td>0</td>\n",
       "      <td>0</td>\n",
       "      <td>1</td>\n",
       "      <td>0</td>\n",
       "      <td>0</td>\n",
       "      <td>0</td>\n",
       "      <td>0</td>\n",
       "    </tr>\n",
       "    <tr>\n",
       "      <th>2</th>\n",
       "      <td>0.104791</td>\n",
       "      <td>-0.038188</td>\n",
       "      <td>-0.053191</td>\n",
       "      <td>0.620233</td>\n",
       "      <td>0.148587</td>\n",
       "      <td>0.489875</td>\n",
       "      <td>0.319274</td>\n",
       "      <td>-0.060246</td>\n",
       "      <td>0.053174</td>\n",
       "      <td>-0.025008</td>\n",
       "      <td>...</td>\n",
       "      <td>1</td>\n",
       "      <td>0</td>\n",
       "      <td>0</td>\n",
       "      <td>0</td>\n",
       "      <td>0</td>\n",
       "      <td>0</td>\n",
       "      <td>0</td>\n",
       "      <td>0</td>\n",
       "      <td>0</td>\n",
       "      <td>0</td>\n",
       "    </tr>\n",
       "    <tr>\n",
       "      <th>3</th>\n",
       "      <td>-0.532847</td>\n",
       "      <td>-0.006582</td>\n",
       "      <td>-0.023377</td>\n",
       "      <td>1.306702</td>\n",
       "      <td>-0.068909</td>\n",
       "      <td>0.048024</td>\n",
       "      <td>-0.119481</td>\n",
       "      <td>-0.021057</td>\n",
       "      <td>-1.012916</td>\n",
       "      <td>-0.011783</td>\n",
       "      <td>...</td>\n",
       "      <td>0</td>\n",
       "      <td>0</td>\n",
       "      <td>1</td>\n",
       "      <td>0</td>\n",
       "      <td>0</td>\n",
       "      <td>0</td>\n",
       "      <td>0</td>\n",
       "      <td>0</td>\n",
       "      <td>0</td>\n",
       "      <td>0</td>\n",
       "    </tr>\n",
       "    <tr>\n",
       "      <th>4</th>\n",
       "      <td>-0.200815</td>\n",
       "      <td>-0.016334</td>\n",
       "      <td>-0.036754</td>\n",
       "      <td>-0.886675</td>\n",
       "      <td>0.484495</td>\n",
       "      <td>-1.148744</td>\n",
       "      <td>0.152517</td>\n",
       "      <td>-0.043580</td>\n",
       "      <td>-0.935537</td>\n",
       "      <td>-0.023262</td>\n",
       "      <td>...</td>\n",
       "      <td>0</td>\n",
       "      <td>0</td>\n",
       "      <td>0</td>\n",
       "      <td>1</td>\n",
       "      <td>0</td>\n",
       "      <td>0</td>\n",
       "      <td>0</td>\n",
       "      <td>0</td>\n",
       "      <td>0</td>\n",
       "      <td>0</td>\n",
       "    </tr>\n",
       "    <tr>\n",
       "      <th>...</th>\n",
       "      <td>...</td>\n",
       "      <td>...</td>\n",
       "      <td>...</td>\n",
       "      <td>...</td>\n",
       "      <td>...</td>\n",
       "      <td>...</td>\n",
       "      <td>...</td>\n",
       "      <td>...</td>\n",
       "      <td>...</td>\n",
       "      <td>...</td>\n",
       "      <td>...</td>\n",
       "      <td>...</td>\n",
       "      <td>...</td>\n",
       "      <td>...</td>\n",
       "      <td>...</td>\n",
       "      <td>...</td>\n",
       "      <td>...</td>\n",
       "      <td>...</td>\n",
       "      <td>...</td>\n",
       "      <td>...</td>\n",
       "      <td>...</td>\n",
       "    </tr>\n",
       "    <tr>\n",
       "      <th>7995</th>\n",
       "      <td>-0.946477</td>\n",
       "      <td>-0.039767</td>\n",
       "      <td>-0.051916</td>\n",
       "      <td>NaN</td>\n",
       "      <td>-9.099326</td>\n",
       "      <td>1.470616</td>\n",
       "      <td>1.470374</td>\n",
       "      <td>-0.045827</td>\n",
       "      <td>-1.323460</td>\n",
       "      <td>-0.030871</td>\n",
       "      <td>...</td>\n",
       "      <td>0</td>\n",
       "      <td>0</td>\n",
       "      <td>0</td>\n",
       "      <td>0</td>\n",
       "      <td>0</td>\n",
       "      <td>0</td>\n",
       "      <td>0</td>\n",
       "      <td>0</td>\n",
       "      <td>0</td>\n",
       "      <td>0</td>\n",
       "    </tr>\n",
       "    <tr>\n",
       "      <th>7996</th>\n",
       "      <td>-0.521183</td>\n",
       "      <td>-0.038272</td>\n",
       "      <td>-0.047929</td>\n",
       "      <td>-0.820632</td>\n",
       "      <td>-0.179414</td>\n",
       "      <td>-0.774646</td>\n",
       "      <td>0.413706</td>\n",
       "      <td>-0.051830</td>\n",
       "      <td>-0.378937</td>\n",
       "      <td>-0.034396</td>\n",
       "      <td>...</td>\n",
       "      <td>0</td>\n",
       "      <td>0</td>\n",
       "      <td>0</td>\n",
       "      <td>0</td>\n",
       "      <td>0</td>\n",
       "      <td>0</td>\n",
       "      <td>0</td>\n",
       "      <td>1</td>\n",
       "      <td>0</td>\n",
       "      <td>0</td>\n",
       "    </tr>\n",
       "    <tr>\n",
       "      <th>7997</th>\n",
       "      <td>0.323233</td>\n",
       "      <td>-0.031075</td>\n",
       "      <td>-0.045713</td>\n",
       "      <td>-0.105448</td>\n",
       "      <td>-0.103823</td>\n",
       "      <td>0.153551</td>\n",
       "      <td>-0.052157</td>\n",
       "      <td>-0.056057</td>\n",
       "      <td>-0.163512</td>\n",
       "      <td>-0.018169</td>\n",
       "      <td>...</td>\n",
       "      <td>0</td>\n",
       "      <td>0</td>\n",
       "      <td>1</td>\n",
       "      <td>0</td>\n",
       "      <td>0</td>\n",
       "      <td>0</td>\n",
       "      <td>0</td>\n",
       "      <td>0</td>\n",
       "      <td>0</td>\n",
       "      <td>0</td>\n",
       "    </tr>\n",
       "    <tr>\n",
       "      <th>7998</th>\n",
       "      <td>1.084416</td>\n",
       "      <td>-0.028497</td>\n",
       "      <td>-0.047528</td>\n",
       "      <td>-0.180118</td>\n",
       "      <td>-0.634162</td>\n",
       "      <td>0.143589</td>\n",
       "      <td>-0.033258</td>\n",
       "      <td>-0.058396</td>\n",
       "      <td>0.088713</td>\n",
       "      <td>-0.021483</td>\n",
       "      <td>...</td>\n",
       "      <td>0</td>\n",
       "      <td>0</td>\n",
       "      <td>0</td>\n",
       "      <td>0</td>\n",
       "      <td>1</td>\n",
       "      <td>0</td>\n",
       "      <td>0</td>\n",
       "      <td>0</td>\n",
       "      <td>0</td>\n",
       "      <td>0</td>\n",
       "    </tr>\n",
       "    <tr>\n",
       "      <th>7999</th>\n",
       "      <td>0.373261</td>\n",
       "      <td>-0.030294</td>\n",
       "      <td>-0.042319</td>\n",
       "      <td>0.675851</td>\n",
       "      <td>-0.099477</td>\n",
       "      <td>-0.113594</td>\n",
       "      <td>-0.347344</td>\n",
       "      <td>-0.053667</td>\n",
       "      <td>0.004552</td>\n",
       "      <td>-0.013544</td>\n",
       "      <td>...</td>\n",
       "      <td>0</td>\n",
       "      <td>0</td>\n",
       "      <td>1</td>\n",
       "      <td>0</td>\n",
       "      <td>0</td>\n",
       "      <td>0</td>\n",
       "      <td>0</td>\n",
       "      <td>0</td>\n",
       "      <td>0</td>\n",
       "      <td>0</td>\n",
       "    </tr>\n",
       "  </tbody>\n",
       "</table>\n",
       "<p>8000 rows × 127 columns</p>\n",
       "</div>"
      ],
      "text/plain": [
       "            I1        I2        I3        I4        I5        I6        I7  \\\n",
       "0     0.136495 -0.028429 -0.037772 -0.232459 -0.016222 -0.187506 -0.322545   \n",
       "1    -0.714522 -0.042137 -0.052968 -0.796862 -0.018394  0.070102 -0.076321   \n",
       "2     0.104791 -0.038188 -0.053191  0.620233  0.148587  0.489875  0.319274   \n",
       "3    -0.532847 -0.006582 -0.023377  1.306702 -0.068909  0.048024 -0.119481   \n",
       "4    -0.200815 -0.016334 -0.036754 -0.886675  0.484495 -1.148744  0.152517   \n",
       "...        ...       ...       ...       ...       ...       ...       ...   \n",
       "7995 -0.946477 -0.039767 -0.051916       NaN -9.099326  1.470616  1.470374   \n",
       "7996 -0.521183 -0.038272 -0.047929 -0.820632 -0.179414 -0.774646  0.413706   \n",
       "7997  0.323233 -0.031075 -0.045713 -0.105448 -0.103823  0.153551 -0.052157   \n",
       "7998  1.084416 -0.028497 -0.047528 -0.180118 -0.634162  0.143589 -0.033258   \n",
       "7999  0.373261 -0.030294 -0.042319  0.675851 -0.099477 -0.113594 -0.347344   \n",
       "\n",
       "            I8        I9       I10  ...  G10  G11  G2  G3  G4  G5  G6  G7  G8  \\\n",
       "0    -0.043743  0.125389 -0.014757  ...    0    0   0   0   0   0   0   0   0   \n",
       "1    -0.063864 -1.045521 -0.037353  ...    0    0   0   0   0   1   0   0   0   \n",
       "2    -0.060246  0.053174 -0.025008  ...    1    0   0   0   0   0   0   0   0   \n",
       "3    -0.021057 -1.012916 -0.011783  ...    0    0   1   0   0   0   0   0   0   \n",
       "4    -0.043580 -0.935537 -0.023262  ...    0    0   0   1   0   0   0   0   0   \n",
       "...        ...       ...       ...  ...  ...  ...  ..  ..  ..  ..  ..  ..  ..   \n",
       "7995 -0.045827 -1.323460 -0.030871  ...    0    0   0   0   0   0   0   0   0   \n",
       "7996 -0.051830 -0.378937 -0.034396  ...    0    0   0   0   0   0   0   1   0   \n",
       "7997 -0.056057 -0.163512 -0.018169  ...    0    0   1   0   0   0   0   0   0   \n",
       "7998 -0.058396  0.088713 -0.021483  ...    0    0   0   0   1   0   0   0   0   \n",
       "7999 -0.053667  0.004552 -0.013544  ...    0    0   1   0   0   0   0   0   0   \n",
       "\n",
       "      G9  \n",
       "0      1  \n",
       "1      0  \n",
       "2      0  \n",
       "3      0  \n",
       "4      0  \n",
       "...   ..  \n",
       "7995   0  \n",
       "7996   0  \n",
       "7997   0  \n",
       "7998   0  \n",
       "7999   0  \n",
       "\n",
       "[8000 rows x 127 columns]"
      ]
     },
     "execution_count": 5,
     "metadata": {},
     "output_type": "execute_result"
    }
   ],
   "source": [
    "X"
   ]
  },
  {
   "cell_type": "code",
   "execution_count": 39,
   "id": "7fd893fd-e14f-4f62-b238-ade11a1fedde",
   "metadata": {},
   "outputs": [],
   "source": [
    "cat_cols = []\n",
    "bin_cols = []\n",
    "num_cols = []\n",
    "for col in X.columns.tolist():\n",
    "    if len(X[col].value_counts()) > 2 and len(X[col].value_counts())<10:\n",
    "        cat_cols.append(col)\n",
    "    elif len(X[col].value_counts()) == 2:\n",
    "        bin_cols.append(col)\n",
    "    else:\n",
    "        num_cols.append(col)"
   ]
  },
  {
   "cell_type": "code",
   "execution_count": 40,
   "id": "abd0488d-1504-47ff-9703-65f29ee336ce",
   "metadata": {},
   "outputs": [],
   "source": [
    "X_train, X_test, y_train, y_test = train_test_split(X, y, test_size=0.2, random_state=42)"
   ]
  },
  {
   "cell_type": "code",
   "execution_count": 41,
   "id": "341fa318-b450-47da-97f0-310e50b23e69",
   "metadata": {},
   "outputs": [],
   "source": [
    "# we scale and impute numerical data\n",
    "scaler = StandardScaler()\n",
    "# imp_mean = SimpleImputer(strategy='mean')\n",
    "imp_knn = KNNImputer(n_neighbors=2)\n",
    "X_train[num_cols] = imp_knn.fit_transform(X_train[num_cols])\n",
    "X_train[num_cols] = scaler.fit_transform(X_train[num_cols])"
   ]
  },
  {
   "cell_type": "code",
   "execution_count": 8,
   "id": "4a0d591c-27d9-423d-93f1-e67047b1d43c",
   "metadata": {},
   "outputs": [],
   "source": [
    "# Applying PCA\n",
    "pca = PCA(n_components=2)\n",
    "X_train = pca.fit_transform(X_train)\n"
   ]
  },
  {
   "cell_type": "code",
   "execution_count": 11,
   "id": "a7c886b0-b1d6-4154-84a3-c35ebd8e16e4",
   "metadata": {},
   "outputs": [
    {
     "data": {
      "text/html": [
       "<div>\n",
       "<style scoped>\n",
       "    .dataframe tbody tr th:only-of-type {\n",
       "        vertical-align: middle;\n",
       "    }\n",
       "\n",
       "    .dataframe tbody tr th {\n",
       "        vertical-align: top;\n",
       "    }\n",
       "\n",
       "    .dataframe thead th {\n",
       "        text-align: right;\n",
       "    }\n",
       "</style>\n",
       "<table border=\"1\" class=\"dataframe\">\n",
       "  <thead>\n",
       "    <tr style=\"text-align: right;\">\n",
       "      <th></th>\n",
       "      <th>I1</th>\n",
       "      <th>I2</th>\n",
       "      <th>I3</th>\n",
       "      <th>I4</th>\n",
       "      <th>I5</th>\n",
       "      <th>I6</th>\n",
       "      <th>I7</th>\n",
       "      <th>I8</th>\n",
       "      <th>I9</th>\n",
       "      <th>I10</th>\n",
       "      <th>...</th>\n",
       "      <th>G10</th>\n",
       "      <th>G11</th>\n",
       "      <th>G2</th>\n",
       "      <th>G3</th>\n",
       "      <th>G4</th>\n",
       "      <th>G5</th>\n",
       "      <th>G6</th>\n",
       "      <th>G7</th>\n",
       "      <th>G8</th>\n",
       "      <th>G9</th>\n",
       "    </tr>\n",
       "  </thead>\n",
       "  <tbody>\n",
       "    <tr>\n",
       "      <th>1467</th>\n",
       "      <td>0.732391</td>\n",
       "      <td>-0.049495</td>\n",
       "      <td>-0.108362</td>\n",
       "      <td>0.298748</td>\n",
       "      <td>-0.264023</td>\n",
       "      <td>0.287878</td>\n",
       "      <td>0.268980</td>\n",
       "      <td>-0.084291</td>\n",
       "      <td>0.710837</td>\n",
       "      <td>0.035030</td>\n",
       "      <td>...</td>\n",
       "      <td>0</td>\n",
       "      <td>0</td>\n",
       "      <td>0</td>\n",
       "      <td>0</td>\n",
       "      <td>0</td>\n",
       "      <td>0</td>\n",
       "      <td>1</td>\n",
       "      <td>0</td>\n",
       "      <td>0</td>\n",
       "      <td>0</td>\n",
       "    </tr>\n",
       "    <tr>\n",
       "      <th>5768</th>\n",
       "      <td>-1.210409</td>\n",
       "      <td>-0.178133</td>\n",
       "      <td>-0.111517</td>\n",
       "      <td>-0.984267</td>\n",
       "      <td>0.181695</td>\n",
       "      <td>-1.227170</td>\n",
       "      <td>-0.354102</td>\n",
       "      <td>-0.165851</td>\n",
       "      <td>-1.255166</td>\n",
       "      <td>-0.158515</td>\n",
       "      <td>...</td>\n",
       "      <td>0</td>\n",
       "      <td>0</td>\n",
       "      <td>0</td>\n",
       "      <td>0</td>\n",
       "      <td>0</td>\n",
       "      <td>0</td>\n",
       "      <td>0</td>\n",
       "      <td>1</td>\n",
       "      <td>0</td>\n",
       "      <td>0</td>\n",
       "    </tr>\n",
       "    <tr>\n",
       "      <th>5714</th>\n",
       "      <td>1.423492</td>\n",
       "      <td>0.193215</td>\n",
       "      <td>0.101814</td>\n",
       "      <td>1.978976</td>\n",
       "      <td>-0.126609</td>\n",
       "      <td>-0.101578</td>\n",
       "      <td>-0.362348</td>\n",
       "      <td>0.232707</td>\n",
       "      <td>1.894288</td>\n",
       "      <td>0.222632</td>\n",
       "      <td>...</td>\n",
       "      <td>0</td>\n",
       "      <td>0</td>\n",
       "      <td>0</td>\n",
       "      <td>0</td>\n",
       "      <td>0</td>\n",
       "      <td>0</td>\n",
       "      <td>0</td>\n",
       "      <td>0</td>\n",
       "      <td>0</td>\n",
       "      <td>1</td>\n",
       "    </tr>\n",
       "    <tr>\n",
       "      <th>1578</th>\n",
       "      <td>-0.526062</td>\n",
       "      <td>-0.132345</td>\n",
       "      <td>-0.132407</td>\n",
       "      <td>-0.257827</td>\n",
       "      <td>0.118047</td>\n",
       "      <td>-0.138916</td>\n",
       "      <td>-0.362079</td>\n",
       "      <td>-0.055179</td>\n",
       "      <td>0.868881</td>\n",
       "      <td>-0.098084</td>\n",
       "      <td>...</td>\n",
       "      <td>0</td>\n",
       "      <td>0</td>\n",
       "      <td>1</td>\n",
       "      <td>0</td>\n",
       "      <td>0</td>\n",
       "      <td>0</td>\n",
       "      <td>0</td>\n",
       "      <td>0</td>\n",
       "      <td>0</td>\n",
       "      <td>0</td>\n",
       "    </tr>\n",
       "    <tr>\n",
       "      <th>6958</th>\n",
       "      <td>-0.487524</td>\n",
       "      <td>-0.119949</td>\n",
       "      <td>-0.104892</td>\n",
       "      <td>-0.307236</td>\n",
       "      <td>-0.091554</td>\n",
       "      <td>-0.122655</td>\n",
       "      <td>-0.313843</td>\n",
       "      <td>-0.117239</td>\n",
       "      <td>-0.272218</td>\n",
       "      <td>-0.070974</td>\n",
       "      <td>...</td>\n",
       "      <td>0</td>\n",
       "      <td>0</td>\n",
       "      <td>0</td>\n",
       "      <td>0</td>\n",
       "      <td>0</td>\n",
       "      <td>0</td>\n",
       "      <td>1</td>\n",
       "      <td>0</td>\n",
       "      <td>0</td>\n",
       "      <td>0</td>\n",
       "    </tr>\n",
       "    <tr>\n",
       "      <th>...</th>\n",
       "      <td>...</td>\n",
       "      <td>...</td>\n",
       "      <td>...</td>\n",
       "      <td>...</td>\n",
       "      <td>...</td>\n",
       "      <td>...</td>\n",
       "      <td>...</td>\n",
       "      <td>...</td>\n",
       "      <td>...</td>\n",
       "      <td>...</td>\n",
       "      <td>...</td>\n",
       "      <td>...</td>\n",
       "      <td>...</td>\n",
       "      <td>...</td>\n",
       "      <td>...</td>\n",
       "      <td>...</td>\n",
       "      <td>...</td>\n",
       "      <td>...</td>\n",
       "      <td>...</td>\n",
       "      <td>...</td>\n",
       "      <td>...</td>\n",
       "    </tr>\n",
       "    <tr>\n",
       "      <th>5226</th>\n",
       "      <td>-0.624135</td>\n",
       "      <td>-0.055321</td>\n",
       "      <td>-0.046128</td>\n",
       "      <td>0.266004</td>\n",
       "      <td>-0.182178</td>\n",
       "      <td>-0.393785</td>\n",
       "      <td>-0.685215</td>\n",
       "      <td>-0.011061</td>\n",
       "      <td>-0.546427</td>\n",
       "      <td>0.004759</td>\n",
       "      <td>...</td>\n",
       "      <td>0</td>\n",
       "      <td>0</td>\n",
       "      <td>0</td>\n",
       "      <td>0</td>\n",
       "      <td>0</td>\n",
       "      <td>0</td>\n",
       "      <td>1</td>\n",
       "      <td>0</td>\n",
       "      <td>0</td>\n",
       "      <td>0</td>\n",
       "    </tr>\n",
       "    <tr>\n",
       "      <th>5390</th>\n",
       "      <td>-0.419770</td>\n",
       "      <td>-0.068757</td>\n",
       "      <td>-0.124992</td>\n",
       "      <td>-0.869505</td>\n",
       "      <td>-0.114277</td>\n",
       "      <td>-0.375066</td>\n",
       "      <td>-0.636289</td>\n",
       "      <td>-0.129584</td>\n",
       "      <td>-0.866527</td>\n",
       "      <td>-0.050418</td>\n",
       "      <td>...</td>\n",
       "      <td>0</td>\n",
       "      <td>0</td>\n",
       "      <td>0</td>\n",
       "      <td>0</td>\n",
       "      <td>0</td>\n",
       "      <td>1</td>\n",
       "      <td>0</td>\n",
       "      <td>0</td>\n",
       "      <td>0</td>\n",
       "      <td>0</td>\n",
       "    </tr>\n",
       "    <tr>\n",
       "      <th>860</th>\n",
       "      <td>0.436979</td>\n",
       "      <td>-0.060034</td>\n",
       "      <td>-0.064724</td>\n",
       "      <td>0.538795</td>\n",
       "      <td>-0.160971</td>\n",
       "      <td>-0.296817</td>\n",
       "      <td>-0.512428</td>\n",
       "      <td>-0.090959</td>\n",
       "      <td>0.326753</td>\n",
       "      <td>-0.021847</td>\n",
       "      <td>...</td>\n",
       "      <td>0</td>\n",
       "      <td>0</td>\n",
       "      <td>0</td>\n",
       "      <td>0</td>\n",
       "      <td>0</td>\n",
       "      <td>1</td>\n",
       "      <td>0</td>\n",
       "      <td>0</td>\n",
       "      <td>0</td>\n",
       "      <td>0</td>\n",
       "    </tr>\n",
       "    <tr>\n",
       "      <th>7603</th>\n",
       "      <td>-0.787789</td>\n",
       "      <td>-0.135103</td>\n",
       "      <td>-0.121600</td>\n",
       "      <td>-0.908511</td>\n",
       "      <td>-0.089124</td>\n",
       "      <td>-0.654887</td>\n",
       "      <td>0.099507</td>\n",
       "      <td>-0.148883</td>\n",
       "      <td>-0.881887</td>\n",
       "      <td>-0.138928</td>\n",
       "      <td>...</td>\n",
       "      <td>0</td>\n",
       "      <td>0</td>\n",
       "      <td>0</td>\n",
       "      <td>0</td>\n",
       "      <td>0</td>\n",
       "      <td>0</td>\n",
       "      <td>0</td>\n",
       "      <td>1</td>\n",
       "      <td>0</td>\n",
       "      <td>0</td>\n",
       "    </tr>\n",
       "    <tr>\n",
       "      <th>7270</th>\n",
       "      <td>-0.100185</td>\n",
       "      <td>0.010568</td>\n",
       "      <td>-0.010987</td>\n",
       "      <td>-0.534675</td>\n",
       "      <td>-0.374576</td>\n",
       "      <td>0.077874</td>\n",
       "      <td>-0.048339</td>\n",
       "      <td>-0.036142</td>\n",
       "      <td>-0.431897</td>\n",
       "      <td>-0.170187</td>\n",
       "      <td>...</td>\n",
       "      <td>0</td>\n",
       "      <td>0</td>\n",
       "      <td>0</td>\n",
       "      <td>0</td>\n",
       "      <td>0</td>\n",
       "      <td>1</td>\n",
       "      <td>0</td>\n",
       "      <td>0</td>\n",
       "      <td>0</td>\n",
       "      <td>0</td>\n",
       "    </tr>\n",
       "  </tbody>\n",
       "</table>\n",
       "<p>6400 rows × 127 columns</p>\n",
       "</div>"
      ],
      "text/plain": [
       "            I1        I2        I3        I4        I5        I6        I7  \\\n",
       "1467  0.732391 -0.049495 -0.108362  0.298748 -0.264023  0.287878  0.268980   \n",
       "5768 -1.210409 -0.178133 -0.111517 -0.984267  0.181695 -1.227170 -0.354102   \n",
       "5714  1.423492  0.193215  0.101814  1.978976 -0.126609 -0.101578 -0.362348   \n",
       "1578 -0.526062 -0.132345 -0.132407 -0.257827  0.118047 -0.138916 -0.362079   \n",
       "6958 -0.487524 -0.119949 -0.104892 -0.307236 -0.091554 -0.122655 -0.313843   \n",
       "...        ...       ...       ...       ...       ...       ...       ...   \n",
       "5226 -0.624135 -0.055321 -0.046128  0.266004 -0.182178 -0.393785 -0.685215   \n",
       "5390 -0.419770 -0.068757 -0.124992 -0.869505 -0.114277 -0.375066 -0.636289   \n",
       "860   0.436979 -0.060034 -0.064724  0.538795 -0.160971 -0.296817 -0.512428   \n",
       "7603 -0.787789 -0.135103 -0.121600 -0.908511 -0.089124 -0.654887  0.099507   \n",
       "7270 -0.100185  0.010568 -0.010987 -0.534675 -0.374576  0.077874 -0.048339   \n",
       "\n",
       "            I8        I9       I10  ...  G10  G11  G2  G3  G4  G5  G6  G7  G8  \\\n",
       "1467 -0.084291  0.710837  0.035030  ...    0    0   0   0   0   0   1   0   0   \n",
       "5768 -0.165851 -1.255166 -0.158515  ...    0    0   0   0   0   0   0   1   0   \n",
       "5714  0.232707  1.894288  0.222632  ...    0    0   0   0   0   0   0   0   0   \n",
       "1578 -0.055179  0.868881 -0.098084  ...    0    0   1   0   0   0   0   0   0   \n",
       "6958 -0.117239 -0.272218 -0.070974  ...    0    0   0   0   0   0   1   0   0   \n",
       "...        ...       ...       ...  ...  ...  ...  ..  ..  ..  ..  ..  ..  ..   \n",
       "5226 -0.011061 -0.546427  0.004759  ...    0    0   0   0   0   0   1   0   0   \n",
       "5390 -0.129584 -0.866527 -0.050418  ...    0    0   0   0   0   1   0   0   0   \n",
       "860  -0.090959  0.326753 -0.021847  ...    0    0   0   0   0   1   0   0   0   \n",
       "7603 -0.148883 -0.881887 -0.138928  ...    0    0   0   0   0   0   0   1   0   \n",
       "7270 -0.036142 -0.431897 -0.170187  ...    0    0   0   0   0   1   0   0   0   \n",
       "\n",
       "      G9  \n",
       "1467   0  \n",
       "5768   0  \n",
       "5714   1  \n",
       "1578   0  \n",
       "6958   0  \n",
       "...   ..  \n",
       "5226   0  \n",
       "5390   0  \n",
       "860    0  \n",
       "7603   0  \n",
       "7270   0  \n",
       "\n",
       "[6400 rows x 127 columns]"
      ]
     },
     "execution_count": 11,
     "metadata": {},
     "output_type": "execute_result"
    }
   ],
   "source": [
    "X_train"
   ]
  },
  {
   "cell_type": "code",
   "execution_count": null,
   "id": "bb51c06f-b048-46b9-9c1f-6dcc6ccea178",
   "metadata": {},
   "outputs": [],
   "source": []
  },
  {
   "cell_type": "code",
   "execution_count": null,
   "id": "c715deac-f31a-4f44-acdd-2ee33234d922",
   "metadata": {},
   "outputs": [],
   "source": [
    "plt.scatter(X_train[:,0], X_train[:,1], c=y_train)"
   ]
  },
  {
   "cell_type": "code",
   "execution_count": null,
   "id": "a1ade5bf-edc6-4f8e-89b7-e2fb44649dd7",
   "metadata": {},
   "outputs": [],
   "source": [
    "plt.plot(x=y=np.cumsum(y_train))"
   ]
  },
  {
   "cell_type": "code",
   "execution_count": null,
   "id": "dab8d2a1-7be3-41a8-8c1e-dce698a388f4",
   "metadata": {},
   "outputs": [],
   "source": [
    "def rf_classifier(X_train, y_train):\n",
    "    parameters = {\n",
    "        \"min_samples_split\": [30, 60, 90], # np.arange(2, 200),  # range(2, 200),\n",
    "        \"min_samples_leaf\": [5, 7, 10, 20] # np.arange(1, 200),  # range(1, 200),\n",
    "    }\n",
    "    clf = RandomForestClassifier(n_estimators=200, random_state=42)\n",
    "    grid_search = GridSearchCV(clf, parameters, scoring=\"f1_macro\", cv=5)\n",
    "    rf = grid_search.fit(X_train, y_train);\n",
    "    return rf\n",
    "\n",
    "def cb_classifier(X_train, y_train):\n",
    "    model = CatBoostClassifier(\n",
    "        iterations=1000, depth=6, learning_rate=0.1,\n",
    "        loss_function='', verbose=False)\n",
    "\n",
    "    PARAMS = {\n",
    "        \"n_estimators\": [300, 500, 700, 1000],  # [5, 10, 20, 30, 40, 50, 70, 100, 150, 200, 250, 300, 500, 1000],\n",
    "        \"learning_rate\": [0.05],  # [0.0001, 0.0005, 0.001, 0.005, 0.01, 0.02, 0.04, 0.05, 0.1, 0.2, 0.3, 0.5],\n",
    "        \"max_depth\": [4],  # np.arange(4, 20, 1),\n",
    "        \"l2_leaf_reg\": [10],  # np.arange(0.1, 1, 0.05),\n",
    "        \"subsample\": [0.6],  # [3, 5, 7, 10],\n",
    "    #     \"random_strength\": [2, 5, 8],  # [1, 2, 5, 10, 20, 50, 100],\n",
    "        \"min_data_in_leaf\": [100],  # np.arange(10, 1001, 10),\n",
    "    #     'task_type': ['GPU'],\n",
    "    #     'early_stopping_rounds': [10],\n",
    "    }\n",
    "    model.grid_search(PARAMS, X_train, y_train, cv=5, plot=True, refit=True)\n",
    "    return model\n",
    "    \n",
    "\n",
    "def knn_classifier(X_train, y_train):\n",
    "    neigh = KNeighborsClassifier()\n",
    "    parameters = {'n_neighbors': [i for i in range(5, 15)],\n",
    "                 'metric': ['manhattan'],\n",
    "                 }\n",
    "    \n",
    "    grid_search = GridSearchCV(estimator=neigh, param_grid=parameters, cv=10, refit=True, scoring=\"f1_macro\", n_jobs=-1,)\n",
    "    model = grid_search.fit(X_train, y_train)\n",
    "    return model\n",
    "\n",
    "def log_reg(X_train, y_train):\n",
    "    model = LogisticRegression()\n",
    "    model.fit(X_train, y_train)\n",
    "    return model\n",
    "    \n"
   ]
  },
  {
   "cell_type": "code",
   "execution_count": null,
   "id": "f50150ac-d653-4cd3-acf9-89203756fd83",
   "metadata": {
    "scrolled": true
   },
   "outputs": [],
   "source": [
    "model = rf_classifier(X_train, y_train)"
   ]
  },
  {
   "cell_type": "code",
   "execution_count": null,
   "id": "6e2db667-9ff3-4bcd-89f5-2cb28af6d08b",
   "metadata": {},
   "outputs": [],
   "source": [
    "model.best_estimator_"
   ]
  },
  {
   "cell_type": "code",
   "execution_count": null,
   "id": "34c5a9b8-d2fa-4d79-838d-8288604ae793",
   "metadata": {},
   "outputs": [],
   "source": [
    "X_test[num_cols] = imp_mean.transform(X_test[num_cols])\n",
    "X_test[num_cols] = scaler.transform(X_test[num_cols])\n",
    "X_test = pca.transform(X_test)\n",
    "\n",
    "preds = model.predict(X_test)\n"
   ]
  },
  {
   "cell_type": "code",
   "execution_count": null,
   "id": "83172790-38e1-4ad6-8a6b-f59459771368",
   "metadata": {},
   "outputs": [],
   "source": [
    "print(cost_function.evaluate_error(preds,y_test))"
   ]
  },
  {
   "cell_type": "markdown",
   "id": "54fddfe0-7f61-4258-a540-021dbeae9bf1",
   "metadata": {},
   "source": [
    "Submit"
   ]
  },
  {
   "cell_type": "code",
   "execution_count": 46,
   "id": "404c4b7e-bf25-4940-a9bc-bbecb6db2a29",
   "metadata": {},
   "outputs": [],
   "source": [
    "test = test_data_no_target.copy()"
   ]
  },
  {
   "cell_type": "code",
   "execution_count": 16,
   "id": "4dd46dc6-c4a7-45d0-83df-3c692cc649c4",
   "metadata": {},
   "outputs": [],
   "source": [
    "test = dummies(test)\n",
    "test[num_cols] = imp_mean.transform(test[num_cols])\n",
    "test[num_cols] = scaler.transform(test[num_cols])\n",
    "# test = pca.transform(test)\n"
   ]
  },
  {
   "cell_type": "code",
   "execution_count": null,
   "id": "18b4fb9d-4d1b-4b4b-972e-33adc8740ba3",
   "metadata": {},
   "outputs": [],
   "source": [
    "sub_preds = model.predict(test)\n",
    "sub_preds = encoder.inverse_transform(sub_preds)\n",
    "submit('submition_rf_pca.txt', sub_preds)"
   ]
  },
  {
   "cell_type": "code",
   "execution_count": null,
   "id": "91ff534d-d1c2-4364-8a2c-a0417c46ae6f",
   "metadata": {},
   "outputs": [],
   "source": []
  },
  {
   "cell_type": "markdown",
   "id": "c29e9bdb-cc32-4a50-bc6e-12a118603e6f",
   "metadata": {},
   "source": [
    "FNN approach"
   ]
  },
  {
   "cell_type": "code",
   "execution_count": 42,
   "id": "cb107f1e-2f76-47dc-8278-6c4eae4afad5",
   "metadata": {},
   "outputs": [],
   "source": [
    "import numpy as np\n",
    "import torch\n",
    "import torch.nn as nn\n",
    "from torch.utils.data import DataLoader, Dataset, TensorDataset\n",
    "\n",
    "DEVICE = torch.device(\"cuda\" if torch.cuda.is_available() else \"cpu\")\n",
    "torch.manual_seed(0)  # ensure reproducibility\n",
    "np.random.seed(0)\n",
    "BATCH_SIZE = 32"
   ]
  },
  {
   "cell_type": "code",
   "execution_count": 90,
   "id": "f02a4e4a-f571-4738-babf-d68c2c79b7c0",
   "metadata": {},
   "outputs": [
    {
     "name": "stdout",
     "output_type": "stream",
     "text": [
      "Epoch [1/10], Loss: 1.0165\n",
      "Epoch [2/10], Loss: 0.9903\n",
      "Epoch [3/10], Loss: 0.9742\n",
      "Epoch [4/10], Loss: 0.9591\n",
      "Epoch [5/10], Loss: 0.9447\n",
      "Epoch [6/10], Loss: 0.9253\n",
      "Epoch [7/10], Loss: 0.9062\n",
      "Epoch [8/10], Loss: 0.8820\n",
      "Epoch [9/10], Loss: 0.8526\n",
      "Epoch [10/10], Loss: 0.8210\n"
     ]
    }
   ],
   "source": [
    "import torch\n",
    "from torch.utils.data import DataLoader\n",
    "import torch.nn as nn\n",
    "import torch.optim as optim\n",
    "\n",
    "# Assuming you have preprocessed X_train and y_train as numpy arrays or torch tensors\n",
    "\n",
    "# Convert your data into PyTorch tensors\n",
    "X_train_tensor = torch.tensor(X_train.values, dtype=torch.float32)\n",
    "y_train_tensor = torch.tensor(y_train.values, dtype=torch.long)  # Assuming classification, adjust dtype if needed\n",
    "\n",
    "# Create a TensorDataset\n",
    "train_dataset = TensorDataset(X_train_tensor, y_train_tensor)\n",
    "\n",
    "# Set batch size\n",
    "batch_size = 64\n",
    "\n",
    "# Create a DataLoader\n",
    "train_loader = DataLoader(train_dataset, batch_size=batch_size, shuffle=True)\n",
    "\n",
    "# Define your neural network model\n",
    "class MyModel(nn.Module):\n",
    "    def __init__(self, input_size, hidden_size, num_classes):\n",
    "        super(MyModel, self).__init__()\n",
    "        self.fc1 = nn.Linear(input_size, hidden_size)\n",
    "        self.relu = nn.ReLU()\n",
    "        self.fc2 = nn.Linear(hidden_size, hidden_size)\n",
    "        self.fc3 = nn.Linear(hidden_size, hidden_size)\n",
    "        self.fc4 = nn.Linear(hidden_size, num_classes)\n",
    "    \n",
    "    def forward(self, x):\n",
    "        x = self.fc1(x)\n",
    "        x = self.relu(x)\n",
    "        x = self.fc2(x)\n",
    "        x = self.relu(x)\n",
    "        x = self.fc3(x)\n",
    "        x = self.relu(x)\n",
    "        x = self.fc4(x)\n",
    "        return x\n",
    "\n",
    "# Define your model, loss function, and optimizer\n",
    "input_size = X_train.shape[1]  # Assuming X_train is a 2D array\n",
    "hidden_size = 128  # You can adjust this as needed\n",
    "num_classes = len(set(y_train))  # Assuming y_train contains class labels\n",
    "model = MyModel(input_size, hidden_size, num_classes)\n",
    "criterion = nn.CrossEntropyLoss()\n",
    "optimizer = optim.Adam(model.parameters(), lr=0.001)\n",
    "\n",
    "# Training loop\n",
    "num_epochs = 10  # You can adjust this as needed\n",
    "for epoch in range(num_epochs):\n",
    "    running_loss = 0.0\n",
    "    for inputs, labels in train_loader:\n",
    "        # Zero the parameter gradients\n",
    "        optimizer.zero_grad()\n",
    "\n",
    "        # Forward pass\n",
    "        outputs = model(inputs)\n",
    "        loss = criterion(outputs, labels)\n",
    "\n",
    "        # Backward pass and optimize\n",
    "        loss.backward()\n",
    "        optimizer.step()\n",
    "\n",
    "        running_loss += loss.item() * inputs.size(0)\n",
    "    \n",
    "    epoch_loss = running_loss / len(train_loader.dataset)\n",
    "    print(f'Epoch [{epoch+1}/{num_epochs}], Loss: {epoch_loss:.4f}')\n"
   ]
  },
  {
   "cell_type": "code",
   "execution_count": 71,
   "id": "2fcbf5e8-8d6b-4e02-a5d4-7a90546fc582",
   "metadata": {},
   "outputs": [
    {
     "data": {
      "text/plain": [
       "1467    2\n",
       "5768    0\n",
       "5714    2\n",
       "1578    2\n",
       "6958    1\n",
       "       ..\n",
       "5226    2\n",
       "5390    0\n",
       "860     0\n",
       "7603    0\n",
       "7270    2\n",
       "Name: Class, Length: 6400, dtype: int64"
      ]
     },
     "execution_count": 71,
     "metadata": {},
     "output_type": "execute_result"
    }
   ],
   "source": [
    "y_train"
   ]
  },
  {
   "cell_type": "code",
   "execution_count": null,
   "id": "29b9dd93-16ab-4337-8a91-ebd237693ff5",
   "metadata": {},
   "outputs": [],
   "source": []
  },
  {
   "cell_type": "code",
   "execution_count": 47,
   "id": "b0c4a67a-fa3c-4a80-a0ec-969fedb15e70",
   "metadata": {},
   "outputs": [],
   "source": [
    "test = dummies(test)\n",
    "# test[num_cols] = imp_mean.transform(test[num_cols])\n",
    "test[num_cols] = imp_knn.transform(test[num_cols])\n",
    "\n",
    "test[num_cols] = scaler.transform(test[num_cols])"
   ]
  },
  {
   "cell_type": "code",
   "execution_count": 48,
   "id": "eb770cb2-838f-4fd0-92b2-7488b8edf7a4",
   "metadata": {},
   "outputs": [
    {
     "data": {
      "text/plain": [
       "tensor([[-0.0460, -0.1137, -0.0957,  ...,  0.0000,  0.0000,  0.0000],\n",
       "        [-0.6301, -0.1416, -0.1121,  ...,  0.0000,  0.0000,  1.0000],\n",
       "        [-0.9086, -0.1349, -0.0869,  ...,  1.0000,  0.0000,  0.0000],\n",
       "        ...,\n",
       "        [ 0.6406, -0.0062, -0.0698,  ...,  0.0000,  0.0000,  0.0000],\n",
       "        [-1.0658, -0.0960, -0.1180,  ...,  0.0000,  0.0000,  0.0000],\n",
       "        [ 0.6712, -0.0477, -0.0679,  ...,  0.0000,  1.0000,  0.0000]])"
      ]
     },
     "execution_count": 48,
     "metadata": {},
     "output_type": "execute_result"
    }
   ],
   "source": [
    "torch.tensor(test.values, dtype=torch.float32)"
   ]
  },
  {
   "cell_type": "code",
   "execution_count": 49,
   "id": "0554bdaa-c168-4811-afd4-841d6a37d751",
   "metadata": {},
   "outputs": [],
   "source": [
    "probas = model(torch.tensor(test.values, dtype=torch.float32))\n"
   ]
  },
  {
   "cell_type": "code",
   "execution_count": 50,
   "id": "7ab1ab47-d60e-4334-84e9-b67da406c0c4",
   "metadata": {},
   "outputs": [
    {
     "data": {
      "text/plain": [
       "tensor([[  3.4681,  -3.4596,  -2.8909],\n",
       "        [  2.4720,  -6.5256,   0.3184],\n",
       "        [  6.3748, -12.7719,  -0.1659],\n",
       "        ...,\n",
       "        [ -3.4082,  -5.5129,   5.1767],\n",
       "        [ -1.4690,  -1.7659,   0.6182],\n",
       "        [  1.2344,  -3.2272,  -0.5398]], grad_fn=<AddmmBackward0>)"
      ]
     },
     "execution_count": 50,
     "metadata": {},
     "output_type": "execute_result"
    }
   ],
   "source": [
    "# sub_preds = encoder.inverse_transform(sub_preds)\n",
    "probas"
   ]
  },
  {
   "cell_type": "code",
   "execution_count": 91,
   "id": "a7659c3f-5768-4d7b-96ba-4c1677054fe8",
   "metadata": {},
   "outputs": [
    {
     "name": "stdout",
     "output_type": "stream",
     "text": [
      "Train error: 0.55734375\n",
      "Test error: 0.985625\n"
     ]
    }
   ],
   "source": [
    "# Convert your test data into PyTorch tensor\n",
    "X_test_tensor = torch.tensor(X_test.values, dtype=torch.float32)\n",
    "\n",
    "# Set your model to evaluation mode\n",
    "model.eval()\n",
    "\n",
    "# Make predictions\n",
    "with torch.no_grad():\n",
    "    outputs = model(X_test_tensor)\n",
    "    _, predicted = torch.max(outputs, 1)\n",
    "\n",
    "# Convert predicted tensor to numpy array\n",
    "predicted_labels = predicted.numpy()\n",
    "\n",
    "# evaluate train and test\n",
    "\n",
    "\n",
    "with torch.no_grad():\n",
    "    train_outputs = model(X_train_tensor)\n",
    "    test_outputs = model(X_test_tensor)\n",
    "    _, train_preds = torch.max(train_outputs, 1)\n",
    "    _, test_preds = torch.max(test_outputs, 1)\n",
    "    \n",
    "print(f\"Train error: {target_eval(train_preds, y_train)}\")\n",
    "print(f\"Test error: {target_eval(test_preds, y_test)}\")\n"
   ]
  },
  {
   "cell_type": "code",
   "execution_count": 94,
   "id": "d9e7f5bd-f8bd-4124-9294-acedd3759041",
   "metadata": {},
   "outputs": [
    {
     "data": {
      "text/plain": [
       "1.0875"
      ]
     },
     "execution_count": 94,
     "metadata": {},
     "output_type": "execute_result"
    }
   ],
   "source": [
    "target_eval([0]*1600, y_test)"
   ]
  },
  {
   "cell_type": "code",
   "execution_count": 80,
   "id": "03c544b6-4ac6-4809-960a-e167a4f4445a",
   "metadata": {},
   "outputs": [
    {
     "data": {
      "text/plain": [
       "(1600,)"
      ]
     },
     "execution_count": 80,
     "metadata": {},
     "output_type": "execute_result"
    }
   ],
   "source": [
    "y_test.shape"
   ]
  },
  {
   "cell_type": "code",
   "execution_count": 85,
   "id": "95b17632-0171-43c9-b92c-3d9576d40aed",
   "metadata": {},
   "outputs": [
    {
     "data": {
      "text/plain": [
       "torch.Size([2000, 127])"
      ]
     },
     "execution_count": 85,
     "metadata": {},
     "output_type": "execute_result"
    }
   ],
   "source": [
    "X_test_tensor.shape"
   ]
  },
  {
   "cell_type": "code",
   "execution_count": 82,
   "id": "53f3846a-b244-4e48-b9ad-b75c0aabb833",
   "metadata": {},
   "outputs": [
    {
     "data": {
      "text/plain": [
       "torch.Size([2000, 3])"
      ]
     },
     "execution_count": 82,
     "metadata": {},
     "output_type": "execute_result"
    }
   ],
   "source": [
    "test_outputs.shape"
   ]
  },
  {
   "cell_type": "code",
   "execution_count": 39,
   "id": "a7b4749b-ce78-49cb-8322-489147770a95",
   "metadata": {},
   "outputs": [
    {
     "data": {
      "text/plain": [
       "array([0, 2, 0, ..., 0, 2, 0])"
      ]
     },
     "execution_count": 39,
     "metadata": {},
     "output_type": "execute_result"
    }
   ],
   "source": [
    "predicted_labels"
   ]
  },
  {
   "cell_type": "code",
   "execution_count": 40,
   "id": "5b9d32a3-bc5e-4c3c-8544-b7998c6ff1b5",
   "metadata": {},
   "outputs": [],
   "source": [
    "sub_preds = encoder.inverse_transform(predicted_labels)"
   ]
  },
  {
   "cell_type": "code",
   "execution_count": 41,
   "id": "7ae0cfef-9dc4-4123-82b3-cd5ad10a89b8",
   "metadata": {},
   "outputs": [
    {
     "data": {
      "text/plain": [
       "array([-1,  1, -1, ..., -1,  1, -1])"
      ]
     },
     "execution_count": 41,
     "metadata": {},
     "output_type": "execute_result"
    }
   ],
   "source": [
    "sub_preds"
   ]
  },
  {
   "cell_type": "code",
   "execution_count": 42,
   "id": "940eace3-5ece-4fc6-a0bb-637a18ea9faa",
   "metadata": {},
   "outputs": [
    {
     "name": "stdout",
     "output_type": "stream",
     "text": [
      "Submission file created: submition_fnn_4l_128p.txt\n"
     ]
    },
    {
     "data": {
      "text/plain": [
       "True"
      ]
     },
     "execution_count": 42,
     "metadata": {},
     "output_type": "execute_result"
    }
   ],
   "source": [
    "submit('submition_fnn_4l_128p.txt', sub_preds)"
   ]
  },
  {
   "cell_type": "code",
   "execution_count": 52,
   "id": "bbe855bf-1fd3-4f84-b585-d41bc2fb4f6b",
   "metadata": {},
   "outputs": [],
   "source": [
    "m = nn.Softmax()"
   ]
  },
  {
   "cell_type": "code",
   "execution_count": 53,
   "id": "2239ba16-7114-443c-806f-b94ee9142322",
   "metadata": {},
   "outputs": [
    {
     "name": "stderr",
     "output_type": "stream",
     "text": [
      "/var/folders/7y/57xm51hj4y11r4hg1s330bth0000gn/T/ipykernel_4272/420317210.py:1: UserWarning: Implicit dimension choice for softmax has been deprecated. Change the call to include dim=X as an argument.\n",
      "  q = m(probas)\n"
     ]
    },
    {
     "data": {
      "text/plain": [
       "tensor([[9.9730e-01, 9.7753e-04, 1.7264e-03],\n",
       "        [8.9591e-01, 1.1083e-04, 1.0398e-01],\n",
       "        [9.9856e-01, 4.8318e-09, 1.4415e-03],\n",
       "        ...,\n",
       "        [1.8686e-04, 2.2775e-05, 9.9979e-01],\n",
       "        [1.0198e-01, 7.5785e-02, 8.2223e-01],\n",
       "        [8.4662e-01, 9.7741e-03, 1.4361e-01]], grad_fn=<SoftmaxBackward0>)"
      ]
     },
     "execution_count": 53,
     "metadata": {},
     "output_type": "execute_result"
    }
   ],
   "source": [
    "q = m(probas)\n",
    "q"
   ]
  },
  {
   "cell_type": "code",
   "execution_count": 54,
   "id": "215b3f5a-f065-45b3-9494-479189ef45df",
   "metadata": {},
   "outputs": [
    {
     "data": {
      "text/plain": [
       "tensor(882)"
      ]
     },
     "execution_count": 54,
     "metadata": {},
     "output_type": "execute_result"
    }
   ],
   "source": [
    "sum(q[:, 2] > 0.7)\n",
    "sum(q[:, 0] > 0.7) "
   ]
  },
  {
   "cell_type": "code",
   "execution_count": 64,
   "id": "d7820992-eea6-45b2-b81a-0e2931aa33d1",
   "metadata": {},
   "outputs": [],
   "source": [
    "res = torch.zeros(2000, 1)\n",
    "res[q[:, 0] > 0.7] = -1\n",
    "res[q[:, 2] > 0.7] = 1\n"
   ]
  },
  {
   "cell_type": "code",
   "execution_count": 60,
   "id": "ac48b8ae-136e-4cf8-a6b8-1aa41a2277dc",
   "metadata": {},
   "outputs": [
    {
     "data": {
      "text/plain": [
       "torch.Size([2000, 1])"
      ]
     },
     "execution_count": 60,
     "metadata": {},
     "output_type": "execute_result"
    }
   ],
   "source": [
    "res.shape"
   ]
  },
  {
   "cell_type": "code",
   "execution_count": 65,
   "id": "682dc334-7c20-4bce-be3b-71f2bf7842e7",
   "metadata": {},
   "outputs": [],
   "source": [
    "res = res.reshape(2000).numpy()"
   ]
  },
  {
   "cell_type": "code",
   "execution_count": 66,
   "id": "b8ff7bd3-498a-4e64-8604-d4114987bcae",
   "metadata": {},
   "outputs": [
    {
     "data": {
      "text/plain": [
       "array([-1, -1, -1, ...,  1,  1, -1], dtype=int32)"
      ]
     },
     "execution_count": 66,
     "metadata": {},
     "output_type": "execute_result"
    }
   ],
   "source": [
    "res = res.astype(np.int32)\n",
    "res"
   ]
  },
  {
   "cell_type": "code",
   "execution_count": 68,
   "id": "c1f76caf-4e8b-4d8d-8012-09bb0a6d4aa5",
   "metadata": {},
   "outputs": [
    {
     "name": "stdout",
     "output_type": "stream",
     "text": [
      "Submission file created: submition_fnn_4l_128p_0_7_margin_knnimputer.txt\n"
     ]
    },
    {
     "data": {
      "text/plain": [
       "True"
      ]
     },
     "execution_count": 68,
     "metadata": {},
     "output_type": "execute_result"
    }
   ],
   "source": [
    "submit('submition_fnn_4l_128p_0_7_margin_knnimputer.txt', res)"
   ]
  },
  {
   "cell_type": "code",
   "execution_count": null,
   "id": "46abb51a-3b6f-4070-a982-cb0910ff0936",
   "metadata": {},
   "outputs": [],
   "source": []
  }
 ],
 "metadata": {
  "kernelspec": {
   "display_name": "Python 3 (ipykernel)",
   "language": "python",
   "name": "python3"
  },
  "language_info": {
   "codemirror_mode": {
    "name": "ipython",
    "version": 3
   },
   "file_extension": ".py",
   "mimetype": "text/x-python",
   "name": "python",
   "nbconvert_exporter": "python",
   "pygments_lexer": "ipython3",
   "version": "3.8.3"
  }
 },
 "nbformat": 4,
 "nbformat_minor": 5
}
